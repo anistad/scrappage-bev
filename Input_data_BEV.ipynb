{
 "cells": [
  {
   "cell_type": "markdown",
   "metadata": {},
   "source": [
    "# Input data for BEV program\n",
    "This script prepares the input data from the calculation of the LCA of the Replace and Retire program. "
   ]
  },
  {
   "cell_type": "code",
   "execution_count": 698,
   "metadata": {},
   "outputs": [],
   "source": [
    "%run initialize_notebook.ipynb\n",
    "plt.style.use('seaborn')"
   ]
  },
  {
   "cell_type": "markdown",
   "metadata": {},
   "source": [
    "### Data for size and number of cars on county level for the cities affected by driving bans "
   ]
  },
  {
   "cell_type": "markdown",
   "metadata": {},
   "source": [
    "Import the data from KBA (fz1) on county level from https://www.kba.de/DE/Statistik/Fahrzeuge/Bestand/ZulassungsbezirkeGemeinden/zulassungsbezirke_node.html\n",
    "\n",
    "Use this data and calculate the number of diesel (and potential petrol cars) affected by a driving ban limited to euro 5 or euro 4. Calculate the size distribution in each of these cities afterwards. \n",
    "\n",
    "\n",
    "The list of cities with excedance of the NO2-limits is available from: https://www.umweltbundesamt.de/sites/default/files/medien/2546/dokumente/no2-ueberschreitungen_staedte_stand_18.01.2019.pdf "
   ]
  },
  {
   "cell_type": "markdown",
   "metadata": {},
   "source": [
    "Importing the KBA data and create dataframes: "
   ]
  },
  {
   "cell_type": "code",
   "execution_count": 699,
   "metadata": {},
   "outputs": [],
   "source": [
    "path = \"./data/raw data/Replace and Retire/fz1_2019.xlsx\"\n",
    "\n",
    "#Number of cars by powertrain\n",
    "df = pd.read_excel(path, sheet_name = 'Pkw', skiprows = 6, header = 2)\n",
    "#Number of cars by motor size \n",
    "df_size = pd.read_excel(path, sheet_name = 'Kfz_u_Kfz_Anh', skiprows = 8)\n",
    "df_size = df_size[['Statistische Kennziffer und Zulassungsbezirk', 'Hubraum\\nbis \\n1.399 cm³', '1.400\\nbis\\n1.999 cm³', '2.000\\nund\\nmehr cm³','unbe-\\nkannt '    ]].iloc[0:444,:]\n",
    "\n",
    "#List of cities with potential driving bans/exceeding NO2 limits\n",
    "df_cities = pd.read_excel(\"./data/raw data/Replace and Retire/Cities_driving_bans.xlsx\", sheet_name = 'Modified list')"
   ]
  },
  {
   "cell_type": "code",
   "execution_count": 700,
   "metadata": {},
   "outputs": [],
   "source": [
    "#Dataframe with total number of cars by powertrain in each county\n",
    "df_tot = df[['Statistische Kennziffer und Zulassungsbezirk', 'Insgesamt', 'Benzin',\n",
    "       'Diesel', 'Hybrid \\ninsgesamt',\n",
    "       'darunter Hybrid mit \\nPlug-in', 'Elektro', 'sonstige']].iloc[0:444,:]\n",
    "\n",
    "#Dataframe with total number of petrol cars in each county \n",
    "df_petrol = df[['Statistische Kennziffer und Zulassungsbezirk','Euro 1',\n",
    "       'Euro 2', 'Euro 3', 'Euro 4', 'Euro 5', 'Euro 6', 'darunter\\nEuro 6d',\n",
    "       'darunter\\nEuro 6d-temp', 'sonstige.1',\n",
    "       'schadstoff-\\nreduzierte \\ninsgesamt']].iloc[0:444,:]\n",
    "#df_petrol.set_index('Statistische Kennziffer und Zulassungsbezirk', inplace = True)\n",
    "\n",
    "#Dataframe with total number of diesel cars in each county \n",
    "df_diesel = df[['Statistische Kennziffer und Zulassungsbezirk','Euro 1.1', 'Euro 2.1',\n",
    "       'Euro 3.1', 'Euro 4.1', 'Euro 5.1', 'Euro 6.1', 'darunter\\nEuro 6d.1',\n",
    "       'darunter\\nEuro 6d-temp.1', 'sonstige.2',\n",
    "       'schadstoffred.\\nmit Diesel-\\nantrieb insgesamt' ]].iloc[0:444,:]\n",
    "#set_index here?"
   ]
  },
  {
   "cell_type": "markdown",
   "metadata": {},
   "source": [
    "Some code to be able to match the list of cities (with NO2 exceedances) in with the cities of the KBA data: "
   ]
  },
  {
   "cell_type": "code",
   "execution_count": 701,
   "metadata": {},
   "outputs": [],
   "source": [
    "cities = df_cities.iloc[:,0].to_list()"
   ]
  },
  {
   "cell_type": "code",
   "execution_count": 702,
   "metadata": {},
   "outputs": [],
   "source": [
    "i = 0\n",
    "store_list = list()\n",
    "modified_list = list()\n",
    "for row, index in df_tot.iterrows(): \n",
    "    for city in cities:\n",
    "         if city.upper() in str(index[0]):\n",
    "                modified_list.append(str(index[0]))\n",
    "                store_list.append(city)\n",
    "        \n",
    "           "
   ]
  },
  {
   "cell_type": "code",
   "execution_count": 703,
   "metadata": {},
   "outputs": [],
   "source": [
    "#These cities are not found, need to check for consistency \n",
    "missing = (list(set(cities)-set(store_list)))"
   ]
  },
  {
   "cell_type": "code",
   "execution_count": 704,
   "metadata": {},
   "outputs": [],
   "source": [
    "for row, index in df_tot.iterrows(): \n",
    "    for city in missing: \n",
    "        if (city.split()[0]) in str(index[0]): \n",
    "            modified_list.append(str(index[0]))\n",
    "            store_list.append(city)"
   ]
  },
  {
   "cell_type": "markdown",
   "metadata": {},
   "source": [
    "These cities are not found in the data from KBA fz1 (so do not consider them for now): "
   ]
  },
  {
   "cell_type": "code",
   "execution_count": 705,
   "metadata": {},
   "outputs": [
    {
     "data": {
      "text/plain": [
       "['Leinfelden-Echterdingen', 'Pleidelsheim', 'Walzbachtal', 'Leonberg']"
      ]
     },
     "execution_count": 705,
     "metadata": {},
     "output_type": "execute_result"
    }
   ],
   "source": [
    "(list(set(cities)-set(store_list)))"
   ]
  },
  {
   "cell_type": "code",
   "execution_count": 706,
   "metadata": {},
   "outputs": [],
   "source": [
    "#Some of the citites are removed from the dataframe as they both are cities and regions\n",
    "modified_list.remove('08125  HEILBRONN                   ')\n",
    "modified_list.remove('09772  AUGSBURG                    ')\n",
    "modified_list.remove('06531  GIESSEN                     ')\n",
    "modified_list.remove('07339  MAINZ-BINGEN                ')\n",
    "modified_list.remove('14729  LEIPZIG                     ')\n",
    "modified_list.remove('07137  MAYEN-KOBLENZ               ')\n",
    "\n",
    " \n"
   ]
  },
  {
   "cell_type": "markdown",
   "metadata": {},
   "source": [
    "List of the 59 citites with driving bans found in fz1:\n",
    "-  from the 2019 updated list there are 67 cities \n",
    "-  remove the 4 that is green (NO2 values under limit) so far \n",
    "-  4 cities not found in fz1"
   ]
  },
  {
   "cell_type": "code",
   "execution_count": 707,
   "metadata": {},
   "outputs": [
    {
     "data": {
      "text/plain": [
       "['08111  STUTTGART,STADT             ',\n",
       " '08116  ESSLINGEN                   ',\n",
       " '08118  LUDWIGSBURG                 ',\n",
       " '08121  HEILBRONN,STADT             ',\n",
       " '08222  MANNHEIM,STADT              ',\n",
       " '08415  REUTLINGEN                  ',\n",
       " '09761  AUGSBURG,STADT              ',\n",
       " '11000  BERLIN                    ',\n",
       " '02000  HAMBURG                     ',\n",
       " '06411  DARMSTADT,STADT             ',\n",
       " '06412  FRANKFURT AM MAIN,STADT     ',\n",
       " '06413  OFFENBACH AM MAIN,STADT     ',\n",
       " '06414  WIESBADEN,STADT             ',\n",
       " '06531  GIESSEN                     ',\n",
       " '03241  HANNOVER                    ',\n",
       " '03254  HILDESHEIM                  ',\n",
       " '03458  OLDENBURG(OLDENBURG)        ',\n",
       " '03459  OSNABRUECK                  ',\n",
       " '05111  DUESSELDORF, STADT          ',\n",
       " '05112  DUISBURG,STADT              ',\n",
       " '05113  ESSEN,STADT                 ',\n",
       " '05116  MOENCHENGLADBACH,STADT      ',\n",
       " '05117  MUELHEIM A.D.RUHR,STADT     ',\n",
       " '05119  OBERHAUSEN,STADT            ',\n",
       " '05124  WUPPERTAL,STADT             ',\n",
       " '05162  NEUSS                       ',\n",
       " '05314  BONN,STADT                  ',\n",
       " '05315  KOELN,STADT                 ',\n",
       " '05316  LEVERKUSEN,STADT            ',\n",
       " '05334  AACHEN, STAEDTEREGION       ',\n",
       " '05362  RHEIN-ERFT-KREIS            ',\n",
       " '05513  GELSENKIRCHEN,STADT         ',\n",
       " '05562  RECKLINGHAUSEN              ',\n",
       " '05711  BIELEFELD,STADT             ',\n",
       " '05774  PADERBORN                   ',\n",
       " '05911  BOCHUM,STADT                ',\n",
       " '05913  DORTMUND,STADT              ',\n",
       " '05914  HAGEN,STADT                 ',\n",
       " '05916  HERNE,STADT                 ',\n",
       " '05970  SIEGEN-WITTGENSTEIN         ',\n",
       " '07111  KOBLENZ,STADT               ',\n",
       " '07315  MAINZ,STADT                 ',\n",
       " '14713  LEIPZIG, STADT              ',\n",
       " '15091  WITTENBERG                  ',\n",
       " '01002  KIEL,STADT                  ',\n",
       " '08115  BOEBLINGEN                  ',\n",
       " '08119  REMS-MURR-KREIS             ',\n",
       " '08135  HEIDENHEIM                  ',\n",
       " '08236  ENZKREIS                    ',\n",
       " '08311  FREIBURG I.BREISG.STADT     ',\n",
       " '08416  TUEBINGEN                   ',\n",
       " '09162  MUENCHEN,STADT              ',\n",
       " '09564  NUERNBERG,STADT             ',\n",
       " '06431  BERGSTRASSE                 ',\n",
       " '06533  LIMBURG-WEILBURG            ',\n",
       " '05170  WESEL                       ',\n",
       " '05358  DUEREN                      ',\n",
       " '05378  RHEIN.-BERGISCHER KREIS     ',\n",
       " '05978  UNNA                        ']"
      ]
     },
     "execution_count": 707,
     "metadata": {},
     "output_type": "execute_result"
    }
   ],
   "source": [
    "modified_list"
   ]
  },
  {
   "cell_type": "markdown",
   "metadata": {},
   "source": [
    "Filter out only the cities affected by diesel bans from the dataframes of total cars and calculate the number of cars <= euro 5:"
   ]
  },
  {
   "cell_type": "code",
   "execution_count": 708,
   "metadata": {},
   "outputs": [],
   "source": [
    "#Create dataframes only containing the relevant counties \n",
    "filter1 = df_diesel['Statistische Kennziffer und Zulassungsbezirk'].isin(modified_list)\n",
    "diesel_ban = df_diesel[filter1]\n",
    "petrol_ban = df_petrol[filter1]\n",
    "size_ban = df_size[filter1]\n",
    "\n",
    "#Setting index\n",
    "size_ban.set_index('Statistische Kennziffer und Zulassungsbezirk', inplace = True)\n",
    "diesel_ban.set_index('Statistische Kennziffer und Zulassungsbezirk', inplace = True)\n",
    "petrol_ban.set_index('Statistische Kennziffer und Zulassungsbezirk', inplace = True)"
   ]
  },
  {
   "cell_type": "markdown",
   "metadata": {},
   "source": [
    "The number of diesel cars <= euro 5 and <= euro 4 is: "
   ]
  },
  {
   "cell_type": "code",
   "execution_count": 709,
   "metadata": {
    "scrolled": true
   },
   "outputs": [
    {
     "name": "stdout",
     "output_type": "stream",
     "text": [
      "2575158.0\n",
      "1237060.0\n"
     ]
    }
   ],
   "source": [
    "print(sum(diesel_ban.iloc[:,0:5].sum(axis =1)))\n",
    "print(sum(diesel_ban.iloc[:,0:4].sum(axis =1)))\n",
    "\n"
   ]
  },
  {
   "cell_type": "code",
   "execution_count": 710,
   "metadata": {},
   "outputs": [
    {
     "data": {
      "text/plain": [
       "<matplotlib.axes._subplots.AxesSubplot at 0x1ce5970a7b8>"
      ]
     },
     "execution_count": 710,
     "metadata": {},
     "output_type": "execute_result"
    },
    {
     "data": {
      "image/png": "[encoded data removed]",
      "text/plain": [
       "<Figure size 576x396 with 1 Axes>"
      ]
     },
     "metadata": {},
     "output_type": "display_data"
    }
   ],
   "source": [
    "diesel_ban.iloc[:,0:5].sum(axis = 0).plot.barh(stacked = True)"
   ]
  },
  {
   "cell_type": "markdown",
   "metadata": {},
   "source": [
    "In some of the cities also petrol cars less than euro 2 or/and euro 1 is considered. \n",
    "Calculate the number of these cars and the share of them compared to diesel cars older or equal to euro 5: "
   ]
  },
  {
   "cell_type": "code",
   "execution_count": 711,
   "metadata": {},
   "outputs": [
    {
     "name": "stdout",
     "output_type": "stream",
     "text": [
      "1122444.0\n",
      "0.4358738376441368\n"
     ]
    }
   ],
   "source": [
    "print(sum(petrol_ban.iloc[:,0:2].sum(axis =1)))\n",
    "\n",
    "print(sum(petrol_ban.iloc[:,0:2].sum(axis =1))/sum(diesel_ban.iloc[:,0:5].sum(axis =1)))"
   ]
  },
  {
   "cell_type": "markdown",
   "metadata": {},
   "source": [
    "Need the size distribution in each of the cities with potential driving bans. \n",
    "The differences in size distribution are quite large among the counties: \n",
    "-  lowest share of small vehicles in München (26 %) and highest in Bochum (43 %) \n",
    "- lowest share of medium vehicles in Oberhausn (44 %) and highest in Bonn (53 %)\n",
    "- lowest share of large vehicles in Wittenberg (10 %) and highest in Stuttgart (23%)"
   ]
  },
  {
   "cell_type": "code",
   "execution_count": 712,
   "metadata": {},
   "outputs": [],
   "source": [
    "size_dist = list()\n",
    "for row, index in size_ban.iterrows(): \n",
    "    size_dist.append(index[0:3]/sum(index[0:3]))\n",
    "size_dist = pd.concat(size_dist, axis = 1).T    \n",
    "    #size_ban.set_index('Statistische Kennziffer und Zulassungsbezirk').iloc[:,1:4].sum(axis =1)"
   ]
  },
  {
   "cell_type": "code",
   "execution_count": 713,
   "metadata": {},
   "outputs": [
    {
     "name": "stdout",
     "output_type": "stream",
     "text": [
      "[('09162  MUENCHEN,STADT                   ', 0.26567474489089693), ('05119  OBERHAUSEN,STADT                 ', 0.44483982534653826), ('15091  WITTENBERG                       ', 0.10103133941047308)]\n",
      "[('05911  BOCHUM,STADT                     ', 0.43003293285357075), ('05314  BONN,STADT                       ', 0.5319831986632179), ('08111  STUTTGART,STADT                  ', 0.2251357052172783)]\n"
     ]
    }
   ],
   "source": [
    "print(list(zip(size_dist.idxmin(), size_dist.min())))\n",
    "print(list(zip(size_dist.idxmax(), size_dist.max())))"
   ]
  },
  {
   "cell_type": "markdown",
   "metadata": {},
   "source": [
    "Creating a dataframe with the euro class and size distribution of the old  DIESEL cars. Have to assume the same size distribution across all emission concepts:"
   ]
  },
  {
   "cell_type": "code",
   "execution_count": 714,
   "metadata": {},
   "outputs": [
    {
     "data": {
      "text/html": [
       "<div>\n",
       "<style scoped>\n",
       "    .dataframe tbody tr th:only-of-type {\n",
       "        vertical-align: middle;\n",
       "    }\n",
       "\n",
       "    .dataframe tbody tr th {\n",
       "        vertical-align: top;\n",
       "    }\n",
       "\n",
       "    .dataframe thead th {\n",
       "        text-align: right;\n",
       "    }\n",
       "</style>\n",
       "<table border=\"1\" class=\"dataframe\">\n",
       "  <thead>\n",
       "    <tr style=\"text-align: right;\">\n",
       "      <th></th>\n",
       "      <th></th>\n",
       "      <th>Hubraum\n",
       "bis \n",
       "1.399 cm³</th>\n",
       "      <th>1.400\n",
       "bis\n",
       "1.999 cm³</th>\n",
       "      <th>2.000\n",
       "und\n",
       "mehr cm³</th>\n",
       "    </tr>\n",
       "    <tr>\n",
       "      <th>Statistische Kennziffer und Zulassungsbezirk</th>\n",
       "      <th></th>\n",
       "      <th></th>\n",
       "      <th></th>\n",
       "      <th></th>\n",
       "    </tr>\n",
       "  </thead>\n",
       "  <tbody>\n",
       "    <tr>\n",
       "      <th rowspan=\"5\" valign=\"top\">08111  STUTTGART,STADT</th>\n",
       "      <th>Euro 1.1</th>\n",
       "      <td>45.196978</td>\n",
       "      <td>72.582394</td>\n",
       "      <td>34.220627</td>\n",
       "    </tr>\n",
       "    <tr>\n",
       "      <th>Euro 2.1</th>\n",
       "      <td>768.051283</td>\n",
       "      <td>1233.423190</td>\n",
       "      <td>581.525527</td>\n",
       "    </tr>\n",
       "    <tr>\n",
       "      <th>Euro 3.1</th>\n",
       "      <td>2173.915188</td>\n",
       "      <td>3491.117671</td>\n",
       "      <td>1645.967141</td>\n",
       "    </tr>\n",
       "    <tr>\n",
       "      <th>Euro 4.1</th>\n",
       "      <td>3666.902216</td>\n",
       "      <td>5888.724268</td>\n",
       "      <td>2776.373517</td>\n",
       "    </tr>\n",
       "    <tr>\n",
       "      <th>Euro 5.1</th>\n",
       "      <td>7669.213586</td>\n",
       "      <td>12316.086305</td>\n",
       "      <td>5806.700109</td>\n",
       "    </tr>\n",
       "    <tr>\n",
       "      <th rowspan=\"5\" valign=\"top\">08115  BOEBLINGEN</th>\n",
       "      <th>Euro 1.1</th>\n",
       "      <td>72.581970</td>\n",
       "      <td>108.882964</td>\n",
       "      <td>47.535066</td>\n",
       "    </tr>\n",
       "    <tr>\n",
       "      <th>Euro 2.1</th>\n",
       "      <td>783.504931</td>\n",
       "      <td>1175.365445</td>\n",
       "      <td>513.129624</td>\n",
       "    </tr>\n",
       "    <tr>\n",
       "      <th>Euro 3.1</th>\n",
       "      <td>2298.217741</td>\n",
       "      <td>3447.643543</td>\n",
       "      <td>1505.138716</td>\n",
       "    </tr>\n",
       "    <tr>\n",
       "      <th>Euro 4.1</th>\n",
       "      <td>4375.837006</td>\n",
       "      <td>6564.358952</td>\n",
       "      <td>2865.804042</td>\n",
       "    </tr>\n",
       "    <tr>\n",
       "      <th>Euro 5.1</th>\n",
       "      <td>8327.909412</td>\n",
       "      <td>12493.012564</td>\n",
       "      <td>5454.078024</td>\n",
       "    </tr>\n",
       "  </tbody>\n",
       "</table>\n",
       "</div>"
      ],
      "text/plain": [
       "                                                       Hubraum\\nbis \\n1.399 cm³  \\\n",
       "Statistische Kennziffer und Zulassungsbezirk                                      \n",
       "08111  STUTTGART,STADT                       Euro 1.1                 45.196978   \n",
       "                                             Euro 2.1                768.051283   \n",
       "                                             Euro 3.1               2173.915188   \n",
       "                                             Euro 4.1               3666.902216   \n",
       "                                             Euro 5.1               7669.213586   \n",
       "08115  BOEBLINGEN                            Euro 1.1                 72.581970   \n",
       "                                             Euro 2.1                783.504931   \n",
       "                                             Euro 3.1               2298.217741   \n",
       "                                             Euro 4.1               4375.837006   \n",
       "                                             Euro 5.1               8327.909412   \n",
       "\n",
       "                                                       1.400\\nbis\\n1.999 cm³  \\\n",
       "Statistische Kennziffer und Zulassungsbezirk                                   \n",
       "08111  STUTTGART,STADT                       Euro 1.1              72.582394   \n",
       "                                             Euro 2.1            1233.423190   \n",
       "                                             Euro 3.1            3491.117671   \n",
       "                                             Euro 4.1            5888.724268   \n",
       "                                             Euro 5.1           12316.086305   \n",
       "08115  BOEBLINGEN                            Euro 1.1             108.882964   \n",
       "                                             Euro 2.1            1175.365445   \n",
       "                                             Euro 3.1            3447.643543   \n",
       "                                             Euro 4.1            6564.358952   \n",
       "                                             Euro 5.1           12493.012564   \n",
       "\n",
       "                                                       2.000\\nund\\nmehr cm³  \n",
       "Statistische Kennziffer und Zulassungsbezirk                                 \n",
       "08111  STUTTGART,STADT                       Euro 1.1             34.220627  \n",
       "                                             Euro 2.1            581.525527  \n",
       "                                             Euro 3.1           1645.967141  \n",
       "                                             Euro 4.1           2776.373517  \n",
       "                                             Euro 5.1           5806.700109  \n",
       "08115  BOEBLINGEN                            Euro 1.1             47.535066  \n",
       "                                             Euro 2.1            513.129624  \n",
       "                                             Euro 3.1           1505.138716  \n",
       "                                             Euro 4.1           2865.804042  \n",
       "                                             Euro 5.1           5454.078024  "
      ]
     },
     "execution_count": 714,
     "metadata": {},
     "output_type": "execute_result"
    }
   ],
   "source": [
    "idx = 0\n",
    "keys_size = list(size_dist.iloc[1,:].index)\n",
    "df_list = list()\n",
    "for row, index in diesel_ban.iloc[:,0:5].iterrows(): \n",
    "    temp = [index*size_dist.iloc[idx,:].values[i] for i in [0,1,2]]\n",
    "    idx+=1\n",
    "    df = pd.concat(temp, axis = 1, keys = keys_size)\n",
    "    df_list.append(df)\n",
    "df_old = pd.concat(df_list, keys = diesel_ban.index)\n",
    "\n",
    "#Dataframe with number of diesel cars per emission concept and size class \n",
    "df_old.head(10)\n"
   ]
  },
  {
   "cell_type": "code",
   "execution_count": 715,
   "metadata": {},
   "outputs": [],
   "source": [
    "#Checking that the size distribution is the same as before REWRITE\n",
    "index_list = list(df_old.groupby('Statistische Kennziffer und Zulassungsbezirk').sum().index)\n",
    "df_size=pd.DataFrame([df_old.loc[index_list[i]].sum(axis = 0)/sum(df_old.loc[index_list[i]].sum(axis = 0)) for i in np.arange(len(index_list))]).set_index(size_dist.index)\n",
    "\n",
    "#for row, index in df_check.iterrows(): \n",
    " #   print(index)\n",
    "  #  #df_size = df_size[['Statistische Kennziffer und Zulassungsbezirk', 'Hubraum\\nbis \\n1.399 cm³', '1.400\\nbis\\n1.999 cm³', '2.000\\nund\\nmehr cm³','unbe-\\nkannt '    ]].iloc[0:444,:]\n",
    "\n",
    "\n",
    "\n"
   ]
  },
  {
   "cell_type": "markdown",
   "metadata": {},
   "source": [
    "The program should be limited to less cars than 2 million (ref. program from 2009). Assume that all euro 4 cars will be involved and that the rest of the budget will be dedicated to some euro 5 cars: "
   ]
  },
  {
   "cell_type": "code",
   "execution_count": 716,
   "metadata": {},
   "outputs": [
    {
     "name": "stdout",
     "output_type": "stream",
     "text": [
      "2000000.000000001\n"
     ]
    }
   ],
   "source": [
    "#Program limited to euro 4 and including some euro 5 for the rest of the budget\n",
    "tot_cars_in_program = 2000000\n",
    "share_euro5 = (tot_cars_in_program-sum(diesel_ban.iloc[:,0:4].sum(axis =1)))/(sum(diesel_ban.iloc[:,0:5].sum(axis =1))-sum(diesel_ban.iloc[:,0:4].sum(axis =1)))\n",
    "for row, index in df_old.iterrows(): \n",
    "    if 'Euro 5.1' in row: \n",
    "        df_old.loc[row] = df_old.loc[row]*share_euro5\n",
    "    #If one \n",
    "#    if 'Euro 4.1' in row: \n",
    "#        df_old.loc[row] = df_old.loc[row]*0\n",
    "        \n",
    "#Checking that the number is still equal to tot_cars_in_program\n",
    "df_old.groupby('Statistische Kennziffer und Zulassungsbezirk').sum()\n",
    "print(sum(df_old.sum()))"
   ]
  },
  {
   "cell_type": "markdown",
   "metadata": {},
   "source": [
    "If I want to limit the program to only euro 4 cars or euro 3 this code can be used: "
   ]
  },
  {
   "cell_type": "code",
   "execution_count": 717,
   "metadata": {},
   "outputs": [],
   "source": [
    "#for row, index in df_old.iterrows(): \n",
    "#    if 'Euro 5.1' in row: \n",
    "#        df_old.loc[row] = df_old.loc[row]*0\n",
    "#    if 'Euro 4.1' in row: \n",
    "#        df_old.loc[row] = df_old.loc[row]*0\n",
    "        "
   ]
  },
  {
   "cell_type": "markdown",
   "metadata": {},
   "source": [
    "Checking that the total number of cars from the dataframe diesel_ban equals the sum over all size classes "
   ]
  },
  {
   "cell_type": "code",
   "execution_count": 718,
   "metadata": {},
   "outputs": [
    {
     "name": "stdout",
     "output_type": "stream",
     "text": [
      "08111  STUTTGART,STADT             \n",
      "08115  BOEBLINGEN                  \n",
      "08116  ESSLINGEN                   \n",
      "08118  LUDWIGSBURG                 \n",
      "08119  REMS-MURR-KREIS             \n",
      "08121  HEILBRONN,STADT             \n",
      "08135  HEIDENHEIM                  \n",
      "08222  MANNHEIM,STADT              \n",
      "08236  ENZKREIS                    \n",
      "08311  FREIBURG I.BREISG.STADT     \n",
      "08415  REUTLINGEN                  \n",
      "08416  TUEBINGEN                   \n",
      "09162  MUENCHEN,STADT              \n",
      "09564  NUERNBERG,STADT             \n",
      "09761  AUGSBURG,STADT              \n",
      "11000  BERLIN                    \n",
      "02000  HAMBURG                     \n",
      "06411  DARMSTADT,STADT             \n",
      "06412  FRANKFURT AM MAIN,STADT     \n",
      "06413  OFFENBACH AM MAIN,STADT     \n",
      "06414  WIESBADEN,STADT             \n",
      "06431  BERGSTRASSE                 \n",
      "06531  GIESSEN                     \n",
      "06533  LIMBURG-WEILBURG            \n",
      "03241  HANNOVER                    \n",
      "03254  HILDESHEIM                  \n",
      "03458  OLDENBURG(OLDENBURG)        \n",
      "03459  OSNABRUECK                  \n",
      "05111  DUESSELDORF, STADT          \n",
      "05112  DUISBURG,STADT              \n",
      "05113  ESSEN,STADT                 \n",
      "05116  MOENCHENGLADBACH,STADT      \n",
      "05117  MUELHEIM A.D.RUHR,STADT     \n",
      "05119  OBERHAUSEN,STADT            \n",
      "05124  WUPPERTAL,STADT             \n",
      "05162  NEUSS                       \n",
      "05170  WESEL                       \n",
      "05314  BONN,STADT                  \n",
      "05315  KOELN,STADT                 \n",
      "05316  LEVERKUSEN,STADT            \n",
      "05334  AACHEN, STAEDTEREGION       \n",
      "05358  DUEREN                      \n",
      "05362  RHEIN-ERFT-KREIS            \n",
      "05378  RHEIN.-BERGISCHER KREIS     \n",
      "05513  GELSENKIRCHEN,STADT         \n",
      "05562  RECKLINGHAUSEN              \n",
      "05711  BIELEFELD,STADT             \n",
      "05774  PADERBORN                   \n",
      "05911  BOCHUM,STADT                \n",
      "05913  DORTMUND,STADT              \n",
      "05914  HAGEN,STADT                 \n",
      "05916  HERNE,STADT                 \n",
      "05970  SIEGEN-WITTGENSTEIN         \n",
      "05978  UNNA                        \n",
      "07111  KOBLENZ,STADT               \n",
      "07315  MAINZ,STADT                 \n",
      "14713  LEIPZIG, STADT              \n",
      "15091  WITTENBERG                  \n",
      "01002  KIEL,STADT                  \n"
     ]
    }
   ],
   "source": [
    "\n",
    "for i in np.arange(0,len(diesel_ban)): \n",
    "    if (sum(df_old.xs(diesel_ban.index[i], level = 0).sum(axis = 1)) == diesel_ban.iloc[:,0:5].sum(axis =1)[i]):\n",
    "        print(sum(df_old.xs(diesel_ban.index[i], level = 0).sum(axis = 1)) == diesel_ban.iloc[:,0:5].sum(axis =1)[i])\n",
    "    else: \n",
    "        print(diesel_ban.index[i])"
   ]
  },
  {
   "cell_type": "markdown",
   "metadata": {},
   "source": [
    "### Plotting the size and emission concepts in each county"
   ]
  },
  {
   "cell_type": "code",
   "execution_count": 719,
   "metadata": {},
   "outputs": [
    {
     "data": {
      "text/plain": [
       "<matplotlib.axes._subplots.AxesSubplot at 0x1ce58f98518>"
      ]
     },
     "execution_count": 719,
     "metadata": {},
     "output_type": "execute_result"
    },
    {
     "data": {
      "image/png": "[encoded data removed]",
      "text/plain": [
       "<Figure size 576x396 with 1 Axes>"
      ]
     },
     "metadata": {},
     "output_type": "display_data"
    }
   ],
   "source": [
    "#Can plot distribution of emission concepts and size for each county like this \n",
    "df_old.xs('08111  STUTTGART,STADT             ', level = 0).plot(kind = 'bar', stacked = True)"
   ]
  },
  {
   "cell_type": "code",
   "execution_count": 720,
   "metadata": {},
   "outputs": [
    {
     "data": {
      "text/plain": [
       "[Text(0, 0.5, ''), Text(0.5, 0, 'number of vehicles')]"
      ]
     },
     "execution_count": 720,
     "metadata": {},
     "output_type": "execute_result"
    },
    {
     "data": {
      "image/png": "[encoded data removed]",
      "text/plain": [
       "<Figure size 360x720 with 1 Axes>"
      ]
     },
     "metadata": {},
     "output_type": "display_data"
    }
   ],
   "source": [
    "#Number of vehicles by size class\n",
    "ax = df_old.sum(axis = 0, level = 0).plot.barh(stacked = True, figsize = [5,10])\n",
    "ax.set(xlabel = 'number of vehicles', ylabel = '')"
   ]
  },
  {
   "cell_type": "code",
   "execution_count": 721,
   "metadata": {},
   "outputs": [
    {
     "data": {
      "text/plain": [
       "[Text(0, 0.5, ''), Text(0.5, 0, 'number of vehicles')]"
      ]
     },
     "execution_count": 721,
     "metadata": {},
     "output_type": "execute_result"
    },
    {
     "data": {
      "image/png": "[encoded data removed]",
      "text/plain": [
       "<Figure size 360x720 with 1 Axes>"
      ]
     },
     "metadata": {},
     "output_type": "display_data"
    }
   ],
   "source": [
    "#Number of vehicles by euro class \n",
    "ax = df_old.sum(axis = 1).unstack().plot.barh(stacked = True, figsize = [5,10])\n",
    "ax.set(xlabel = 'number of vehicles', ylabel = '')"
   ]
  },
  {
   "cell_type": "markdown",
   "metadata": {},
   "source": [
    "## Analysing the size distribution of newly bought EV  "
   ]
  },
  {
   "cell_type": "markdown",
   "metadata": {},
   "source": [
    "To determine the size distribution of the new EVs in the program, data from a report of EVs bought under the current subsidy program is used (available from: https://www.bafa.de/SharedDocs/Downloads/DE/Energie/emob_zwischenbilanz.pdf?__blob=publicationFile&v=43).\n",
    "\n",
    "In addition the larger Teslas are accounted for (model X) (https://www.kba.de/DE/Statistik/Fahrzeuge/Neuzulassungen/MonatlicheNeuzulassungen/2018/2018_node.html, FZ10). \n",
    "The size classes are taken from the auto-umweltliste. \n",
    "\n",
    "As this data is available only for the Germany and not on county level it is assumed that the size distribution of the new EV cars are the same independent of the county (have seen from the data on the current stock that this may vary). \n"
   ]
  },
  {
   "cell_type": "code",
   "execution_count": 722,
   "metadata": {},
   "outputs": [],
   "source": [
    "df_size_dist = pd.read_excel(\"./data/raw data/Replace and Retire/emob_zwischenbilanz.xlsx\", sheet_name = 'Only EV')"
   ]
  },
  {
   "cell_type": "code",
   "execution_count": 723,
   "metadata": {},
   "outputs": [
    {
     "data": {
      "text/html": [
       "<div>\n",
       "<style scoped>\n",
       "    .dataframe tbody tr th:only-of-type {\n",
       "        vertical-align: middle;\n",
       "    }\n",
       "\n",
       "    .dataframe tbody tr th {\n",
       "        vertical-align: top;\n",
       "    }\n",
       "\n",
       "    .dataframe thead th {\n",
       "        text-align: right;\n",
       "    }\n",
       "</style>\n",
       "<table border=\"1\" class=\"dataframe\">\n",
       "  <thead>\n",
       "    <tr style=\"text-align: right;\">\n",
       "      <th></th>\n",
       "      <th>Hersteller</th>\n",
       "      <th>Modell/Typ</th>\n",
       "      <th>Anzahl</th>\n",
       "      <th>Size class</th>\n",
       "    </tr>\n",
       "  </thead>\n",
       "  <tbody>\n",
       "    <tr>\n",
       "      <th>0</th>\n",
       "      <td>BMW</td>\n",
       "      <td>i3</td>\n",
       "      <td>6817</td>\n",
       "      <td>Kleinwagen</td>\n",
       "    </tr>\n",
       "    <tr>\n",
       "      <th>1</th>\n",
       "      <td>BMW</td>\n",
       "      <td>i3 (120Ah)</td>\n",
       "      <td>1449</td>\n",
       "      <td>Kleinwagen</td>\n",
       "    </tr>\n",
       "    <tr>\n",
       "      <th>2</th>\n",
       "      <td>BMW</td>\n",
       "      <td>i3s</td>\n",
       "      <td>1118</td>\n",
       "      <td>Kleinwagen</td>\n",
       "    </tr>\n",
       "    <tr>\n",
       "      <th>3</th>\n",
       "      <td>BMW</td>\n",
       "      <td>i3s (120Ah)</td>\n",
       "      <td>995</td>\n",
       "      <td>Kleinwagen</td>\n",
       "    </tr>\n",
       "    <tr>\n",
       "      <th>4</th>\n",
       "      <td>Citroën</td>\n",
       "      <td>Berlingo Electric Kastenwagen L1 Business</td>\n",
       "      <td>213</td>\n",
       "      <td>Kastenwagen</td>\n",
       "    </tr>\n",
       "    <tr>\n",
       "      <th>5</th>\n",
       "      <td>Citroën</td>\n",
       "      <td>C-ZERO</td>\n",
       "      <td>154</td>\n",
       "      <td>Mini</td>\n",
       "    </tr>\n",
       "    <tr>\n",
       "      <th>6</th>\n",
       "      <td>Citroën</td>\n",
       "      <td>C-ZERO Modell 2017</td>\n",
       "      <td>136</td>\n",
       "      <td>Mini</td>\n",
       "    </tr>\n",
       "  </tbody>\n",
       "</table>\n",
       "</div>"
      ],
      "text/plain": [
       "  Hersteller                                 Modell/Typ  Anzahl   Size class\n",
       "0        BMW                                         i3    6817   Kleinwagen\n",
       "1        BMW                                 i3 (120Ah)    1449   Kleinwagen\n",
       "2        BMW                                        i3s    1118   Kleinwagen\n",
       "3        BMW                                i3s (120Ah)     995   Kleinwagen\n",
       "4    Citroën  Berlingo Electric Kastenwagen L1 Business     213  Kastenwagen\n",
       "5    Citroën                                     C-ZERO     154         Mini\n",
       "6    Citroën                         C-ZERO Modell 2017     136         Mini"
      ]
     },
     "execution_count": 723,
     "metadata": {},
     "output_type": "execute_result"
    }
   ],
   "source": [
    "#Translating the EV vehicle sizes from auto-umweltliste etc. \n",
    "size_dict = {1: 'Mini', 2: 'Kleinwagen', 3: 'Untere Mittelklasse', 4: 'Mittelklasse', 5: 'Obere Mittelklasse', 6: 'Luxusklasse', 7: 'Sportswagen',  8: 'Cabriolet', 9: 'SUV', 10: 'Van', 11: 'Van' }\n",
    "df_size_dist.replace({'Size class':size_dict}, inplace = True)\n",
    "df_size_dist.head(7)"
   ]
  },
  {
   "cell_type": "code",
   "execution_count": 724,
   "metadata": {},
   "outputs": [
    {
     "data": {
      "text/html": [
       "<div>\n",
       "<style scoped>\n",
       "    .dataframe tbody tr th:only-of-type {\n",
       "        vertical-align: middle;\n",
       "    }\n",
       "\n",
       "    .dataframe tbody tr th {\n",
       "        vertical-align: top;\n",
       "    }\n",
       "\n",
       "    .dataframe thead th {\n",
       "        text-align: right;\n",
       "    }\n",
       "</style>\n",
       "<table border=\"1\" class=\"dataframe\">\n",
       "  <thead>\n",
       "    <tr style=\"text-align: right;\">\n",
       "      <th></th>\n",
       "      <th>Anzahl</th>\n",
       "    </tr>\n",
       "    <tr>\n",
       "      <th>Size class</th>\n",
       "      <th></th>\n",
       "    </tr>\n",
       "  </thead>\n",
       "  <tbody>\n",
       "    <tr>\n",
       "      <th>Cabriolet</th>\n",
       "      <td>30</td>\n",
       "    </tr>\n",
       "    <tr>\n",
       "      <th>Kastenwagen</th>\n",
       "      <td>355</td>\n",
       "    </tr>\n",
       "    <tr>\n",
       "      <th>Kleinwagen</th>\n",
       "      <td>24378</td>\n",
       "    </tr>\n",
       "    <tr>\n",
       "      <th>Lieferwagen</th>\n",
       "      <td>1115</td>\n",
       "    </tr>\n",
       "    <tr>\n",
       "      <th>Luxusklasse</th>\n",
       "      <td>5464</td>\n",
       "    </tr>\n",
       "    <tr>\n",
       "      <th>Medium</th>\n",
       "      <td>560</td>\n",
       "    </tr>\n",
       "    <tr>\n",
       "      <th>Mini</th>\n",
       "      <td>15678</td>\n",
       "    </tr>\n",
       "    <tr>\n",
       "      <th>Pritschenwagen</th>\n",
       "      <td>10</td>\n",
       "    </tr>\n",
       "    <tr>\n",
       "      <th>SUV</th>\n",
       "      <td>2996</td>\n",
       "    </tr>\n",
       "    <tr>\n",
       "      <th>Untere Mittelklasse</th>\n",
       "      <td>16316</td>\n",
       "    </tr>\n",
       "    <tr>\n",
       "      <th>Van</th>\n",
       "      <td>9052</td>\n",
       "    </tr>\n",
       "  </tbody>\n",
       "</table>\n",
       "</div>"
      ],
      "text/plain": [
       "                     Anzahl\n",
       "Size class                 \n",
       "Cabriolet                30\n",
       "Kastenwagen             355\n",
       "Kleinwagen            24378\n",
       "Lieferwagen            1115\n",
       "Luxusklasse            5464\n",
       "Medium                  560\n",
       "Mini                  15678\n",
       "Pritschenwagen           10\n",
       "SUV                    2996\n",
       "Untere Mittelklasse   16316\n",
       "Van                    9052"
      ]
     },
     "execution_count": 724,
     "metadata": {},
     "output_type": "execute_result"
    }
   ],
   "source": [
    "#Grouping the BEVs sold by size classes \n",
    "df_size_dist = df_size_dist[['Size class','Anzahl']].groupby('Size class').sum()\n",
    "df_size_dist"
   ]
  },
  {
   "cell_type": "code",
   "execution_count": 725,
   "metadata": {},
   "outputs": [
    {
     "data": {
      "text/plain": [
       "<matplotlib.axes._subplots.AxesSubplot at 0x1ce5b5169b0>"
      ]
     },
     "execution_count": 725,
     "metadata": {},
     "output_type": "execute_result"
    },
    {
     "data": {
      "image/png": "[encoded data removed]",
      "text/plain": [
       "<Figure size 576x396 with 1 Axes>"
      ]
     },
     "metadata": {},
     "output_type": "display_data"
    }
   ],
   "source": [
    "#Grouping into 7 PSI size classes (small, medium, large) \n",
    "df_size_dist = df_size_dist.append(df_size_dist.loc[['Lieferwagen', 'Kastenwagen', 'Pritschenwagen', 'Van']].sum(), \n",
    "                    ignore_index = True).drop([1,3,7,10])\n",
    "df_size_dist.index = ['Cabriolet', 'Kleinwagen', 'Luxusklasse', 'Medium', 'Mini', 'SUV', 'Untere Mittelklasse', 'Van']\n",
    "\n",
    "df_size_dist = df_size_dist.append(df_size_dist.loc[['Cabriolet', 'SUV']].sum(), \n",
    "                    ignore_index = True).drop([0,5])\n",
    "df_size_dist.index = ['Kleinwagen', 'Luxusklasse', 'Medium', 'Mini', 'Untere Mittelklasse', 'Van', 'SUV']\n",
    "\n",
    "#PSI size classes \n",
    "df_size_dist.index = ['Small', 'Large', 'Medium', 'Mini', 'Lower medium', 'Van', 'SUV']\n",
    "df_size_dist.plot.barh(stacked = True) "
   ]
  },
  {
   "cell_type": "markdown",
   "metadata": {},
   "source": [
    "As the data on county level is available only for the rough motor division - aggregate the 7 \"PSI\" size classes into the motor size vehicles classes as used in HBEFA. The link between motor size and vehicle size is done based on some example cars (but can be discussed...): "
   ]
  },
  {
   "cell_type": "code",
   "execution_count": 726,
   "metadata": {},
   "outputs": [
    {
     "data": {
      "text/plain": [
       "Small     0.527372\n",
       "Medium    0.360850\n",
       "Large     0.111778\n",
       "Name: Anzahl, dtype: float64"
      ]
     },
     "execution_count": 726,
     "metadata": {},
     "output_type": "execute_result"
    }
   ],
   "source": [
    "df_size_dist = df_size_dist.append(df_size_dist.loc[['Small', 'Mini']].sum(), \n",
    "                    ignore_index = True).drop([0,3])\n",
    "df_size_dist.index = ['Large', 'Medium', 'Lower medium', 'Van', 'SUV', 'Small']\n",
    "\n",
    "df_size_dist = df_size_dist.append(df_size_dist.loc[['Lower medium','Van', 'Medium']].sum(), ignore_index = True).drop([1,2,3])\n",
    "df_size_dist.index = ['Large', 'SUV', 'Small', 'Medium']\n",
    "\n",
    "df_size_dist = df_size_dist.append(df_size_dist.loc[['Large', 'SUV']].sum(), ignore_index = True).drop([0,1])\n",
    "df_size_dist.index = ['Small', 'Medium', 'Large']\n",
    "\n",
    "#Size distribution EV\n",
    "size_share_EV = df_size_dist/df_size_dist.sum()\n",
    "size_share_EV['Anzahl']\n"
   ]
  },
  {
   "cell_type": "markdown",
   "metadata": {},
   "source": [
    "As I only have data on the aggregated national level I need to adjust the size share of EVs in each county, as I know from the stock data that this will differ depending on the county. Compare the size distribution in each county to the average and adjust the EV share accordingly, this is done in size_share_EV. Then I multiply the shares with the total number of cars traded in in each county. "
   ]
  },
  {
   "cell_type": "code",
   "execution_count": 727,
   "metadata": {},
   "outputs": [
    {
     "data": {
      "text/html": [
       "<div>\n",
       "<style scoped>\n",
       "    .dataframe tbody tr th:only-of-type {\n",
       "        vertical-align: middle;\n",
       "    }\n",
       "\n",
       "    .dataframe tbody tr th {\n",
       "        vertical-align: top;\n",
       "    }\n",
       "\n",
       "    .dataframe thead th {\n",
       "        text-align: right;\n",
       "    }\n",
       "</style>\n",
       "<table border=\"1\" class=\"dataframe\">\n",
       "  <thead>\n",
       "    <tr style=\"text-align: right;\">\n",
       "      <th></th>\n",
       "      <th>Hubraum\n",
       "bis \n",
       "1.399 cm³</th>\n",
       "      <th>1.400\n",
       "bis\n",
       "1.999 cm³</th>\n",
       "      <th>2.000\n",
       "und\n",
       "mehr cm³</th>\n",
       "    </tr>\n",
       "  </thead>\n",
       "  <tbody>\n",
       "    <tr>\n",
       "      <th>08111  STUTTGART,STADT</th>\n",
       "      <td>0.818237</td>\n",
       "      <td>0.974297</td>\n",
       "      <td>1.536918</td>\n",
       "    </tr>\n",
       "    <tr>\n",
       "      <th>08115  BOEBLINGEN</th>\n",
       "      <td>0.872181</td>\n",
       "      <td>0.970126</td>\n",
       "      <td>1.417049</td>\n",
       "    </tr>\n",
       "    <tr>\n",
       "      <th>08116  ESSLINGEN</th>\n",
       "      <td>0.952808</td>\n",
       "      <td>0.981048</td>\n",
       "      <td>1.180485</td>\n",
       "    </tr>\n",
       "    <tr>\n",
       "      <th>08118  LUDWIGSBURG</th>\n",
       "      <td>0.942938</td>\n",
       "      <td>0.994373</td>\n",
       "      <td>1.160388</td>\n",
       "    </tr>\n",
       "    <tr>\n",
       "      <th>08119  REMS-MURR-KREIS</th>\n",
       "      <td>0.943814</td>\n",
       "      <td>0.981286</td>\n",
       "      <td>1.202000</td>\n",
       "    </tr>\n",
       "    <tr>\n",
       "      <th>08121  HEILBRONN,STADT</th>\n",
       "      <td>0.907161</td>\n",
       "      <td>1.024033</td>\n",
       "      <td>1.149905</td>\n",
       "    </tr>\n",
       "    <tr>\n",
       "      <th>08135  HEIDENHEIM</th>\n",
       "      <td>0.935636</td>\n",
       "      <td>1.015701</td>\n",
       "      <td>1.107144</td>\n",
       "    </tr>\n",
       "    <tr>\n",
       "      <th>08222  MANNHEIM,STADT</th>\n",
       "      <td>0.894783</td>\n",
       "      <td>1.029646</td>\n",
       "      <td>1.161832</td>\n",
       "    </tr>\n",
       "    <tr>\n",
       "      <th>08236  ENZKREIS</th>\n",
       "      <td>0.969497</td>\n",
       "      <td>0.979256</td>\n",
       "      <td>1.145080</td>\n",
       "    </tr>\n",
       "    <tr>\n",
       "      <th>08311  FREIBURG I.BREISG.STADT</th>\n",
       "      <td>0.889986</td>\n",
       "      <td>1.030235</td>\n",
       "      <td>1.171763</td>\n",
       "    </tr>\n",
       "    <tr>\n",
       "      <th>08415  REUTLINGEN</th>\n",
       "      <td>0.957468</td>\n",
       "      <td>0.996145</td>\n",
       "      <td>1.118411</td>\n",
       "    </tr>\n",
       "    <tr>\n",
       "      <th>08416  TUEBINGEN</th>\n",
       "      <td>0.942332</td>\n",
       "      <td>1.015559</td>\n",
       "      <td>1.091006</td>\n",
       "    </tr>\n",
       "    <tr>\n",
       "      <th>09162  MUENCHEN,STADT</th>\n",
       "      <td>0.731078</td>\n",
       "      <td>1.078242</td>\n",
       "      <td>1.405361</td>\n",
       "    </tr>\n",
       "    <tr>\n",
       "      <th>09564  NUERNBERG,STADT</th>\n",
       "      <td>0.910596</td>\n",
       "      <td>1.024070</td>\n",
       "      <td>1.141261</td>\n",
       "    </tr>\n",
       "    <tr>\n",
       "      <th>09761  AUGSBURG,STADT</th>\n",
       "      <td>0.963669</td>\n",
       "      <td>0.996087</td>\n",
       "      <td>1.103223</td>\n",
       "    </tr>\n",
       "    <tr>\n",
       "      <th>11000  BERLIN</th>\n",
       "      <td>1.048050</td>\n",
       "      <td>0.950879</td>\n",
       "      <td>1.045149</td>\n",
       "    </tr>\n",
       "    <tr>\n",
       "      <th>02000  HAMBURG</th>\n",
       "      <td>0.987055</td>\n",
       "      <td>0.960108</td>\n",
       "      <td>1.165586</td>\n",
       "    </tr>\n",
       "    <tr>\n",
       "      <th>06411  DARMSTADT,STADT</th>\n",
       "      <td>0.926861</td>\n",
       "      <td>1.026532</td>\n",
       "      <td>1.092675</td>\n",
       "    </tr>\n",
       "    <tr>\n",
       "      <th>06412  FRANKFURT AM MAIN,STADT</th>\n",
       "      <td>0.796452</td>\n",
       "      <td>1.069807</td>\n",
       "      <td>1.271402</td>\n",
       "    </tr>\n",
       "    <tr>\n",
       "      <th>06413  OFFENBACH AM MAIN,STADT</th>\n",
       "      <td>0.917292</td>\n",
       "      <td>1.031553</td>\n",
       "      <td>1.099610</td>\n",
       "    </tr>\n",
       "    <tr>\n",
       "      <th>06414  WIESBADEN,STADT</th>\n",
       "      <td>0.930382</td>\n",
       "      <td>1.000132</td>\n",
       "      <td>1.172267</td>\n",
       "    </tr>\n",
       "    <tr>\n",
       "      <th>06431  BERGSTRASSE</th>\n",
       "      <td>0.960714</td>\n",
       "      <td>0.999461</td>\n",
       "      <td>1.099264</td>\n",
       "    </tr>\n",
       "    <tr>\n",
       "      <th>06531  GIESSEN</th>\n",
       "      <td>0.950823</td>\n",
       "      <td>1.031867</td>\n",
       "      <td>1.015377</td>\n",
       "    </tr>\n",
       "    <tr>\n",
       "      <th>06533  LIMBURG-WEILBURG</th>\n",
       "      <td>0.957814</td>\n",
       "      <td>1.034560</td>\n",
       "      <td>0.989023</td>\n",
       "    </tr>\n",
       "    <tr>\n",
       "      <th>03241  HANNOVER</th>\n",
       "      <td>1.006735</td>\n",
       "      <td>0.985282</td>\n",
       "      <td>1.032535</td>\n",
       "    </tr>\n",
       "    <tr>\n",
       "      <th>03254  HILDESHEIM</th>\n",
       "      <td>1.120380</td>\n",
       "      <td>0.954504</td>\n",
       "      <td>0.853581</td>\n",
       "    </tr>\n",
       "    <tr>\n",
       "      <th>03458  OLDENBURG(OLDENBURG)</th>\n",
       "      <td>0.993975</td>\n",
       "      <td>0.974648</td>\n",
       "      <td>1.099769</td>\n",
       "    </tr>\n",
       "    <tr>\n",
       "      <th>03459  OSNABRUECK</th>\n",
       "      <td>1.013972</td>\n",
       "      <td>0.998940</td>\n",
       "      <td>0.968885</td>\n",
       "    </tr>\n",
       "    <tr>\n",
       "      <th>05111  DUESSELDORF, STADT</th>\n",
       "      <td>0.855232</td>\n",
       "      <td>1.037347</td>\n",
       "      <td>1.234185</td>\n",
       "    </tr>\n",
       "    <tr>\n",
       "      <th>05112  DUISBURG,STADT</th>\n",
       "      <td>1.133351</td>\n",
       "      <td>0.930371</td>\n",
       "      <td>0.902148</td>\n",
       "    </tr>\n",
       "    <tr>\n",
       "      <th>05113  ESSEN,STADT</th>\n",
       "      <td>1.124563</td>\n",
       "      <td>0.934436</td>\n",
       "      <td>0.910350</td>\n",
       "    </tr>\n",
       "    <tr>\n",
       "      <th>05116  MOENCHENGLADBACH,STADT</th>\n",
       "      <td>1.104985</td>\n",
       "      <td>0.936773</td>\n",
       "      <td>0.951099</td>\n",
       "    </tr>\n",
       "    <tr>\n",
       "      <th>05117  MUELHEIM A.D.RUHR,STADT</th>\n",
       "      <td>1.107309</td>\n",
       "      <td>0.924772</td>\n",
       "      <td>0.985486</td>\n",
       "    </tr>\n",
       "    <tr>\n",
       "      <th>05119  OBERHAUSEN,STADT</th>\n",
       "      <td>1.180661</td>\n",
       "      <td>0.907626</td>\n",
       "      <td>0.860881</td>\n",
       "    </tr>\n",
       "    <tr>\n",
       "      <th>05124  WUPPERTAL,STADT</th>\n",
       "      <td>1.096118</td>\n",
       "      <td>0.943639</td>\n",
       "      <td>0.950123</td>\n",
       "    </tr>\n",
       "    <tr>\n",
       "      <th>05162  NEUSS</th>\n",
       "      <td>1.028353</td>\n",
       "      <td>0.963906</td>\n",
       "      <td>1.050427</td>\n",
       "    </tr>\n",
       "    <tr>\n",
       "      <th>05170  WESEL</th>\n",
       "      <td>1.092093</td>\n",
       "      <td>0.941801</td>\n",
       "      <td>0.966258</td>\n",
       "    </tr>\n",
       "    <tr>\n",
       "      <th>05314  BONN,STADT</th>\n",
       "      <td>0.881618</td>\n",
       "      <td>1.085429</td>\n",
       "      <td>1.007853</td>\n",
       "    </tr>\n",
       "    <tr>\n",
       "      <th>05315  KOELN,STADT</th>\n",
       "      <td>0.994953</td>\n",
       "      <td>0.989759</td>\n",
       "      <td>1.046785</td>\n",
       "    </tr>\n",
       "    <tr>\n",
       "      <th>05316  LEVERKUSEN,STADT</th>\n",
       "      <td>1.045741</td>\n",
       "      <td>0.969412</td>\n",
       "      <td>0.988868</td>\n",
       "    </tr>\n",
       "    <tr>\n",
       "      <th>05334  AACHEN, STAEDTEREGION</th>\n",
       "      <td>1.102885</td>\n",
       "      <td>0.935513</td>\n",
       "      <td>0.960524</td>\n",
       "    </tr>\n",
       "    <tr>\n",
       "      <th>05358  DUEREN</th>\n",
       "      <td>1.069534</td>\n",
       "      <td>0.967096</td>\n",
       "      <td>0.937589</td>\n",
       "    </tr>\n",
       "    <tr>\n",
       "      <th>05362  RHEIN-ERFT-KREIS</th>\n",
       "      <td>1.070400</td>\n",
       "      <td>0.960455</td>\n",
       "      <td>0.957661</td>\n",
       "    </tr>\n",
       "    <tr>\n",
       "      <th>05378  RHEIN.-BERGISCHER KREIS</th>\n",
       "      <td>1.071042</td>\n",
       "      <td>0.937541</td>\n",
       "      <td>1.032735</td>\n",
       "    </tr>\n",
       "    <tr>\n",
       "      <th>05513  GELSENKIRCHEN,STADT</th>\n",
       "      <td>1.139849</td>\n",
       "      <td>0.927524</td>\n",
       "      <td>0.895555</td>\n",
       "    </tr>\n",
       "    <tr>\n",
       "      <th>05562  RECKLINGHAUSEN</th>\n",
       "      <td>1.135541</td>\n",
       "      <td>0.930605</td>\n",
       "      <td>0.895934</td>\n",
       "    </tr>\n",
       "    <tr>\n",
       "      <th>05711  BIELEFELD,STADT</th>\n",
       "      <td>1.047218</td>\n",
       "      <td>0.960117</td>\n",
       "      <td>1.016303</td>\n",
       "    </tr>\n",
       "    <tr>\n",
       "      <th>05774  PADERBORN</th>\n",
       "      <td>0.993208</td>\n",
       "      <td>1.011242</td>\n",
       "      <td>0.979237</td>\n",
       "    </tr>\n",
       "    <tr>\n",
       "      <th>05911  BOCHUM,STADT</th>\n",
       "      <td>1.183355</td>\n",
       "      <td>0.916508</td>\n",
       "      <td>0.824480</td>\n",
       "    </tr>\n",
       "    <tr>\n",
       "      <th>05913  DORTMUND,STADT</th>\n",
       "      <td>1.102183</td>\n",
       "      <td>0.952479</td>\n",
       "      <td>0.905500</td>\n",
       "    </tr>\n",
       "    <tr>\n",
       "      <th>05914  HAGEN,STADT</th>\n",
       "      <td>1.117071</td>\n",
       "      <td>0.940363</td>\n",
       "      <td>0.909104</td>\n",
       "    </tr>\n",
       "    <tr>\n",
       "      <th>05916  HERNE,STADT</th>\n",
       "      <td>1.166819</td>\n",
       "      <td>0.930317</td>\n",
       "      <td>0.819299</td>\n",
       "    </tr>\n",
       "    <tr>\n",
       "      <th>05970  SIEGEN-WITTGENSTEIN</th>\n",
       "      <td>1.126032</td>\n",
       "      <td>0.949648</td>\n",
       "      <td>0.855809</td>\n",
       "    </tr>\n",
       "    <tr>\n",
       "      <th>05978  UNNA</th>\n",
       "      <td>1.120302</td>\n",
       "      <td>0.950504</td>\n",
       "      <td>0.867159</td>\n",
       "    </tr>\n",
       "    <tr>\n",
       "      <th>07111  KOBLENZ,STADT</th>\n",
       "      <td>0.983047</td>\n",
       "      <td>1.032085</td>\n",
       "      <td>0.934707</td>\n",
       "    </tr>\n",
       "    <tr>\n",
       "      <th>07315  MAINZ,STADT</th>\n",
       "      <td>0.962613</td>\n",
       "      <td>1.001746</td>\n",
       "      <td>1.086907</td>\n",
       "    </tr>\n",
       "    <tr>\n",
       "      <th>14713  LEIPZIG, STADT</th>\n",
       "      <td>1.080266</td>\n",
       "      <td>1.010807</td>\n",
       "      <td>0.764718</td>\n",
       "    </tr>\n",
       "    <tr>\n",
       "      <th>15091  WITTENBERG</th>\n",
       "      <td>1.107888</td>\n",
       "      <td>1.012746</td>\n",
       "      <td>0.689704</td>\n",
       "    </tr>\n",
       "    <tr>\n",
       "      <th>01002  KIEL,STADT</th>\n",
       "      <td>1.111231</td>\n",
       "      <td>0.930450</td>\n",
       "      <td>0.956760</td>\n",
       "    </tr>\n",
       "  </tbody>\n",
       "</table>\n",
       "</div>"
      ],
      "text/plain": [
       "                                          Hubraum\\nbis \\n1.399 cm³  \\\n",
       "08111  STUTTGART,STADT                                    0.818237   \n",
       "08115  BOEBLINGEN                                         0.872181   \n",
       "08116  ESSLINGEN                                          0.952808   \n",
       "08118  LUDWIGSBURG                                        0.942938   \n",
       "08119  REMS-MURR-KREIS                                    0.943814   \n",
       "08121  HEILBRONN,STADT                                    0.907161   \n",
       "08135  HEIDENHEIM                                         0.935636   \n",
       "08222  MANNHEIM,STADT                                     0.894783   \n",
       "08236  ENZKREIS                                           0.969497   \n",
       "08311  FREIBURG I.BREISG.STADT                            0.889986   \n",
       "08415  REUTLINGEN                                         0.957468   \n",
       "08416  TUEBINGEN                                          0.942332   \n",
       "09162  MUENCHEN,STADT                                     0.731078   \n",
       "09564  NUERNBERG,STADT                                    0.910596   \n",
       "09761  AUGSBURG,STADT                                     0.963669   \n",
       "11000  BERLIN                                             1.048050   \n",
       "02000  HAMBURG                                            0.987055   \n",
       "06411  DARMSTADT,STADT                                    0.926861   \n",
       "06412  FRANKFURT AM MAIN,STADT                            0.796452   \n",
       "06413  OFFENBACH AM MAIN,STADT                            0.917292   \n",
       "06414  WIESBADEN,STADT                                    0.930382   \n",
       "06431  BERGSTRASSE                                        0.960714   \n",
       "06531  GIESSEN                                            0.950823   \n",
       "06533  LIMBURG-WEILBURG                                   0.957814   \n",
       "03241  HANNOVER                                           1.006735   \n",
       "03254  HILDESHEIM                                         1.120380   \n",
       "03458  OLDENBURG(OLDENBURG)                               0.993975   \n",
       "03459  OSNABRUECK                                         1.013972   \n",
       "05111  DUESSELDORF, STADT                                 0.855232   \n",
       "05112  DUISBURG,STADT                                     1.133351   \n",
       "05113  ESSEN,STADT                                        1.124563   \n",
       "05116  MOENCHENGLADBACH,STADT                             1.104985   \n",
       "05117  MUELHEIM A.D.RUHR,STADT                            1.107309   \n",
       "05119  OBERHAUSEN,STADT                                   1.180661   \n",
       "05124  WUPPERTAL,STADT                                    1.096118   \n",
       "05162  NEUSS                                              1.028353   \n",
       "05170  WESEL                                              1.092093   \n",
       "05314  BONN,STADT                                         0.881618   \n",
       "05315  KOELN,STADT                                        0.994953   \n",
       "05316  LEVERKUSEN,STADT                                   1.045741   \n",
       "05334  AACHEN, STAEDTEREGION                              1.102885   \n",
       "05358  DUEREN                                             1.069534   \n",
       "05362  RHEIN-ERFT-KREIS                                   1.070400   \n",
       "05378  RHEIN.-BERGISCHER KREIS                            1.071042   \n",
       "05513  GELSENKIRCHEN,STADT                                1.139849   \n",
       "05562  RECKLINGHAUSEN                                     1.135541   \n",
       "05711  BIELEFELD,STADT                                    1.047218   \n",
       "05774  PADERBORN                                          0.993208   \n",
       "05911  BOCHUM,STADT                                       1.183355   \n",
       "05913  DORTMUND,STADT                                     1.102183   \n",
       "05914  HAGEN,STADT                                        1.117071   \n",
       "05916  HERNE,STADT                                        1.166819   \n",
       "05970  SIEGEN-WITTGENSTEIN                                1.126032   \n",
       "05978  UNNA                                               1.120302   \n",
       "07111  KOBLENZ,STADT                                      0.983047   \n",
       "07315  MAINZ,STADT                                        0.962613   \n",
       "14713  LEIPZIG, STADT                                     1.080266   \n",
       "15091  WITTENBERG                                         1.107888   \n",
       "01002  KIEL,STADT                                         1.111231   \n",
       "\n",
       "                                          1.400\\nbis\\n1.999 cm³  \\\n",
       "08111  STUTTGART,STADT                                 0.974297   \n",
       "08115  BOEBLINGEN                                      0.970126   \n",
       "08116  ESSLINGEN                                       0.981048   \n",
       "08118  LUDWIGSBURG                                     0.994373   \n",
       "08119  REMS-MURR-KREIS                                 0.981286   \n",
       "08121  HEILBRONN,STADT                                 1.024033   \n",
       "08135  HEIDENHEIM                                      1.015701   \n",
       "08222  MANNHEIM,STADT                                  1.029646   \n",
       "08236  ENZKREIS                                        0.979256   \n",
       "08311  FREIBURG I.BREISG.STADT                         1.030235   \n",
       "08415  REUTLINGEN                                      0.996145   \n",
       "08416  TUEBINGEN                                       1.015559   \n",
       "09162  MUENCHEN,STADT                                  1.078242   \n",
       "09564  NUERNBERG,STADT                                 1.024070   \n",
       "09761  AUGSBURG,STADT                                  0.996087   \n",
       "11000  BERLIN                                          0.950879   \n",
       "02000  HAMBURG                                         0.960108   \n",
       "06411  DARMSTADT,STADT                                 1.026532   \n",
       "06412  FRANKFURT AM MAIN,STADT                         1.069807   \n",
       "06413  OFFENBACH AM MAIN,STADT                         1.031553   \n",
       "06414  WIESBADEN,STADT                                 1.000132   \n",
       "06431  BERGSTRASSE                                     0.999461   \n",
       "06531  GIESSEN                                         1.031867   \n",
       "06533  LIMBURG-WEILBURG                                1.034560   \n",
       "03241  HANNOVER                                        0.985282   \n",
       "03254  HILDESHEIM                                      0.954504   \n",
       "03458  OLDENBURG(OLDENBURG)                            0.974648   \n",
       "03459  OSNABRUECK                                      0.998940   \n",
       "05111  DUESSELDORF, STADT                              1.037347   \n",
       "05112  DUISBURG,STADT                                  0.930371   \n",
       "05113  ESSEN,STADT                                     0.934436   \n",
       "05116  MOENCHENGLADBACH,STADT                          0.936773   \n",
       "05117  MUELHEIM A.D.RUHR,STADT                         0.924772   \n",
       "05119  OBERHAUSEN,STADT                                0.907626   \n",
       "05124  WUPPERTAL,STADT                                 0.943639   \n",
       "05162  NEUSS                                           0.963906   \n",
       "05170  WESEL                                           0.941801   \n",
       "05314  BONN,STADT                                      1.085429   \n",
       "05315  KOELN,STADT                                     0.989759   \n",
       "05316  LEVERKUSEN,STADT                                0.969412   \n",
       "05334  AACHEN, STAEDTEREGION                           0.935513   \n",
       "05358  DUEREN                                          0.967096   \n",
       "05362  RHEIN-ERFT-KREIS                                0.960455   \n",
       "05378  RHEIN.-BERGISCHER KREIS                         0.937541   \n",
       "05513  GELSENKIRCHEN,STADT                             0.927524   \n",
       "05562  RECKLINGHAUSEN                                  0.930605   \n",
       "05711  BIELEFELD,STADT                                 0.960117   \n",
       "05774  PADERBORN                                       1.011242   \n",
       "05911  BOCHUM,STADT                                    0.916508   \n",
       "05913  DORTMUND,STADT                                  0.952479   \n",
       "05914  HAGEN,STADT                                     0.940363   \n",
       "05916  HERNE,STADT                                     0.930317   \n",
       "05970  SIEGEN-WITTGENSTEIN                             0.949648   \n",
       "05978  UNNA                                            0.950504   \n",
       "07111  KOBLENZ,STADT                                   1.032085   \n",
       "07315  MAINZ,STADT                                     1.001746   \n",
       "14713  LEIPZIG, STADT                                  1.010807   \n",
       "15091  WITTENBERG                                      1.012746   \n",
       "01002  KIEL,STADT                                      0.930450   \n",
       "\n",
       "                                          2.000\\nund\\nmehr cm³  \n",
       "08111  STUTTGART,STADT                                1.536918  \n",
       "08115  BOEBLINGEN                                     1.417049  \n",
       "08116  ESSLINGEN                                      1.180485  \n",
       "08118  LUDWIGSBURG                                    1.160388  \n",
       "08119  REMS-MURR-KREIS                                1.202000  \n",
       "08121  HEILBRONN,STADT                                1.149905  \n",
       "08135  HEIDENHEIM                                     1.107144  \n",
       "08222  MANNHEIM,STADT                                 1.161832  \n",
       "08236  ENZKREIS                                       1.145080  \n",
       "08311  FREIBURG I.BREISG.STADT                        1.171763  \n",
       "08415  REUTLINGEN                                     1.118411  \n",
       "08416  TUEBINGEN                                      1.091006  \n",
       "09162  MUENCHEN,STADT                                 1.405361  \n",
       "09564  NUERNBERG,STADT                                1.141261  \n",
       "09761  AUGSBURG,STADT                                 1.103223  \n",
       "11000  BERLIN                                         1.045149  \n",
       "02000  HAMBURG                                        1.165586  \n",
       "06411  DARMSTADT,STADT                                1.092675  \n",
       "06412  FRANKFURT AM MAIN,STADT                        1.271402  \n",
       "06413  OFFENBACH AM MAIN,STADT                        1.099610  \n",
       "06414  WIESBADEN,STADT                                1.172267  \n",
       "06431  BERGSTRASSE                                    1.099264  \n",
       "06531  GIESSEN                                        1.015377  \n",
       "06533  LIMBURG-WEILBURG                               0.989023  \n",
       "03241  HANNOVER                                       1.032535  \n",
       "03254  HILDESHEIM                                     0.853581  \n",
       "03458  OLDENBURG(OLDENBURG)                           1.099769  \n",
       "03459  OSNABRUECK                                     0.968885  \n",
       "05111  DUESSELDORF, STADT                             1.234185  \n",
       "05112  DUISBURG,STADT                                 0.902148  \n",
       "05113  ESSEN,STADT                                    0.910350  \n",
       "05116  MOENCHENGLADBACH,STADT                         0.951099  \n",
       "05117  MUELHEIM A.D.RUHR,STADT                        0.985486  \n",
       "05119  OBERHAUSEN,STADT                               0.860881  \n",
       "05124  WUPPERTAL,STADT                                0.950123  \n",
       "05162  NEUSS                                          1.050427  \n",
       "05170  WESEL                                          0.966258  \n",
       "05314  BONN,STADT                                     1.007853  \n",
       "05315  KOELN,STADT                                    1.046785  \n",
       "05316  LEVERKUSEN,STADT                               0.988868  \n",
       "05334  AACHEN, STAEDTEREGION                          0.960524  \n",
       "05358  DUEREN                                         0.937589  \n",
       "05362  RHEIN-ERFT-KREIS                               0.957661  \n",
       "05378  RHEIN.-BERGISCHER KREIS                        1.032735  \n",
       "05513  GELSENKIRCHEN,STADT                            0.895555  \n",
       "05562  RECKLINGHAUSEN                                 0.895934  \n",
       "05711  BIELEFELD,STADT                                1.016303  \n",
       "05774  PADERBORN                                      0.979237  \n",
       "05911  BOCHUM,STADT                                   0.824480  \n",
       "05913  DORTMUND,STADT                                 0.905500  \n",
       "05914  HAGEN,STADT                                    0.909104  \n",
       "05916  HERNE,STADT                                    0.819299  \n",
       "05970  SIEGEN-WITTGENSTEIN                            0.855809  \n",
       "05978  UNNA                                           0.867159  \n",
       "07111  KOBLENZ,STADT                                  0.934707  \n",
       "07315  MAINZ,STADT                                    1.086907  \n",
       "14713  LEIPZIG, STADT                                 0.764718  \n",
       "15091  WITTENBERG                                     0.689704  \n",
       "01002  KIEL,STADT                                     0.956760  "
      ]
     },
     "execution_count": 727,
     "metadata": {},
     "output_type": "execute_result"
    }
   ],
   "source": [
    "#For the sizes of electric vehicles we only have the national average, so compare the size distribution in each county to the national average\n",
    "df_size = pd.read_excel(\"./data/raw data/Replace and Retire/fz1_2019.xlsx\", sheet_name = 'Kfz_u_Kfz_Anh', skiprows = 8)\n",
    "\n",
    "df_rel_size_dist = pd.DataFrame(['Hubraum bis 1.399 cm³', '1.400 bis 1.999 cm³', '2.000 und mehr cm³'], [df_size.iloc[446][['Hubraum\\nbis \\n1.399 cm³', '1.400\\nbis\\n1.999 cm³','2.000\\nund\\nmehr cm³']].iloc[0], df_size.iloc[446][['Hubraum\\nbis \\n1.399 cm³', '1.400\\nbis\\n1.999 cm³','2.000\\nund\\nmehr cm³']].iloc[1], df_size.iloc[446][['Hubraum\\nbis \\n1.399 cm³', '1.400\\nbis\\n1.999 cm³','2.000\\nund\\nmehr cm³']].iloc[2]]).reset_index().set_index(0)\n",
    "df_rel_size_dist = (df_rel_size_dist/df_rel_size_dist.sum(axis = 0)).T\n",
    "df_rel_size_dist.index = ['average']\n",
    "df_rel_size_dist.columns = size_dist.columns\n",
    "\n",
    "#Want to see how the size distribution in each county compare to the national average in order to adjust the size distribution of the EV\n",
    "EV_adjust_size_dist = size_dist/df_rel_size_dist.values\n",
    "EV_adjust_size_dist"
   ]
  },
  {
   "cell_type": "code",
   "execution_count": 728,
   "metadata": {},
   "outputs": [],
   "source": [
    "df = pd.concat([size_share_EV.T]*59, ignore_index = True)\n",
    "df.index = EV_adjust_size_dist.index\n",
    "df.columns = EV_adjust_size_dist.columns\n",
    "size_share_EV = df*EV_adjust_size_dist\n",
    "\n",
    "size_share_EV.columns = ['Small', 'Medium', 'Large']\n",
    "\n",
    "#Need to normalize so the percentages sum to 1\n",
    "size_share_EV = (size_share_EV/[size_share_EV.sum(axis = 1),size_share_EV.sum(axis = 1),size_share_EV.sum(axis = 1)])"
   ]
  },
  {
   "cell_type": "code",
   "execution_count": 729,
   "metadata": {},
   "outputs": [
    {
     "data": {
      "text/html": [
       "<div>\n",
       "<style scoped>\n",
       "    .dataframe tbody tr th:only-of-type {\n",
       "        vertical-align: middle;\n",
       "    }\n",
       "\n",
       "    .dataframe tbody tr th {\n",
       "        vertical-align: top;\n",
       "    }\n",
       "\n",
       "    .dataframe thead th {\n",
       "        text-align: right;\n",
       "    }\n",
       "</style>\n",
       "<table border=\"1\" class=\"dataframe\">\n",
       "  <thead>\n",
       "    <tr style=\"text-align: right;\">\n",
       "      <th></th>\n",
       "      <th>Small</th>\n",
       "      <th>Medium</th>\n",
       "      <th>Large</th>\n",
       "    </tr>\n",
       "  </thead>\n",
       "  <tbody>\n",
       "    <tr>\n",
       "      <th>08111  STUTTGART,STADT</th>\n",
       "      <td>16758.271159</td>\n",
       "      <td>13653.721289</td>\n",
       "      <td>6671.767878</td>\n",
       "    </tr>\n",
       "    <tr>\n",
       "      <th>08115  BOEBLINGEN</th>\n",
       "      <td>18399.498725</td>\n",
       "      <td>14003.516427</td>\n",
       "      <td>6336.136080</td>\n",
       "    </tr>\n",
       "    <tr>\n",
       "      <th>08116  ESSLINGEN</th>\n",
       "      <td>26515.957172</td>\n",
       "      <td>18681.078082</td>\n",
       "      <td>6963.101121</td>\n",
       "    </tr>\n",
       "    <tr>\n",
       "      <th>08118  LUDWIGSBURG</th>\n",
       "      <td>25066.455637</td>\n",
       "      <td>18087.092414</td>\n",
       "      <td>6538.124301</td>\n",
       "    </tr>\n",
       "    <tr>\n",
       "      <th>08119  REMS-MURR-KREIS</th>\n",
       "      <td>21375.080221</td>\n",
       "      <td>15206.404536</td>\n",
       "      <td>5769.866793</td>\n",
       "    </tr>\n",
       "  </tbody>\n",
       "</table>\n",
       "</div>"
      ],
      "text/plain": [
       "                                            Small        Medium        Large\n",
       "08111  STUTTGART,STADT               16758.271159  13653.721289  6671.767878\n",
       "08115  BOEBLINGEN                    18399.498725  14003.516427  6336.136080\n",
       "08116  ESSLINGEN                     26515.957172  18681.078082  6963.101121\n",
       "08118  LUDWIGSBURG                   25066.455637  18087.092414  6538.124301\n",
       "08119  REMS-MURR-KREIS               21375.080221  15206.404536  5769.866793"
      ]
     },
     "execution_count": 729,
     "metadata": {},
     "output_type": "execute_result"
    }
   ],
   "source": [
    "size_share_EV.index = index_list\n",
    "df_new = pd.concat([size_share_EV.loc[county]*sum(df_old.loc[county].sum()) for county in index_list], axis = 1).T\n",
    "df_new.head(5)"
   ]
  },
  {
   "cell_type": "markdown",
   "metadata": {},
   "source": [
    "Confirm that this equals total number of cars (2 mill): "
   ]
  },
  {
   "cell_type": "code",
   "execution_count": 730,
   "metadata": {},
   "outputs": [
    {
     "data": {
      "text/plain": [
       "1999999.9999999995"
      ]
     },
     "execution_count": 730,
     "metadata": {},
     "output_type": "execute_result"
    }
   ],
   "source": [
    "sum(df_new.sum())"
   ]
  },
  {
   "cell_type": "code",
   "execution_count": 731,
   "metadata": {},
   "outputs": [],
   "source": [
    "#Checking that the total number of new cars equals the total number of old cars in each county \n",
    "assert(df_old.iloc[:,0:5].sum(axis =1).groupby('Statistische Kennziffer und Zulassungsbezirk').sum().values.round().any() ==df_new.sum(axis=1).values.round().any()), \"The number of new and old cars in each county is not equal\"\n",
    "\n",
    "       "
   ]
  },
  {
   "cell_type": "markdown",
   "metadata": {},
   "source": [
    "## Plotting size and euro distribution "
   ]
  },
  {
   "cell_type": "markdown",
   "metadata": {},
   "source": [
    "Size and euro distribution in different counties for the old diesel cars: "
   ]
  },
  {
   "cell_type": "code",
   "execution_count": 732,
   "metadata": {},
   "outputs": [
    {
     "data": {
      "image/png": "[encoded data removed]",
      "text/plain": [
       "<Figure size 432x288 with 1 Axes>"
      ]
     },
     "metadata": {},
     "output_type": "display_data"
    }
   ],
   "source": [
    "size_dist.index = index_list\n",
    "df_plot = pd.concat([size_dist.loc[index_list[0]],size_dist.loc[index_list[15]],size_dist.loc[index_list[20]]], axis = 1)*100\n",
    "df_plot.index = ['Small', 'Medium', 'Large']\n",
    "ax = df_plot.T.plot.barh(stacked = True, figsize = [6,4] )\n",
    "ax.legend(bbox_to_anchor=(1.05, 1), loc=2, borderaxespad=0., fontsize = 10)\n",
    "ax.set_xlabel('Percentage', fontsize = 10)\n",
    "plt.tight_layout()\n"
   ]
  },
  {
   "cell_type": "code",
   "execution_count": 733,
   "metadata": {},
   "outputs": [
    {
     "data": {
      "image/png": "[encoded data removed]",
      "text/plain": [
       "<Figure size 360x216 with 1 Axes>"
      ]
     },
     "metadata": {},
     "output_type": "display_data"
    }
   ],
   "source": [
    "\n",
    "tst = pd.DataFrame([df_old.loc[index_list[i]].sum(axis = 1)/sum(df_old.loc[index_list[i]].sum(axis = 1)) for i in np.arange(len(index_list))])\n",
    "tst.index = index_list\n",
    "tst.columns = ['Euro 1', 'Euro 2', 'Euro 3', 'Euro 4', 'Euro 5']\n",
    "df_plot=pd.concat([tst.loc[index_list[0]],tst.loc[index_list[15]],tst.loc[index_list[20]]], axis = 1)*100\n",
    "ax =df_plot.T.plot.barh(stacked = True, figsize = [5,3])\n",
    "ax.set_xlabel('Percentage')\n",
    "#plt.tight_layout()\n",
    "ax.legend(bbox_to_anchor=(1.05, 1), loc=2, borderaxespad=0., fontsize = 10)\n",
    "plt.savefig('euro distribution.svg', bbox_inches = 'tight')"
   ]
  },
  {
   "cell_type": "markdown",
   "metadata": {},
   "source": [
    "Total number of vehicles exchanged are 2 million. \n",
    "The old are the diesel vehicles, new are the BEVs. See that we assume a downsizing effect, similar to the one observed in the 2009 program: "
   ]
  },
  {
   "cell_type": "code",
   "execution_count": 734,
   "metadata": {},
   "outputs": [
    {
     "data": {
      "text/plain": [
       "<Figure size 72x72 with 0 Axes>"
      ]
     },
     "metadata": {},
     "output_type": "display_data"
    },
    {
     "data": {
      "image/png": "[encoded data removed]",
      "text/plain": [
       "<Figure size 576x396 with 1 Axes>"
      ]
     },
     "metadata": {},
     "output_type": "display_data"
    }
   ],
   "source": [
    "sns.set_context(\"talk\")\n",
    "plt.figure(figsize=(1,1))\n",
    "df_old_plot = df_old.groupby('Statistische Kennziffer und Zulassungsbezirk').sum(axis = 1).sum()\n",
    "df_old_plot.index = ['Small', 'Medium', 'Large']\n",
    "ax = pd.concat([df_old_plot/1000000, df_new.sum()/1000000], keys= ['old', 'new']).unstack().plot.bar(stacked = True,rot = 0)\n",
    "ax.legend(bbox_to_anchor=(1.05, 1), loc=2, borderaxespad=0)\n",
    "ax.set_ylabel('Million cars')\n",
    "\n",
    "\n",
    "from matplotlib.ticker import FormatStrFormatter\n",
    "ax.yaxis.set_major_formatter(FormatStrFormatter('%.1f'))\n"
   ]
  },
  {
   "cell_type": "code",
   "execution_count": 735,
   "metadata": {},
   "outputs": [
    {
     "data": {
      "image/png": "[encoded data removed]",
      "text/plain": [
       "<Figure size 288x288 with 1 Axes>"
      ]
     },
     "metadata": {},
     "output_type": "display_data"
    }
   ],
   "source": [
    "df_eurodist_plot = df_old.sum(axis = 1).reset_index().groupby('level_1').sum()\n",
    "df_eurodist_plot.index = ['Euro 1', 'Euro 2', 'Euro 3', 'Euro 4', 'Euro 5']\n",
    "df_eurodist_plot.columns = ['']\n",
    "df_eurodist_plot.plot.pie(subplots = True, legend = None, figsize = [4,4], fontsize = 10)\n",
    "plt.tight_layout()"
   ]
  }
 ],
 "metadata": {
  "kernelspec": {
   "display_name": "Python 3",
   "language": "python",
   "name": "python3"
  },
  "language_info": {
   "codemirror_mode": {
    "name": "ipython",
    "version": 3
   },
   "file_extension": ".py",
   "mimetype": "text/x-python",
   "name": "python",
   "nbconvert_exporter": "python",
   "pygments_lexer": "ipython3",
   "version": "3.6.8"
  }
 },
 "nbformat": 4,
 "nbformat_minor": 2
}
