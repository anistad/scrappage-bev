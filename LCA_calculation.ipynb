{
 "cells": [
  {
   "cell_type": "markdown",
   "metadata": {},
   "source": [
    "## Calculating cars LCA results \n",
    "This script calcultes the LCA results for current average cars (using the average and marginal German electricity mix), as well as for different euro classes: "
   ]
  },
  {
   "cell_type": "code",
   "execution_count": 1,
   "metadata": {},
   "outputs": [],
   "source": [
    "%run initialize_notebook.ipynb"
   ]
  },
  {
   "cell_type": "markdown",
   "metadata": {},
   "source": [
    "### LCA results current cars (average electricity mix)"
   ]
  },
  {
   "cell_type": "code",
   "execution_count": 18,
   "metadata": {},
   "outputs": [],
   "source": [
    "car_db = Database('Current cars')\n",
    "lca = LCA({car_db.random(): 1}, method=lcia_methods['CC'])\n",
    "lca.lci(factorize=True)\n",
    "lca.lcia()\n",
    "lca.score\n",
    "\n",
    "current_cars_lca_avg = contribution_LCA_to_df([x for x in car_db], cats=['CC', 'MD', 'POF', 'PMF'], names=['name'])\n",
    "\n",
    "#Need to restructure the columns for aggregating (since also BEV now)\n",
    " \n",
    "cols_prod = ['Battery BoP', 'Battery cell', 'Glider lightweighting', 'market for charger, electric passenger car', 'market for converter, for electric passenger car', 'market for electric motor, electric passenger car',\n",
    "       'market for glider, passenger car',\n",
    "       'market for heat, central or small-scale, natural gas',\n",
    "       'market for internal combustion engine, passenger car',\n",
    "       'market for inverter, for electric passenger car',\n",
    "       'market for manual dismantling of used electric passenger car',\n",
    "        'market for manual dismantling of used passenger car with internal combustion engine', 'market for power distribution unit, for electric passenger car', 'market for used powertrain from electric passenger car, manual dismantling', 'polyethylene production, high density, granulate']\n",
    "\n",
    "\n",
    "cols_direct = ['Ammonia', 'Benzene', 'Carbon dioxide, fossil', 'Carbon monoxide, fossil', 'Dinitrogen monoxide', 'Methane, fossil', 'NMVOC, non-methane volatile organic compounds, unspecified origin','Nitrogen oxides', 'Particulates, > 2.5 um, and < 10um',  'Sulfur dioxide', 'market for road wear emissions, passenger car',\n",
    "       'market for tyre wear emissions, passenger car', 'market for brake wear emissions, passenger car']\n",
    "\n",
    "\n",
    "cols_fuel = ['market for diesel', 'market for petrol, low-sulfur', 'market for electricity, low voltage, 2018']\n",
    "\n",
    "\n",
    "for cat in ['CC', 'MD', 'POF', 'PMF']: \n",
    "    if cat == 'CC': \n",
    "        db1 = agg_lca(current_cars_lca_avg,cat)\n",
    "    if cat == 'MD': \n",
    "        db2 = agg_lca(current_cars_lca_avg,cat)\n",
    "    if cat == 'POF': \n",
    "        db3 = agg_lca(current_cars_lca_avg,cat)\n",
    "    else: \n",
    "        db4 = agg_lca(current_cars_lca_avg, cat)\n",
    "\n",
    "#Return only the BEV in a df        \n",
    "current_cars_lca_agg_avg = pd.concat([db1, db2, db3, db4], keys = ['CC', 'MD', 'POF', 'PMF'], axis = 1)"
   ]
  },
  {
   "cell_type": "markdown",
   "metadata": {},
   "source": [
    "### LCA results current cars (marginal electricity mix)"
   ]
  },
  {
   "cell_type": "code",
   "execution_count": 10,
   "metadata": {},
   "outputs": [],
   "source": [
    "car_db = Database('Current cars marginal mix')\n",
    "lca = LCA({car_db.random(): 1}, method=lcia_methods['CC'])\n",
    "lca.lci(factorize=True)\n",
    "lca.lcia()\n",
    "lca.score\n",
    "\n",
    "current_cars_lca_marginal = contribution_LCA_to_df([x for x in car_db], cats=['CC', 'MD', 'POF', 'PMF'], names=['name'])\n",
    "\n",
    "#Need to restructure the columns for aggregating (since also BEV now)\n",
    " \n",
    "cols_prod = ['Battery BoP', 'Battery cell', 'Glider lightweighting', 'market for charger, electric passenger car', 'market for converter, for electric passenger car', 'market for electric motor, electric passenger car',\n",
    "       'market for glider, passenger car',\n",
    "       'market for heat, central or small-scale, natural gas',\n",
    "       'market for internal combustion engine, passenger car',\n",
    "       'market for inverter, for electric passenger car',\n",
    "       'market for manual dismantling of used electric passenger car',\n",
    "        'market for manual dismantling of used passenger car with internal combustion engine', 'market for power distribution unit, for electric passenger car', 'market for used powertrain from electric passenger car, manual dismantling', 'polyethylene production, high density, granulate']\n",
    "\n",
    "\n",
    "cols_direct = ['Ammonia', 'Benzene', 'Carbon dioxide, fossil', 'Carbon monoxide, fossil', 'Dinitrogen monoxide', 'Methane, fossil', 'NMVOC, non-methane volatile organic compounds, unspecified origin','Nitrogen oxides', 'Particulates, > 2.5 um, and < 10um',  'Sulfur dioxide', 'market for road wear emissions, passenger car',\n",
    "       'market for tyre wear emissions, passenger car', 'market for brake wear emissions, passenger car']\n",
    "\n",
    "cols_fuel = ['market for diesel', 'market for petrol, low-sulfur', 'market for electricity, low voltage, marginal']\n",
    "\n",
    "for cat in ['CC', 'MD', 'POF', 'PMF']: \n",
    "    if cat == 'CC': \n",
    "        db1 = agg_lca(current_cars_lca_marginal,cat)\n",
    "    if cat == 'MD': \n",
    "        db2 = agg_lca(current_cars_lca_marginal,cat)\n",
    "    if cat == 'POF': \n",
    "        db3 = agg_lca(current_cars_lca_marginal,cat)\n",
    "    else: \n",
    "        db4 = agg_lca(current_cars_lca_marginal, cat)\n",
    "\n",
    "#Return only the BEV in a df        \n",
    "current_cars_lca_agg_marginal = pd.concat([db1, db2, db3, db4], keys = ['CC', 'MD', 'POF', 'PMF'], axis = 1)[0:7]"
   ]
  },
  {
   "cell_type": "markdown",
   "metadata": {},
   "source": [
    "### LCA results older euro classes"
   ]
  },
  {
   "cell_type": "code",
   "execution_count": 12,
   "metadata": {},
   "outputs": [],
   "source": [
    "# Calculating LCA results for all emission concepts and sizes\n",
    "euro_class = ['pre euro 0', 'euro 0', 'euro 1', 'euro 2', 'euro 3', 'euro 4', 'euro 5', 'euro 6']\n",
    "db_list = list()\n",
    "\n",
    "cols_prod = ['market for glider, passenger car','market for internal combustion engine, passenger car', 'polyethylene production, high density, granulate', 'market for manual dismantling of used passenger car with internal combustion engine', 'Glider lightweighting']\n",
    "cols_direct = ['Ammonia', 'Benzene', 'Carbon dioxide, fossil',\n",
    "       'Carbon monoxide, fossil', 'Dinitrogen monoxide', 'Methane, fossil',\n",
    "       'NMVOC, non-methane volatile organic compounds, unspecified origin',\n",
    "       'Nitrogen oxides', 'Particulates, > 2.5 um, and < 10um',\n",
    "       'Sulfur dioxide', 'market for road wear emissions, passenger car','market for brake wear emissions, passenger car', 'market for tyre wear emissions, passenger car']\n",
    "cols_fuel = ['market for petrol, low-sulfur', 'market for diesel']\n",
    "\n",
    "\n",
    "for db in euro_class:\n",
    "    car_db = Database(db)\n",
    "    lca = LCA({car_db.random(): 1}, method=lcia_methods['CC'])\n",
    "    lca.lci(factorize=True)\n",
    "    lca.lcia()\n",
    "    lca.score\n",
    "\n",
    "    car_lca = contribution_LCA_to_df([x for x in car_db], cats=['CC', 'MD', 'POF', 'PMF'], names=['name'])\n",
    "    db_list.append(car_lca)\n",
    "    \n",
    "        \n",
    "    \n",
    "older_cars_lca = pd.concat(db_list, keys = ['pre euro 0', 'euro 0', 'euro 1', 'euro 2', 'euro 3', 'euro 4', 'euro 5', 'euro 6'])\n",
    "\n",
    "# Aggregating the results above into life cycle phases \n",
    "for cat in ['CC', 'MD', 'POF', 'PMF']: \n",
    "    if cat == 'CC': \n",
    "        db1 = agg_lca(older_cars_lca,cat)\n",
    "    if cat == 'MD': \n",
    "        db2 = agg_lca(older_cars_lca,cat)\n",
    "    if cat == 'POF': \n",
    "        db3 = agg_lca(older_cars_lca,cat)\n",
    "    else: \n",
    "        db4 = agg_lca(older_cars_lca, cat)\n",
    "        \n",
    "older_cars_lca_agg = pd.concat([db1, db2, db3, db4], keys = ['CC', 'MD', 'POF', 'PMF'], axis = 1)"
   ]
  }
 ],
 "metadata": {
  "kernelspec": {
   "display_name": "Python 3",
   "language": "python",
   "name": "python3"
  },
  "language_info": {
   "codemirror_mode": {
    "name": "ipython",
    "version": 3
   },
   "file_extension": ".py",
   "mimetype": "text/x-python",
   "name": "python",
   "nbconvert_exporter": "python",
   "pygments_lexer": "ipython3",
   "version": "3.6.8"
  }
 },
 "nbformat": 4,
 "nbformat_minor": 2
}
