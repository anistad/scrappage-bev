{
 "cells": [
  {
   "cell_type": "markdown",
   "metadata": {},
   "source": [
    "## Modify electricity mixes "
   ]
  },
  {
   "cell_type": "code",
   "execution_count": 337,
   "metadata": {},
   "outputs": [],
   "source": [
    "\n",
    "%run \"initialize_notebook.ipynb\""
   ]
  },
  {
   "cell_type": "code",
   "execution_count": 338,
   "metadata": {},
   "outputs": [
    {
     "name": "stdout",
     "output_type": "stream",
     "text": [
      "Vacuuming database \n"
     ]
    }
   ],
   "source": [
    "del databases['modified ecoinvent 3.5 cutoff']"
   ]
  },
  {
   "cell_type": "code",
   "execution_count": 339,
   "metadata": {},
   "outputs": [
    {
     "name": "stderr",
     "output_type": "stream",
     "text": [
      "Writing activities to SQLite3 database:\n",
      "0% [##############################] 100% | ETA: 00:00:00\n",
      "Total time elapsed: 00:01:49\n"
     ]
    },
    {
     "name": "stdout",
     "output_type": "stream",
     "text": [
      "Title: Writing activities to SQLite3 database:\n",
      "  Started: 07/09/2019 18:38:59\n",
      "  Finished: 07/09/2019 18:40:48\n",
      "  Total time elapsed: 00:01:49\n",
      "  CPU %: 69.90\n",
      "  Memory %: 33.92\n"
     ]
    }
   ],
   "source": [
    "#Creating a copy of ecoinvent to do the modifications if not already done \n",
    "if 'modified ecoinvent 3.5 cutoff' not in databases:\n",
    "    Database('ecoinvent 3.5 cutoff').copy('modified ecoinvent 3.5 cutoff')"
   ]
  },
  {
   "cell_type": "code",
   "execution_count": 340,
   "metadata": {},
   "outputs": [],
   "source": [
    "db = Database('modified ecoinvent 3.5 cutoff')"
   ]
  },
  {
   "cell_type": "markdown",
   "metadata": {},
   "source": [
    "### Modifying the electricity mix to the marginal mix\n",
    "Both the high voltage market and the low voltage electricity market for Germany is modified to be equal to the marginal mix found in ecoinvent"
   ]
  },
  {
   "cell_type": "code",
   "execution_count": 341,
   "metadata": {},
   "outputs": [],
   "source": [
    "#Finding first the high voltage market \n",
    "el_high_voltage = [x for x in db if 'market for electricity, high voltage' == x['name'] and 'DE' == x['location']][0]\n"
   ]
  },
  {
   "cell_type": "code",
   "execution_count": 342,
   "metadata": {},
   "outputs": [],
   "source": [
    "#Creating a copy of the German high voltage market as we want to modify this one \n",
    "high_voltage = el_high_voltage.copy()"
   ]
  },
  {
   "cell_type": "code",
   "execution_count": 343,
   "metadata": {},
   "outputs": [],
   "source": [
    "#Making sure to change the name \n",
    "high_voltage['name'] = 'marginal high voltage'\n",
    "high_voltage.save()"
   ]
  },
  {
   "cell_type": "code",
   "execution_count": 344,
   "metadata": {},
   "outputs": [
    {
     "data": {
      "text/plain": [
       "['marginal high voltage' (kilowatt hour, DE, None)]"
      ]
     },
     "execution_count": 344,
     "metadata": {},
     "output_type": "execute_result"
    }
   ],
   "source": [
    "#Checking that it is added\n",
    "[x for x in db if 'marginal high voltage' == x['name'] and 'DE' == x['location']]"
   ]
  },
  {
   "cell_type": "code",
   "execution_count": 345,
   "metadata": {},
   "outputs": [],
   "source": [
    "#Modifying the exchanges for the high voltage market to correspond to the marginal electricity mix found in ecoinvent \n",
    "for e in high_voltage.exchanges(): \n",
    "    e.delete()\n",
    "high_voltage.save()"
   ]
  },
  {
   "cell_type": "code",
   "execution_count": 346,
   "metadata": {},
   "outputs": [],
   "source": [
    "#Finding the electricity generation processes in ecoinvent \n",
    "natural_gas = [act for act in db if 'electricity production, natural gas, combined cycle power plant' == act['name'] and 'DE' == act['location']][0]\n",
    "\n",
    "geothermal = [act for act in db if 'electricity production, deep geothermal' == act['name'] and 'DE' == act['location']][0]\n",
    "hydro = [act for act in db if 'electricity production, hydro, reservoir, non-alpine region' == act['name'] and 'DE' == act['location']][0]\n",
    "hydro_river = [act for act in db if 'electricity production, hydro, run-of-river' == act['name'] and 'DE' == act['location']][0]\n",
    "oil = [act for act in db if 'electricity production, oil' == act['name'] and 'DE' == act['location']][0]\n",
    "wind_offshore = [act for act in db if 'electricity production, wind, 1-3MW turbine, offshore' == act['name'] and 'DE' == act['location']][0] \n",
    "wind_onshore = [act for act in db if 'electricity production, wind, >3MW turbine, onshore' == act['name'] and 'DE' == act['location']][0] \n",
    "high_volt = [act for act in db if 'market for electricity, high voltage' == act['name'] and 'DE' == act['location']][0] \n",
    "transmission1 = [act for act in db if 'market for transmission network, electricity, high voltage' == act['name'] and 'GLO' == act['location']][0]\n",
    "transmission2 = [act for act in db if 'market for transmission network, long-distance' == act['name'] and 'GLO' == act['location']][0]"
   ]
  },
  {
   "cell_type": "code",
   "execution_count": 347,
   "metadata": {},
   "outputs": [],
   "source": [
    "#Finding the biosphere processes in the biosphere database\n",
    "db_biosphere = Database('biosphere3')\n",
    "dinitrogen_mono = [ex for ex in db_biosphere if 'Dinitrogen monoxide' in ex['name'] and ex['categories'] == ('air',)][0]\n",
    "ozone = [ex for ex in db_biosphere if 'Ozone' in ex['name'] and ex['categories'] == ('air',)][0]"
   ]
  },
  {
   "cell_type": "code",
   "execution_count": 348,
   "metadata": {},
   "outputs": [],
   "source": [
    "#Add exchanges to the activity \"marginal high voltage\" that corresponds to the marginal mix from ecoinvent for \"market for electricity, high voltage\"\n",
    "high_voltage.new_exchange(input = natural_gas.key, amount = 0.19415, type =\"technosphere\").save()\n",
    "high_voltage.new_exchange(input = geothermal.key, amount = 0.010104, type =\"technosphere\").save()\n",
    "high_voltage.new_exchange(input = hydro.key, amount = 0.0027936, type =\"technosphere\").save()\n",
    "high_voltage.new_exchange(input = hydro_river.key, amount = 0.014666, type =\"technosphere\").save()\n",
    "high_voltage.new_exchange(input = oil.key, amount = 0.02399, type =\"technosphere\").save()\n",
    "high_voltage.new_exchange(input = wind_offshore.key, amount = 0.16594, type =\"technosphere\").save()\n",
    "high_voltage.new_exchange(input = wind_onshore.key, amount = 0.58835, type =\"technosphere\").save()\n",
    "high_voltage.new_exchange(input = high_volt.key, amount = 0.0171, type =\"technosphere\").save()\n",
    "high_voltage.new_exchange(input = transmission1.key, amount = 6.5821e-09, type =\"technosphere\").save()\n",
    "high_voltage.new_exchange(input = transmission2.key, amount = 3.17e-10, type =\"technosphere\").save()\n",
    "high_voltage.new_exchange(input = dinitrogen_mono.key, amount = 5e-06, type =\"biosphere\").save()\n",
    "high_voltage.new_exchange(input = ozone.key, amount = 4.1577e-06, type =\"biosphere\").save()"
   ]
  },
  {
   "cell_type": "code",
   "execution_count": 349,
   "metadata": {},
   "outputs": [
    {
     "name": "stdout",
     "output_type": "stream",
     "text": [
      "Exchange: 0.19415 kilowatt hour 'electricity production, natural gas, combined cycle power plant' (kilowatt hour, DE, None) to 'marginal high voltage' (kilowatt hour, DE, None)>\n",
      "Exchange: 0.010104 kilowatt hour 'electricity production, deep geothermal' (kilowatt hour, DE, None) to 'marginal high voltage' (kilowatt hour, DE, None)>\n",
      "Exchange: 0.0027936 kilowatt hour 'electricity production, hydro, reservoir, non-alpine region' (kilowatt hour, DE, None) to 'marginal high voltage' (kilowatt hour, DE, None)>\n",
      "Exchange: 0.014666 kilowatt hour 'electricity production, hydro, run-of-river' (kilowatt hour, DE, None) to 'marginal high voltage' (kilowatt hour, DE, None)>\n",
      "Exchange: 0.02399 kilowatt hour 'electricity production, oil' (kilowatt hour, DE, None) to 'marginal high voltage' (kilowatt hour, DE, None)>\n",
      "Exchange: 0.16594 kilowatt hour 'electricity production, wind, 1-3MW turbine, offshore' (kilowatt hour, DE, None) to 'marginal high voltage' (kilowatt hour, DE, None)>\n",
      "Exchange: 0.58835 kilowatt hour 'electricity production, wind, >3MW turbine, onshore' (kilowatt hour, DE, None) to 'marginal high voltage' (kilowatt hour, DE, None)>\n",
      "Exchange: 0.0171 kilowatt hour 'market for electricity, high voltage' (kilowatt hour, DE, None) to 'marginal high voltage' (kilowatt hour, DE, None)>\n",
      "Exchange: 6.5821e-09 kilometer 'market for transmission network, electricity, high voltage' (kilometer, GLO, None) to 'marginal high voltage' (kilowatt hour, DE, None)>\n",
      "Exchange: 3.17e-10 kilometer 'market for transmission network, long-distance' (kilometer, GLO, None) to 'marginal high voltage' (kilowatt hour, DE, None)>\n",
      "Exchange: 5e-06 kilogram 'Dinitrogen monoxide' (kilogram, None, ('air',)) to 'marginal high voltage' (kilowatt hour, DE, None)>\n",
      "Exchange: 4.1577e-06 kilogram 'Ozone' (kilogram, None, ('air',)) to 'marginal high voltage' (kilowatt hour, DE, None)>\n"
     ]
    }
   ],
   "source": [
    "#Checking that the exchanges are present \n",
    "for exc in high_voltage.exchanges(): \n",
    "    print(exc)"
   ]
  },
  {
   "cell_type": "code",
   "execution_count": 350,
   "metadata": {},
   "outputs": [
    {
     "data": {
      "text/plain": [
       "0.13678348563870166"
      ]
     },
     "execution_count": 350,
     "metadata": {},
     "output_type": "execute_result"
    }
   ],
   "source": [
    "#Calculating the GHG intensity to check that it is as expected \n",
    "lca = LCA({high_voltage: 1}, method=lcia_methods['CC'])\n",
    "lca.lci()\n",
    "lca.lcia()\n",
    "lca.score"
   ]
  },
  {
   "cell_type": "code",
   "execution_count": 351,
   "metadata": {},
   "outputs": [],
   "source": [
    "#Finding the low voltage electricity mix, where the solar production is fed in\n",
    "el_low_voltage = [x for x in Database('modified ecoinvent 3.5 cutoff') if 'market for electricity, low voltage' == x['name'] and 'DE' == x['location']][0]\n",
    "\n",
    "#Creating a copy\n",
    "low_voltage = el_low_voltage.copy()\n",
    "\n",
    "#Changing the name \n",
    "low_voltage['name'] = 'market for electricity, low voltage, marginal'\n",
    "low_voltage.save()"
   ]
  },
  {
   "cell_type": "code",
   "execution_count": 352,
   "metadata": {},
   "outputs": [],
   "source": [
    "low_voltage = [x for x in db if 'market for electricity, low voltage, marginal' == x['name'] and 'DE' == x['location']][0]\n",
    "\n",
    "#Finding the solar production activity used in the marginal ecoinvent mix\n",
    "solar_roof = [act for act in db if 'electricity production, photovoltaic, 3kWp slanted-roof installation, multi-Si' in act['name'] and 'DE' in act['location']][0]\n",
    "            \n",
    "        \n",
    "for e in low_voltage.exchanges(): \n",
    "        if 'photovoltaic' in (get_activity(e['input'])['name']): \n",
    "            e.delete()\n",
    "            \n",
    "        if 'electricity voltage transformation from medium to low voltage' in (get_activity(e['input'])['name']):\n",
    "            e['amount'] = 0.6645\n",
    "            e.save()\n",
    "        \n",
    "low_voltage.save()\n",
    "low_voltage.new_exchange(input = solar_roof.key, amount = 0.3355, type =\"technosphere\").save()\n",
    "                        "
   ]
  },
  {
   "cell_type": "code",
   "execution_count": 353,
   "metadata": {},
   "outputs": [
    {
     "name": "stdout",
     "output_type": "stream",
     "text": [
      "Exchange: 8.74048809653223e-08 kilometer 'market for distribution network, electricity, low voltage' (kilometer, GLO, None) to 'market for electricity, low voltage, marginal' (kilowatt hour, DE, None)>\n",
      "Exchange: 6.27e-09 kilogram 'market for sulfur hexafluoride, liquid' (kilogram, RER, None) to 'market for electricity, low voltage, marginal' (kilowatt hour, DE, None)>\n",
      "Exchange: 1.0 kilowatt hour 'market for electricity, low voltage, marginal' (kilowatt hour, DE, None) to 'market for electricity, low voltage, marginal' (kilowatt hour, DE, None)>\n",
      "Exchange: 0.6645 kilowatt hour 'electricity voltage transformation from medium to low voltage' (kilowatt hour, DE, None) to 'market for electricity, low voltage, marginal' (kilowatt hour, DE, None)>\n",
      "Exchange: 0.0169 kilowatt hour 'market for electricity, low voltage, marginal' (kilowatt hour, DE, None) to 'market for electricity, low voltage, marginal' (kilowatt hour, DE, None)>\n",
      "Exchange: 6.27e-09 kilogram 'Sulfur hexafluoride' (kilogram, None, ('air',)) to 'market for electricity, low voltage, marginal' (kilowatt hour, DE, None)>\n",
      "Exchange: 0.3355 kilowatt hour 'electricity production, photovoltaic, 3kWp slanted-roof installation, multi-Si, panel, mounted' (kilowatt hour, DE, None) to 'market for electricity, low voltage, marginal' (kilowatt hour, DE, None)>\n"
     ]
    }
   ],
   "source": [
    "#Checking that all is good \n",
    "test_low_voltage = [x for x in Database('modified ecoinvent 3.5 cutoff') if 'market for electricity, low voltage, marginal' == x['name']]\n",
    "\n",
    "for e in test_low_voltage[0].exchanges(): \n",
    "    print(e)"
   ]
  },
  {
   "cell_type": "code",
   "execution_count": 354,
   "metadata": {},
   "outputs": [
    {
     "data": {
      "text/plain": [
       "0.47175718393735466"
      ]
     },
     "execution_count": 354,
     "metadata": {},
     "output_type": "execute_result"
    }
   ],
   "source": [
    "lca = LCA({test_low_voltage[0]: 1}, method=lcia_methods['CC'])\n",
    "lca.lci()\n",
    "lca.lcia()\n",
    "lca.score"
   ]
  },
  {
   "cell_type": "code",
   "execution_count": 355,
   "metadata": {},
   "outputs": [],
   "source": [
    "#Creating a copy of the process transforming high to medium voltage\n",
    "transform_high_to_medium = [act for act in db if 'electricity voltage transformation from high to medium voltage' == act['name'] and 'DE' in act['location']][0].copy()\n",
    "transform_high_to_medium['name'] = 'electricity voltage transformation high to medium, marginal'\n",
    "transform_high_to_medium.save()\n",
    "\n",
    "for e in transform_high_to_medium.exchanges(): \n",
    "    if 'market for electricity, high voltage' == get_activity(e['input'])['name']:\n",
    "        amount_high_voltage = e['amount']\n",
    "\n",
    "        \n"
   ]
  },
  {
   "cell_type": "code",
   "execution_count": 356,
   "metadata": {},
   "outputs": [],
   "source": [
    "#Linking this to the marginal high voltage market instead \n",
    "transform_high_to_medium.new_exchange(input = high_voltage.key, amount = amount_high_voltage, type = \"technosphere\").save()\n"
   ]
  },
  {
   "cell_type": "code",
   "execution_count": 357,
   "metadata": {},
   "outputs": [],
   "source": [
    "#Deleting the existing flow\n",
    "for e in transform_high_to_medium.exchanges(): \n",
    "    if 'market for electricity, high voltage' == get_activity(e['input'])['name']:\n",
    "        e.delete()\n",
    "        e.save()\n",
    "        "
   ]
  },
  {
   "cell_type": "code",
   "execution_count": 358,
   "metadata": {},
   "outputs": [],
   "source": [
    "#Creating copy of medium market and renaming\n",
    "medium_voltage = [act for act in db if 'market for electricity, medium voltage' == act['name'] and 'DE' in act['location']][0].copy()\n",
    "medium_voltage['name'] = 'market for electricity, medium, marginal'\n",
    "medium_voltage.save()"
   ]
  },
  {
   "cell_type": "code",
   "execution_count": 359,
   "metadata": {},
   "outputs": [],
   "source": [
    "#Linking to the marginal high voltage market\n",
    "medium_voltage_market = [act for act in db if 'market for electricity, medium, marginal' in act['name']][0]\n",
    "for e in medium_voltage_market.exchanges(): \n",
    "    if 'electricity voltage transformation' in get_activity(e['input'])['name']: \n",
    "        medium_voltage_market.new_exchange(input = transform_high_to_medium.key, amount = e['amount'], type = \"technosphere\").save()\n",
    "        e.delete()\n",
    "        "
   ]
  },
  {
   "cell_type": "code",
   "execution_count": 360,
   "metadata": {},
   "outputs": [],
   "source": [
    "low_voltage_market = [act for act in db if act['name'] == 'market for electricity, low voltage, marginal'][0]"
   ]
  },
  {
   "cell_type": "code",
   "execution_count": 361,
   "metadata": {},
   "outputs": [],
   "source": [
    "\n",
    "#Creating a copy of the process transforming high to medium voltage\n",
    "transform_medium_to_low = [act for act in db if 'electricity voltage transformation from medium to low voltage' == act['name'] and 'DE' in act['location']][0].copy()\n",
    "transform_medium_to_low['name'] = 'electricity voltage transformation medium to low, marginal'\n",
    "transform_medium_to_low.save()\n",
    "\n",
    "\n"
   ]
  },
  {
   "cell_type": "code",
   "execution_count": 362,
   "metadata": {},
   "outputs": [
    {
     "data": {
      "text/plain": [
       "[Exchange: 1.0165 kilowatt hour 'market for electricity, medium voltage' (kilowatt hour, DE, None) to 'electricity voltage transformation medium to low, marginal' (kilowatt hour, DE, None)>,\n",
       " Exchange: 1.0 kilowatt hour 'electricity voltage transformation medium to low, marginal' (kilowatt hour, DE, None) to 'electricity voltage transformation medium to low, marginal' (kilowatt hour, DE, None)>]"
      ]
     },
     "execution_count": 362,
     "metadata": {},
     "output_type": "execute_result"
    }
   ],
   "source": [
    "[exc for exc in transform_medium_to_low.exchanges()]"
   ]
  },
  {
   "cell_type": "code",
   "execution_count": 363,
   "metadata": {},
   "outputs": [],
   "source": [
    "for e in transform_medium_to_low.exchanges():\n",
    "    if 'market for electricity, medium voltage' == get_activity(e['input'])['name']:\n",
    "        medium_voltage_market = [act for act in db if 'market for electricity, medium, marginal' in act['name']][0]\n",
    "        transform_medium_to_low.new_exchange(input = medium_voltage_market.key, amount = e['amount'], type = \"technosphere\").save()\n",
    "        "
   ]
  },
  {
   "cell_type": "code",
   "execution_count": 364,
   "metadata": {},
   "outputs": [],
   "source": [
    "low_voltage_market = [act for act in db if act['name'] == 'market for electricity, low voltage, marginal'][0]\n",
    "for e in low_voltage_market.exchanges(): \n",
    "    if 'electricity voltage transformation from medium to low voltage' in get_activity(e['input'])['name']:\n",
    "        low_voltage_market.new_exchange(input = transform_medium_to_low.key, amount = e['amount'], type = \"technosphere\").save()\n",
    "        e.delete()\n",
    "        e.save()"
   ]
  },
  {
   "cell_type": "code",
   "execution_count": 370,
   "metadata": {},
   "outputs": [],
   "source": [
    "low_voltage_market.save()"
   ]
  },
  {
   "cell_type": "code",
   "execution_count": 371,
   "metadata": {},
   "outputs": [],
   "source": [
    "low_voltage_avg = [act for act in Database('ecoinvent 3.5 cutoff') if 'market for electricity, low voltage' == act['name'] and 'DE' == act['location']][0]\n",
    "low_voltage_marginal =  [act for act in Database('modified ecoinvent 3.5 cutoff') if 'market for electricity, low voltage, marginal' == act['name'] and 'DE' == act['location']][0]\n",
    "medium_voltage_marginal =  [act for act in Database('modified ecoinvent 3.5 cutoff') if 'market for electricity, medium, marginal' == act['name'] and 'DE' == act['location']][0]\n",
    "high_voltage_marginal = [act for act in Database('modified ecoinvent 3.5 cutoff') if 'marginal high voltage' == act['name']][0]"
   ]
  },
  {
   "cell_type": "code",
   "execution_count": 372,
   "metadata": {},
   "outputs": [],
   "source": [
    "def run_lca(fu):\n",
    "    for cat in ['CC']:\n",
    "        lca = LCA({fu: 1}, method=lcia_methods[cat])\n",
    "        lca.lci()\n",
    "        lca.lcia()\n",
    "        print(fu['name'])\n",
    "        print(lca.score)\n",
    "        "
   ]
  },
  {
   "cell_type": "code",
   "execution_count": 373,
   "metadata": {},
   "outputs": [
    {
     "name": "stdout",
     "output_type": "stream",
     "text": [
      "market for electricity, low voltage\n",
      "0.6114525922015263\n",
      "market for electricity, low voltage, marginal\n",
      "0.5661749661077695\n",
      "market for electricity, medium, marginal\n",
      "0.13741974107306096\n",
      "marginal high voltage\n",
      "0.13678348563870169\n"
     ]
    }
   ],
   "source": [
    "run_lca(low_voltage_avg)\n",
    "run_lca(low_voltage_marginal)\n",
    "run_lca(medium_voltage_marginal)\n",
    "run_lca(high_voltage_marginal)"
   ]
  },
  {
   "cell_type": "code",
   "execution_count": 368,
   "metadata": {},
   "outputs": [
    {
     "name": "stdout",
     "output_type": "stream",
     "text": [
      "Exchange: 8.74048809653223e-08 kilometer 'market for distribution network, electricity, low voltage' (kilometer, GLO, None) to 'market for electricity, low voltage, marginal' (kilowatt hour, DE, None)>\n",
      "Exchange: 6.27e-09 kilogram 'market for sulfur hexafluoride, liquid' (kilogram, RER, None) to 'market for electricity, low voltage, marginal' (kilowatt hour, DE, None)>\n",
      "Exchange: 1.0 kilowatt hour 'market for electricity, low voltage, marginal' (kilowatt hour, DE, None) to 'market for electricity, low voltage, marginal' (kilowatt hour, DE, None)>\n",
      "Exchange: 0.0169 kilowatt hour 'market for electricity, low voltage, marginal' (kilowatt hour, DE, None) to 'market for electricity, low voltage, marginal' (kilowatt hour, DE, None)>\n",
      "Exchange: 6.27e-09 kilogram 'Sulfur hexafluoride' (kilogram, None, ('air',)) to 'market for electricity, low voltage, marginal' (kilowatt hour, DE, None)>\n",
      "Exchange: 0.3355 kilowatt hour 'electricity production, photovoltaic, 3kWp slanted-roof installation, multi-Si, panel, mounted' (kilowatt hour, DE, None) to 'market for electricity, low voltage, marginal' (kilowatt hour, DE, None)>\n",
      "Exchange: 0.6645 kilowatt hour 'electricity voltage transformation medium to low, marginal' (kilowatt hour, DE, None) to 'market for electricity, low voltage, marginal' (kilowatt hour, DE, None)>\n"
     ]
    }
   ],
   "source": [
    "for e in low_voltage_market.exchanges(): \n",
    "    print(e)"
   ]
  },
  {
   "cell_type": "code",
   "execution_count": 369,
   "metadata": {},
   "outputs": [],
   "source": [
    "#Database('Cars').copy('Cars marginal mix')\n",
    "#marginal_mix = [act for act in Database('future ecoinvent') if 'market for electricity, low voltage' == act['name'] and 'DE' == act['location']][0]\n",
    "#marginal_mix\n",
    "#tst_cars = [x for x in Database('Cars marginal mix') if 'BEV' in x['name']]\n",
    "#tst_cars\n",
    "\n",
    "#for car in tst_cars:\n",
    "#    for exc in car.exchanges(): \n",
    "#        if 'market for electricity' in (get_activity(exc['input'])['name']): \n",
    "#            print(exc['input'])\n",
    "#            car.new_exchange(input = marginal_mix.key, amount = exc['amount'], type = \"technosphere\").save()\n",
    "            #exc.delete()\n"
   ]
  },
  {
   "cell_type": "code",
   "execution_count": 375,
   "metadata": {},
   "outputs": [
    {
     "name": "stdout",
     "output_type": "stream",
     "text": [
      "Extracted 1 worksheets in 0.02 seconds\n",
      "Applying strategy: csv_restore_tuples\n",
      "Applying strategy: csv_restore_booleans\n",
      "Applying strategy: csv_numerize\n",
      "Applying strategy: csv_drop_unknown\n",
      "Applying strategy: csv_add_missing_exchanges_section\n",
      "Applying strategy: normalize_units\n",
      "Applying strategy: normalize_biosphere_categories\n",
      "Applying strategy: normalize_biosphere_names\n",
      "Applying strategy: strip_biosphere_exc_locations\n",
      "Applying strategy: set_code_by_activity_hash\n",
      "Applying strategy: link_iterable_by_fields\n",
      "Applying strategy: assign_only_product_as_production\n",
      "Applying strategy: link_technosphere_by_activity_hash\n",
      "Applying strategy: drop_falsey_uncertainty_fields_but_keep_zeros\n",
      "Applying strategy: convert_uncertainty_types_to_integers\n",
      "Applying strategy: convert_activity_parameters_to_list\n",
      "Applied 16 strategies in 0.47 seconds\n",
      "Applying strategy: link_iterable_by_fields\n",
      "Applying strategy: link_iterable_by_fields\n"
     ]
    },
    {
     "name": "stderr",
     "output_type": "stream",
     "text": [
      "Writing activities to SQLite3 database:\n"
     ]
    },
    {
     "name": "stdout",
     "output_type": "stream",
     "text": [
      "1 datasets\n",
      "34 exchanges\n",
      "0 unlinked exchanges\n",
      "  \n"
     ]
    },
    {
     "name": "stderr",
     "output_type": "stream",
     "text": [
      "0% [#] 100% | ETA: 00:00:01\n",
      "Total time elapsed: 00:00:00\n"
     ]
    },
    {
     "name": "stdout",
     "output_type": "stream",
     "text": [
      "Title: Writing activities to SQLite3 database:\n",
      "  Started: 07/09/2019 18:49:29\n",
      "  Finished: 07/09/2019 18:49:29\n",
      "  Total time elapsed: 00:00:00\n",
      "  CPU %: 0.00\n",
      "  Memory %: 7.23\n",
      "Created database: Electricity mix 2018\n"
     ]
    }
   ],
   "source": [
    "filepath = \"./data/inventory\"\n",
    "filepath+=\"/lci-German-elmix-2018\"\n",
    "\n",
    "filepath+=\".xlsx\"\n",
    "\n",
    "imp = ExcelImporter(filepath)\n",
    "imp.apply_strategies()\n",
    "imp.match_database(fields=('name', 'unit', 'location'))\n",
    "\n",
    "imp.match_database(\"ecoinvent 3.5 cutoff\", fields=('name', 'unit', 'location'))\n",
    "#imp.match_database(\"Additional datasets\", fields=('name', 'unit', 'location'))\n",
    "imp.statistics()\n",
    "imp.write_database()"
   ]
  },
  {
   "cell_type": "code",
   "execution_count": 377,
   "metadata": {},
   "outputs": [],
   "source": [
    "fu=Database('Electricity mix 2018').random()"
   ]
  },
  {
   "cell_type": "code",
   "execution_count": 378,
   "metadata": {},
   "outputs": [
    {
     "name": "stdout",
     "output_type": "stream",
     "text": [
      "market for electricity, high voltage, 2018\n",
      "0.6265547441662245\n"
     ]
    }
   ],
   "source": [
    "run_lca(fu)"
   ]
  },
  {
   "cell_type": "code",
   "execution_count": 379,
   "metadata": {},
   "outputs": [],
   "source": [
    "fu1 = [act for act in Database('ecoinvent 3.5 cutoff') if 'market for electricity, high' in act['name'] and 'DE' == act['location']]"
   ]
  },
  {
   "cell_type": "code",
   "execution_count": 381,
   "metadata": {},
   "outputs": [
    {
     "name": "stdout",
     "output_type": "stream",
     "text": [
      "market for electricity, high voltage\n",
      "0.6463809088531179\n"
     ]
    }
   ],
   "source": []
  },
  {
   "cell_type": "code",
   "execution_count": null,
   "metadata": {},
   "outputs": [],
   "source": []
  }
 ],
 "metadata": {
  "kernelspec": {
   "display_name": "Python 3",
   "language": "python",
   "name": "python3"
  },
  "language_info": {
   "codemirror_mode": {
    "name": "ipython",
    "version": 3
   },
   "file_extension": ".py",
   "mimetype": "text/x-python",
   "name": "python",
   "nbconvert_exporter": "python",
   "pygments_lexer": "ipython3",
   "version": "3.6.8"
  }
 },
 "nbformat": 4,
 "nbformat_minor": 2
}
