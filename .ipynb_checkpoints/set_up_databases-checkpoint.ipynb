{
 "cells": [
  {
   "cell_type": "markdown",
   "metadata": {},
   "source": [
    "# Reading in databases and LCI \n",
    "\n",
    "This notebook set up the project and import and create the necessary databases. "
   ]
  },
  {
   "cell_type": "code",
   "execution_count": 1,
   "metadata": {},
   "outputs": [
    {
     "data": {
      "text/html": [
       "<style>.container { width:100% !important; }</style>"
      ],
      "text/plain": [
       "<IPython.core.display.HTML object>"
      ]
     },
     "execution_count": 1,
     "metadata": {},
     "output_type": "execute_result"
    }
   ],
   "source": [
    "from IPython.core.display import HTML\n",
    "HTML(\"<style>.container { width:100% !important; }</style>\")"
   ]
  },
  {
   "cell_type": "code",
   "execution_count": 2,
   "metadata": {},
   "outputs": [],
   "source": [
    "from matplotlib import pyplot as plt\n",
    "from brightway2 import * \n",
    "import numpy as np\n",
    "import seaborn as sns\n",
    "import pandas as pd\n",
    "\n",
    "projects.set_current(\"scrappage programs\")"
   ]
  },
  {
   "cell_type": "markdown",
   "metadata": {},
   "source": [
    "Importing the biosphere matrix and ecoinvent:"
   ]
  },
  {
   "cell_type": "code",
   "execution_count": 5,
   "metadata": {},
   "outputs": [
    {
     "name": "stdout",
     "output_type": "stream",
     "text": [
      "Creating default biosphere\n",
      "\n"
     ]
    },
    {
     "name": "stderr",
     "output_type": "stream",
     "text": [
      "Writing activities to SQLite3 database:\n"
     ]
    },
    {
     "name": "stdout",
     "output_type": "stream",
     "text": [
      "Applying strategy: normalize_units\n",
      "Applying strategy: drop_unspecified_subcategories\n",
      "Applied 2 strategies in 0.00 seconds\n"
     ]
    },
    {
     "name": "stderr",
     "output_type": "stream",
     "text": [
      "0% [##############################] 100% | ETA: 00:00:00\n",
      "Total time elapsed: 00:00:00\n"
     ]
    },
    {
     "name": "stdout",
     "output_type": "stream",
     "text": [
      "Title: Writing activities to SQLite3 database:\n",
      "  Started: 07/08/2019 16:54:00\n",
      "  Finished: 07/08/2019 16:54:00\n",
      "  Total time elapsed: 00:00:00\n",
      "  CPU %: 88.00\n",
      "  Memory %: 1.82\n",
      "Created database: biosphere3\n",
      "Creating default LCIA methods\n",
      "\n",
      "Applying strategy: normalize_units\n",
      "Applying strategy: set_biosphere_type\n",
      "Applying strategy: drop_unspecified_subcategories\n",
      "Applying strategy: link_iterable_by_fields\n",
      "Applied 4 strategies in 2.04 seconds\n",
      "Wrote 850 LCIA methods with 220699 characterization factors\n",
      "Creating core data migrations\n",
      "\n"
     ]
    }
   ],
   "source": [
    "bw2setup()"
   ]
  },
  {
   "cell_type": "code",
   "execution_count": 3,
   "metadata": {},
   "outputs": [
    {
     "name": "stdout",
     "output_type": "stream",
     "text": [
      "Database has already been imported\n"
     ]
    }
   ],
   "source": [
    "fpei33 = \"C:/Users/nistad_a/datasets\"\n",
    "\n",
    "if 'ecoinvent 3.5 cutoff' in databases:\n",
    "    print(\"Database has already been imported\")\n",
    "else:\n",
    "    ei33 = SingleOutputEcospold2Importer(fpei33, 'ecoinvent 3.5 cutoff')\n",
    "    ei33.apply_strategies()\n",
    "    ei33.statistics()"
   ]
  },
  {
   "cell_type": "code",
   "execution_count": 13,
   "metadata": {},
   "outputs": [
    {
     "name": "stderr",
     "output_type": "stream",
     "text": [
      "Writing activities to SQLite3 database:\n",
      "0% [##############################] 100% | ETA: 00:00:00\n",
      "Total time elapsed: 00:02:18\n"
     ]
    },
    {
     "name": "stdout",
     "output_type": "stream",
     "text": [
      "Title: Writing activities to SQLite3 database:\n",
      "  Started: 07/08/2019 17:10:30\n",
      "  Finished: 07/08/2019 17:12:48\n",
      "  Total time elapsed: 00:02:18\n",
      "  CPU %: 74.40\n",
      "  Memory %: 18.11\n",
      "Created database: ecoinvent 3.5 cutoff\n"
     ]
    },
    {
     "data": {
      "text/plain": [
       "Brightway2 SQLiteBackend: ecoinvent 3.5 cutoff"
      ]
     },
     "execution_count": 13,
     "metadata": {},
     "output_type": "execute_result"
    }
   ],
   "source": [
    "ei33.write_database()"
   ]
  },
  {
   "cell_type": "code",
   "execution_count": 4,
   "metadata": {},
   "outputs": [
    {
     "data": {
      "text/plain": [
       "Databases dictionary with 12 object(s):\n",
       "\tAdditional datasets\n",
       "\tCurrent cars\n",
       "\tbiosphere3\n",
       "\tecoinvent 3.5 cutoff\n",
       "\teuro 0\n",
       "\teuro 1\n",
       "\teuro 2\n",
       "\teuro 3\n",
       "\teuro 4\n",
       "\teuro 5\n",
       "\teuro 6\n",
       "\tpre euro 0"
      ]
     },
     "execution_count": 4,
     "metadata": {},
     "output_type": "execute_result"
    }
   ],
   "source": [
    "databases"
   ]
  },
  {
   "cell_type": "markdown",
   "metadata": {
    "collapsed": true
   },
   "source": [
    "Read in inventory and create databases for all cars: "
   ]
  },
  {
   "cell_type": "code",
   "execution_count": 24,
   "metadata": {},
   "outputs": [
    {
     "name": "stdout",
     "output_type": "stream",
     "text": [
      "Extracted 2 worksheets in 0.16 seconds\n",
      "Applying strategy: csv_restore_tuples\n",
      "Applying strategy: csv_restore_booleans\n",
      "Applying strategy: csv_numerize\n",
      "Applying strategy: csv_drop_unknown\n",
      "Applying strategy: csv_add_missing_exchanges_section\n",
      "Applying strategy: normalize_units\n",
      "Applying strategy: normalize_biosphere_categories\n",
      "Applying strategy: normalize_biosphere_names\n",
      "Applying strategy: strip_biosphere_exc_locations\n",
      "Applying strategy: set_code_by_activity_hash\n",
      "Applying strategy: link_iterable_by_fields\n",
      "Applying strategy: assign_only_product_as_production\n",
      "Applying strategy: link_technosphere_by_activity_hash\n",
      "Applying strategy: drop_falsey_uncertainty_fields_but_keep_zeros\n",
      "Applying strategy: convert_uncertainty_types_to_integers\n",
      "Applying strategy: convert_activity_parameters_to_list\n",
      "Applied 16 strategies in 10.61 seconds\n",
      "Applying strategy: link_iterable_by_fields\n",
      "Applying strategy: link_iterable_by_fields\n"
     ]
    },
    {
     "name": "stderr",
     "output_type": "stream",
     "text": [
      "Writing activities to SQLite3 database:\n"
     ]
    },
    {
     "name": "stdout",
     "output_type": "stream",
     "text": [
      "46 datasets\n",
      "242 exchanges\n",
      "0 unlinked exchanges\n",
      "  \n"
     ]
    },
    {
     "name": "stderr",
     "output_type": "stream",
     "text": [
      "0% [##############################] 100% | ETA: 00:00:00\n",
      "Total time elapsed: 00:00:00\n"
     ]
    },
    {
     "name": "stdout",
     "output_type": "stream",
     "text": [
      "Title: Writing activities to SQLite3 database:\n",
      "  Started: 07/08/2019 17:33:50\n",
      "  Finished: 07/08/2019 17:33:50\n",
      "  Total time elapsed: 00:00:00\n",
      "  CPU %: 76.70\n",
      "  Memory %: 16.77\n",
      "Created database: Additional datasets\n"
     ]
    }
   ],
   "source": [
    "filepath = \"C:/Users/nistad_a/Desktop/scrappage-bev/data/inventory\"\n",
    "filepath+=\"/lci-battery-glider\"\n",
    "filepath+=\".xlsx\"\n",
    "\n",
    "imp = ExcelImporter(filepath)\n",
    "imp.apply_strategies()\n",
    "imp.match_database(fields=('name', 'unit', 'location'))\n",
    "\n",
    "imp.match_database(\"ecoinvent 3.5 cutoff\", fields=('name', 'unit', 'location'))\n",
    "imp.statistics()\n",
    "imp.write_database()"
   ]
  },
  {
   "cell_type": "code",
   "execution_count": 31,
   "metadata": {},
   "outputs": [],
   "source": [
    "def lci_euro_to_db(euro_class):\n",
    "    filepath = \"C:/Users/nistad_a/Desktop/scrappage-bev/data/inventory/lci-\"\n",
    "    filepath+=euro_class\n",
    "    filepath+=\".xlsx\"\n",
    "    print(filepath)\n",
    "\n",
    "    imp = ExcelImporter(filepath)\n",
    "    imp.apply_strategies()\n",
    "    imp.match_database(fields=('name', 'unit', 'location'))\n",
    "\n",
    "    imp.match_database(\"Additional datasets\", fields=('name', 'unit', 'location'))\n",
    "    #imp.match_database(\"Additional datasets region\", fields=('name', 'unit', 'location'))\n",
    "    imp.match_database(\"ecoinvent 3.5 cutoff\", fields=('name', 'unit', 'location'))\n",
    "    imp.statistics()\n",
    "\n",
    "    if imp.statistics()[-1] == 0: \n",
    "        imp.write_database()"
   ]
  },
  {
   "cell_type": "code",
   "execution_count": 42,
   "metadata": {},
   "outputs": [
    {
     "name": "stdout",
     "output_type": "stream",
     "text": [
      "C:/Users/nistad_a/Desktop/scrappage-bev/data/inventory/lci-preeuro0.xlsx\n",
      "Extracted 1 worksheets in 0.09 seconds\n",
      "Applying strategy: csv_restore_tuples\n",
      "Applying strategy: csv_restore_booleans\n",
      "Applying strategy: csv_numerize\n",
      "Applying strategy: csv_drop_unknown\n",
      "Applying strategy: csv_add_missing_exchanges_section\n",
      "Applying strategy: normalize_units\n",
      "Applying strategy: normalize_biosphere_categories\n",
      "Applying strategy: normalize_biosphere_names\n",
      "Applying strategy: strip_biosphere_exc_locations\n",
      "Applying strategy: set_code_by_activity_hash\n",
      "Applying strategy: link_iterable_by_fields\n",
      "Applying strategy: assign_only_product_as_production\n",
      "Applying strategy: link_technosphere_by_activity_hash\n",
      "Applying strategy: drop_falsey_uncertainty_fields_but_keep_zeros\n",
      "Applying strategy: convert_uncertainty_types_to_integers\n",
      "Applying strategy: convert_activity_parameters_to_list\n",
      "Applied 16 strategies in 0.44 seconds\n",
      "Applying strategy: link_iterable_by_fields\n",
      "Applying strategy: link_iterable_by_fields\n",
      "Applying strategy: link_iterable_by_fields\n",
      "14 datasets\n",
      "336 exchanges\n",
      "0 unlinked exchanges\n",
      "  \n",
      "14 datasets\n",
      "336 exchanges\n",
      "0 unlinked exchanges\n",
      "  \n"
     ]
    },
    {
     "name": "stderr",
     "output_type": "stream",
     "text": [
      "Writing activities to SQLite3 database:\n",
      "0% [##############] 100% | ETA: 00:00:00\n",
      "Total time elapsed: 00:00:00\n"
     ]
    },
    {
     "name": "stdout",
     "output_type": "stream",
     "text": [
      "Title: Writing activities to SQLite3 database:\n",
      "  Started: 07/08/2019 17:49:41\n",
      "  Finished: 07/08/2019 17:49:41\n",
      "  Total time elapsed: 00:00:00\n",
      "  CPU %: 61.30\n",
      "  Memory %: 17.24\n",
      "Created database: pre euro 0\n",
      "C:/Users/nistad_a/Desktop/scrappage-bev/data/inventory/lci-euro0.xlsx\n",
      "Extracted 1 worksheets in 0.06 seconds\n",
      "Applying strategy: csv_restore_tuples\n",
      "Applying strategy: csv_restore_booleans\n",
      "Applying strategy: csv_numerize\n",
      "Applying strategy: csv_drop_unknown\n",
      "Applying strategy: csv_add_missing_exchanges_section\n",
      "Applying strategy: normalize_units\n",
      "Applying strategy: normalize_biosphere_categories\n",
      "Applying strategy: normalize_biosphere_names\n",
      "Applying strategy: strip_biosphere_exc_locations\n",
      "Applying strategy: set_code_by_activity_hash\n",
      "Applying strategy: link_iterable_by_fields\n",
      "Applying strategy: assign_only_product_as_production\n",
      "Applying strategy: link_technosphere_by_activity_hash\n",
      "Applying strategy: drop_falsey_uncertainty_fields_but_keep_zeros\n",
      "Applying strategy: convert_uncertainty_types_to_integers\n",
      "Applying strategy: convert_activity_parameters_to_list\n",
      "Applied 16 strategies in 0.36 seconds\n",
      "Applying strategy: link_iterable_by_fields\n",
      "Applying strategy: link_iterable_by_fields\n",
      "Applying strategy: link_iterable_by_fields\n"
     ]
    },
    {
     "name": "stderr",
     "output_type": "stream",
     "text": [
      "Writing activities to SQLite3 database:\n"
     ]
    },
    {
     "name": "stdout",
     "output_type": "stream",
     "text": [
      "14 datasets\n",
      "336 exchanges\n",
      "0 unlinked exchanges\n",
      "  \n",
      "14 datasets\n",
      "336 exchanges\n",
      "0 unlinked exchanges\n",
      "  \n"
     ]
    },
    {
     "name": "stderr",
     "output_type": "stream",
     "text": [
      "0% [##############] 100% | ETA: 00:00:00\n",
      "Total time elapsed: 00:00:00\n"
     ]
    },
    {
     "name": "stdout",
     "output_type": "stream",
     "text": [
      "Title: Writing activities to SQLite3 database:\n",
      "  Started: 07/08/2019 17:49:46\n",
      "  Finished: 07/08/2019 17:49:46\n",
      "  Total time elapsed: 00:00:00\n",
      "  CPU %: 91.90\n",
      "  Memory %: 17.21\n",
      "Created database: euro 0\n",
      "C:/Users/nistad_a/Desktop/scrappage-bev/data/inventory/lci-euro1.xlsx\n",
      "Extracted 1 worksheets in 0.06 seconds\n",
      "Applying strategy: csv_restore_tuples\n",
      "Applying strategy: csv_restore_booleans\n",
      "Applying strategy: csv_numerize\n",
      "Applying strategy: csv_drop_unknown\n",
      "Applying strategy: csv_add_missing_exchanges_section\n",
      "Applying strategy: normalize_units\n",
      "Applying strategy: normalize_biosphere_categories\n",
      "Applying strategy: normalize_biosphere_names\n",
      "Applying strategy: strip_biosphere_exc_locations\n",
      "Applying strategy: set_code_by_activity_hash\n",
      "Applying strategy: link_iterable_by_fields\n",
      "Applying strategy: assign_only_product_as_production\n",
      "Applying strategy: link_technosphere_by_activity_hash\n",
      "Applying strategy: drop_falsey_uncertainty_fields_but_keep_zeros\n",
      "Applying strategy: convert_uncertainty_types_to_integers\n",
      "Applying strategy: convert_activity_parameters_to_list\n",
      "Applied 16 strategies in 0.36 seconds\n",
      "Applying strategy: link_iterable_by_fields\n",
      "Applying strategy: link_iterable_by_fields\n",
      "Applying strategy: link_iterable_by_fields\n",
      "14 datasets\n",
      "336 exchanges\n",
      "0 unlinked exchanges\n",
      "  \n",
      "14 datasets\n",
      "336 exchanges\n",
      "0 unlinked exchanges\n",
      "  \n"
     ]
    },
    {
     "name": "stderr",
     "output_type": "stream",
     "text": [
      "Writing activities to SQLite3 database:\n",
      "0% [##############] 100% | ETA: 00:00:00\n",
      "Total time elapsed: 00:00:00\n"
     ]
    },
    {
     "name": "stdout",
     "output_type": "stream",
     "text": [
      "Title: Writing activities to SQLite3 database:\n",
      "  Started: 07/08/2019 17:49:50\n",
      "  Finished: 07/08/2019 17:49:50\n",
      "  Total time elapsed: 00:00:00\n",
      "  CPU %: 50.10\n",
      "  Memory %: 17.22\n",
      "Created database: euro 1\n",
      "C:/Users/nistad_a/Desktop/scrappage-bev/data/inventory/lci-euro2.xlsx\n",
      "Extracted 1 worksheets in 0.06 seconds\n",
      "Applying strategy: csv_restore_tuples\n",
      "Applying strategy: csv_restore_booleans\n",
      "Applying strategy: csv_numerize\n",
      "Applying strategy: csv_drop_unknown\n",
      "Applying strategy: csv_add_missing_exchanges_section\n",
      "Applying strategy: normalize_units\n",
      "Applying strategy: normalize_biosphere_categories\n",
      "Applying strategy: normalize_biosphere_names\n",
      "Applying strategy: strip_biosphere_exc_locations\n",
      "Applying strategy: set_code_by_activity_hash\n",
      "Applying strategy: link_iterable_by_fields\n",
      "Applying strategy: assign_only_product_as_production\n",
      "Applying strategy: link_technosphere_by_activity_hash\n",
      "Applying strategy: drop_falsey_uncertainty_fields_but_keep_zeros\n",
      "Applying strategy: convert_uncertainty_types_to_integers\n",
      "Applying strategy: convert_activity_parameters_to_list\n",
      "Applied 16 strategies in 0.34 seconds\n",
      "Applying strategy: link_iterable_by_fields\n",
      "Applying strategy: link_iterable_by_fields\n",
      "Applying strategy: link_iterable_by_fields\n"
     ]
    },
    {
     "name": "stderr",
     "output_type": "stream",
     "text": [
      "Writing activities to SQLite3 database:\n"
     ]
    },
    {
     "name": "stdout",
     "output_type": "stream",
     "text": [
      "14 datasets\n",
      "336 exchanges\n",
      "0 unlinked exchanges\n",
      "  \n",
      "14 datasets\n",
      "336 exchanges\n",
      "0 unlinked exchanges\n",
      "  \n"
     ]
    },
    {
     "name": "stderr",
     "output_type": "stream",
     "text": [
      "0% [##############] 100% | ETA: 00:00:00\n",
      "Total time elapsed: 00:00:00\n"
     ]
    },
    {
     "name": "stdout",
     "output_type": "stream",
     "text": [
      "Title: Writing activities to SQLite3 database:\n",
      "  Started: 07/08/2019 17:49:55\n",
      "  Finished: 07/08/2019 17:49:55\n",
      "  Total time elapsed: 00:00:00\n",
      "  CPU %: 72.70\n",
      "  Memory %: 17.21\n",
      "Created database: euro 2\n",
      "C:/Users/nistad_a/Desktop/scrappage-bev/data/inventory/lci-euro3.xlsx\n",
      "Extracted 1 worksheets in 0.07 seconds\n",
      "Applying strategy: csv_restore_tuples\n",
      "Applying strategy: csv_restore_booleans\n",
      "Applying strategy: csv_numerize\n",
      "Applying strategy: csv_drop_unknown\n",
      "Applying strategy: csv_add_missing_exchanges_section\n",
      "Applying strategy: normalize_units\n",
      "Applying strategy: normalize_biosphere_categories\n",
      "Applying strategy: normalize_biosphere_names\n",
      "Applying strategy: strip_biosphere_exc_locations\n",
      "Applying strategy: set_code_by_activity_hash\n",
      "Applying strategy: link_iterable_by_fields\n",
      "Applying strategy: assign_only_product_as_production\n",
      "Applying strategy: link_technosphere_by_activity_hash\n",
      "Applying strategy: drop_falsey_uncertainty_fields_but_keep_zeros\n",
      "Applying strategy: convert_uncertainty_types_to_integers\n",
      "Applying strategy: convert_activity_parameters_to_list\n",
      "Applied 16 strategies in 0.34 seconds\n",
      "Applying strategy: link_iterable_by_fields\n",
      "Applying strategy: link_iterable_by_fields\n",
      "Applying strategy: link_iterable_by_fields\n"
     ]
    },
    {
     "name": "stderr",
     "output_type": "stream",
     "text": [
      "Writing activities to SQLite3 database:\n"
     ]
    },
    {
     "name": "stdout",
     "output_type": "stream",
     "text": [
      "14 datasets\n",
      "336 exchanges\n",
      "0 unlinked exchanges\n",
      "  \n",
      "14 datasets\n",
      "336 exchanges\n",
      "0 unlinked exchanges\n",
      "  \n"
     ]
    },
    {
     "name": "stderr",
     "output_type": "stream",
     "text": [
      "0% [##############] 100% | ETA: 00:00:00\n",
      "Total time elapsed: 00:00:00\n"
     ]
    },
    {
     "name": "stdout",
     "output_type": "stream",
     "text": [
      "Title: Writing activities to SQLite3 database:\n",
      "  Started: 07/08/2019 17:49:59\n",
      "  Finished: 07/08/2019 17:50:00\n",
      "  Total time elapsed: 00:00:00\n",
      "  CPU %: 57.10\n",
      "  Memory %: 17.22\n",
      "Created database: euro 3\n",
      "C:/Users/nistad_a/Desktop/scrappage-bev/data/inventory/lci-euro4.xlsx\n",
      "Extracted 1 worksheets in 0.05 seconds\n",
      "Applying strategy: csv_restore_tuples\n",
      "Applying strategy: csv_restore_booleans\n",
      "Applying strategy: csv_numerize\n",
      "Applying strategy: csv_drop_unknown\n",
      "Applying strategy: csv_add_missing_exchanges_section\n",
      "Applying strategy: normalize_units\n",
      "Applying strategy: normalize_biosphere_categories\n",
      "Applying strategy: normalize_biosphere_names\n",
      "Applying strategy: strip_biosphere_exc_locations\n",
      "Applying strategy: set_code_by_activity_hash\n",
      "Applying strategy: link_iterable_by_fields\n",
      "Applying strategy: assign_only_product_as_production\n",
      "Applying strategy: link_technosphere_by_activity_hash\n",
      "Applying strategy: drop_falsey_uncertainty_fields_but_keep_zeros\n",
      "Applying strategy: convert_uncertainty_types_to_integers\n",
      "Applying strategy: convert_activity_parameters_to_list\n",
      "Applied 16 strategies in 0.34 seconds\n",
      "Applying strategy: link_iterable_by_fields\n",
      "Applying strategy: link_iterable_by_fields\n",
      "Applying strategy: link_iterable_by_fields\n"
     ]
    },
    {
     "name": "stderr",
     "output_type": "stream",
     "text": [
      "Writing activities to SQLite3 database:\n"
     ]
    },
    {
     "name": "stdout",
     "output_type": "stream",
     "text": [
      "14 datasets\n",
      "336 exchanges\n",
      "0 unlinked exchanges\n",
      "  \n",
      "14 datasets\n",
      "336 exchanges\n",
      "0 unlinked exchanges\n",
      "  \n"
     ]
    },
    {
     "name": "stderr",
     "output_type": "stream",
     "text": [
      "0% [##############] 100% | ETA: 00:00:00\n",
      "Total time elapsed: 00:00:00\n"
     ]
    },
    {
     "name": "stdout",
     "output_type": "stream",
     "text": [
      "Title: Writing activities to SQLite3 database:\n",
      "  Started: 07/08/2019 17:50:03\n",
      "  Finished: 07/08/2019 17:50:04\n",
      "  Total time elapsed: 00:00:00\n",
      "  CPU %: 75.20\n",
      "  Memory %: 17.21\n",
      "Created database: euro 4\n",
      "C:/Users/nistad_a/Desktop/scrappage-bev/data/inventory/lci-euro5.xlsx\n",
      "Extracted 1 worksheets in 0.06 seconds\n",
      "Applying strategy: csv_restore_tuples\n",
      "Applying strategy: csv_restore_booleans\n",
      "Applying strategy: csv_numerize\n",
      "Applying strategy: csv_drop_unknown\n",
      "Applying strategy: csv_add_missing_exchanges_section\n",
      "Applying strategy: normalize_units\n",
      "Applying strategy: normalize_biosphere_categories\n",
      "Applying strategy: normalize_biosphere_names\n",
      "Applying strategy: strip_biosphere_exc_locations\n",
      "Applying strategy: set_code_by_activity_hash\n",
      "Applying strategy: link_iterable_by_fields\n",
      "Applying strategy: assign_only_product_as_production\n",
      "Applying strategy: link_technosphere_by_activity_hash\n",
      "Applying strategy: drop_falsey_uncertainty_fields_but_keep_zeros\n",
      "Applying strategy: convert_uncertainty_types_to_integers\n",
      "Applying strategy: convert_activity_parameters_to_list\n",
      "Applied 16 strategies in 0.34 seconds\n",
      "Applying strategy: link_iterable_by_fields\n",
      "Applying strategy: link_iterable_by_fields\n",
      "Applying strategy: link_iterable_by_fields\n"
     ]
    },
    {
     "name": "stderr",
     "output_type": "stream",
     "text": [
      "Writing activities to SQLite3 database:\n"
     ]
    },
    {
     "name": "stdout",
     "output_type": "stream",
     "text": [
      "14 datasets\n",
      "336 exchanges\n",
      "0 unlinked exchanges\n",
      "  \n",
      "14 datasets\n",
      "336 exchanges\n",
      "0 unlinked exchanges\n",
      "  \n"
     ]
    },
    {
     "name": "stderr",
     "output_type": "stream",
     "text": [
      "0% [##############] 100% | ETA: 00:00:00\n",
      "Total time elapsed: 00:00:00\n"
     ]
    },
    {
     "name": "stdout",
     "output_type": "stream",
     "text": [
      "Title: Writing activities to SQLite3 database:\n",
      "  Started: 07/08/2019 17:50:08\n",
      "  Finished: 07/08/2019 17:50:08\n",
      "  Total time elapsed: 00:00:00\n",
      "  CPU %: 81.80\n",
      "  Memory %: 17.23\n",
      "Created database: euro 5\n",
      "C:/Users/nistad_a/Desktop/scrappage-bev/data/inventory/lci-euro6.xlsx\n",
      "Extracted 1 worksheets in 0.09 seconds\n",
      "Applying strategy: csv_restore_tuples\n",
      "Applying strategy: csv_restore_booleans\n",
      "Applying strategy: csv_numerize\n",
      "Applying strategy: csv_drop_unknown\n",
      "Applying strategy: csv_add_missing_exchanges_section\n",
      "Applying strategy: normalize_units\n",
      "Applying strategy: normalize_biosphere_categories\n",
      "Applying strategy: normalize_biosphere_names\n",
      "Applying strategy: strip_biosphere_exc_locations\n",
      "Applying strategy: set_code_by_activity_hash\n",
      "Applying strategy: link_iterable_by_fields\n",
      "Applying strategy: assign_only_product_as_production\n",
      "Applying strategy: link_technosphere_by_activity_hash\n",
      "Applying strategy: drop_falsey_uncertainty_fields_but_keep_zeros\n",
      "Applying strategy: convert_uncertainty_types_to_integers\n",
      "Applying strategy: convert_activity_parameters_to_list\n",
      "Applied 16 strategies in 0.36 seconds\n",
      "Applying strategy: link_iterable_by_fields\n",
      "Applying strategy: link_iterable_by_fields\n",
      "Applying strategy: link_iterable_by_fields\n"
     ]
    },
    {
     "name": "stderr",
     "output_type": "stream",
     "text": [
      "Writing activities to SQLite3 database:\n"
     ]
    },
    {
     "name": "stdout",
     "output_type": "stream",
     "text": [
      "14 datasets\n",
      "336 exchanges\n",
      "0 unlinked exchanges\n",
      "  \n",
      "14 datasets\n",
      "336 exchanges\n",
      "0 unlinked exchanges\n",
      "  \n"
     ]
    },
    {
     "name": "stderr",
     "output_type": "stream",
     "text": [
      "0% [##############] 100% | ETA: 00:00:00\n",
      "Total time elapsed: 00:00:00\n"
     ]
    },
    {
     "name": "stdout",
     "output_type": "stream",
     "text": [
      "Title: Writing activities to SQLite3 database:\n",
      "  Started: 07/08/2019 17:50:12\n",
      "  Finished: 07/08/2019 17:50:12\n",
      "  Total time elapsed: 00:00:00\n",
      "  CPU %: 70.10\n",
      "  Memory %: 17.22\n",
      "Created database: euro 6\n",
      "C:/Users/nistad_a/Desktop/scrappage-bev/data/inventory/lci-currentcars.xlsx\n",
      "Extracted 1 worksheets in 0.08 seconds\n",
      "Applying strategy: csv_restore_tuples\n",
      "Applying strategy: csv_restore_booleans\n",
      "Applying strategy: csv_numerize\n",
      "Applying strategy: csv_drop_unknown\n",
      "Applying strategy: csv_add_missing_exchanges_section\n",
      "Applying strategy: normalize_units\n",
      "Applying strategy: normalize_biosphere_categories\n",
      "Applying strategy: normalize_biosphere_names\n",
      "Applying strategy: strip_biosphere_exc_locations\n",
      "Applying strategy: set_code_by_activity_hash\n",
      "Applying strategy: link_iterable_by_fields\n",
      "Applying strategy: assign_only_product_as_production\n",
      "Applying strategy: link_technosphere_by_activity_hash\n",
      "Applying strategy: drop_falsey_uncertainty_fields_but_keep_zeros\n",
      "Applying strategy: convert_uncertainty_types_to_integers\n",
      "Applying strategy: convert_activity_parameters_to_list\n",
      "Applied 16 strategies in 0.34 seconds\n",
      "Applying strategy: link_iterable_by_fields\n",
      "Applying strategy: link_iterable_by_fields\n",
      "Applying strategy: link_iterable_by_fields\n"
     ]
    },
    {
     "name": "stderr",
     "output_type": "stream",
     "text": [
      "Writing activities to SQLite3 database:\n"
     ]
    },
    {
     "name": "stdout",
     "output_type": "stream",
     "text": [
      "21 datasets\n",
      "476 exchanges\n",
      "0 unlinked exchanges\n",
      "  \n",
      "21 datasets\n",
      "476 exchanges\n",
      "0 unlinked exchanges\n",
      "  \n"
     ]
    },
    {
     "name": "stderr",
     "output_type": "stream",
     "text": [
      "0% [#####################] 100% | ETA: 00:00:00\n",
      "Total time elapsed: 00:00:00\n"
     ]
    },
    {
     "name": "stdout",
     "output_type": "stream",
     "text": [
      "Title: Writing activities to SQLite3 database:\n",
      "  Started: 07/08/2019 17:50:16\n",
      "  Finished: 07/08/2019 17:50:16\n",
      "  Total time elapsed: 00:00:00\n",
      "  CPU %: 87.50\n",
      "  Memory %: 17.23\n",
      "Created database: Current cars\n"
     ]
    }
   ],
   "source": [
    "for euro_class in [\"preeuro0\", \"euro0\", \"euro1\", \"euro2\", \"euro3\", \"euro4\", \"euro5\", \"euro6\", \"currentcars\"]: \n",
    "    lci_euro_to_db(euro_class)"
   ]
  },
  {
   "cell_type": "code",
   "execution_count": 43,
   "metadata": {},
   "outputs": [
    {
     "data": {
      "text/plain": [
       "Databases dictionary with 12 object(s):\n",
       "\tAdditional datasets\n",
       "\tCurrent cars\n",
       "\tbiosphere3\n",
       "\tecoinvent 3.5 cutoff\n",
       "\teuro 0\n",
       "\teuro 1\n",
       "\teuro 2\n",
       "\teuro 3\n",
       "\teuro 4\n",
       "\teuro 5\n",
       "\teuro 6\n",
       "\tpre euro 0"
      ]
     },
     "execution_count": 43,
     "metadata": {},
     "output_type": "execute_result"
    }
   ],
   "source": [
    "databases"
   ]
  },
  {
   "cell_type": "code",
   "execution_count": null,
   "metadata": {},
   "outputs": [],
   "source": []
  },
  {
   "cell_type": "code",
   "execution_count": null,
   "metadata": {},
   "outputs": [],
   "source": []
  },
  {
   "cell_type": "code",
   "execution_count": 9,
   "metadata": {
    "collapsed": true
   },
   "outputs": [],
   "source": [
    "def LCA_to_df(datasets, cats=['CC', 'R_Total'], amount=1, names=['name', 'location']):\n",
    "    # calcuate a LCA for a list of datasets for a list of methods and return a pandas dataframe:\n",
    "    results = {}\n",
    "    index_dict={}\n",
    "    for ds in datasets:\n",
    "        index_dict[ds['code']]= tuple(ds[i] for i in names)\n",
    "    \n",
    "    for cat in cats:\n",
    "        lca.switch_method(lcia_methods[cat])\n",
    "        results[cat]={}\n",
    "        #for dataset in pyprind.prog_bar(datasets):   \n",
    "        for dataset in datasets:\n",
    "                    lca.redo_lcia({dataset: amount})\n",
    "                    results[cat][dataset['code']]  = lca.score\n",
    "                    \n",
    "    # We usually prefer to group fossil and nuclear non renewable energy into one category called non-renewable energy:    \n",
    "    if 'CEDF' in results.keys():\n",
    "        #print(results.keys())\n",
    "        results['CED']=results['CEDF']\n",
    "        del results['CEDF']\n",
    "    if 'CEDN' in results.keys():  \n",
    "        for key in results['CEDN'].keys():\n",
    "            if key in results['CED'].keys(): results['CED'][key]+=results['CEDN'][key]\n",
    "            else: results['CED'][key] = results['CEDN'][key]\n",
    "        del results['CEDN']\n",
    "   \n",
    "    return pd.DataFrame(results).rename(index=index_dict)"
   ]
  },
  {
   "cell_type": "code",
   "execution_count": 10,
   "metadata": {
    "collapsed": true
   },
   "outputs": [],
   "source": [
    "def contribution_LCA_to_df(datasets, cats=['CC', 'R_Total'], amount=1, names=['name', 'location']):\n",
    "    #calculate foreground contribution LCA of a list of datasets and return a multi-index dataframe:\n",
    "    results = {}\n",
    "    codes={}\n",
    "    index_dict={}\n",
    "    for ds in datasets:\n",
    "        index_dict[ds['code']]= tuple(ds[i] for i in names) \n",
    "    \n",
    "    for cat in cats:\n",
    "        lca.switch_method(lcia_methods[cat])\n",
    "        cf_dict = dict(Method(lcia_methods[cat]).load())\n",
    "        codes[cat]={}\n",
    "        results[cat]={}\n",
    "        for dataset in datasets:      \n",
    "            for exc in dataset.technosphere():\n",
    "                existing_value = 0\n",
    "                if (dataset['code'],exc.input['name']) in results[cat].keys(): existing_value= results[cat][(dataset['code'],exc.input['name'])] \n",
    "                if exc['amount'] == 0: continue\n",
    "                if exc['input'] in codes[cat]:\n",
    "                    results[cat][(dataset['code'],exc.input['name'])] = amount*codes[cat][exc['input']]*exc['amount'] + existing_value\n",
    "                else:\n",
    "                    lca.redo_lcia({exc.input: exc['amount']})\n",
    "                    results[cat][(dataset['code'],exc.input['name'])]  = lca.score*amount + existing_value\n",
    "                    codes[cat][exc['input']] = (lca.score/exc['amount'])\n",
    "    \n",
    "            for exc in dataset.biosphere():    \n",
    "                if exc.input in cf_dict: # Not all flows are characterized\n",
    "                    existing_value = 0\n",
    "                    if (dataset['code'],exc.input['name']) in results[cat].keys(): existing_value= results[cat][(dataset['code'],exc.input['name'])] \n",
    "                    results[cat][(dataset['code'],exc.input['name'])]  = amount*exc['amount'] * cf_dict[exc.input] + existing_value\n",
    "                    \n",
    "    # We usually prefer to group fossil and nuclear non renewable energy into one category called non-renewable energy:    \n",
    "    if 'CEDF' in results.keys():\n",
    "        #print(results.keys())\n",
    "        results['CED']=results['CEDF']\n",
    "        del results['CEDF']\n",
    "    if 'CEDN' in results.keys():  \n",
    "        for key in results['CEDN'].keys():\n",
    "            if key in results['CED'].keys(): results['CED'][key]+=results['CEDN'][key]\n",
    "            else: results['CED'][key] = results['CEDN'][key]\n",
    "        del results['CEDN']\n",
    "                   \n",
    "    return pd.DataFrame(results).unstack().sort_index(axis=1).rename(index=index_dict)"
   ]
  },
  {
   "cell_type": "code",
   "execution_count": null,
   "metadata": {
    "collapsed": true
   },
   "outputs": [],
   "source": [
    "def get_biosphere_factors(flows, cats=['GWP', 'R_Total']):\n",
    "    # calcuate a LCA for a dict of biosphere flows for a list of methods and return a pandas dataframe:\n",
    "    results = {}\n",
    "   \n",
    "    for cat in cats:\n",
    "        lca.switch_method(lcia_methods[cat])\n",
    "        cf_dict = dict(Method(lcia_methods[cat]).load())\n",
    "        results[cat]={}\n",
    "        \n",
    "        for name, exc in flows.items():    \n",
    "            if ('biosphere3', exc['code']) in cf_dict: # Not all flows are characterized\n",
    "                results[cat][name] = cf_dict[('biosphere3', exc['code'])]\n",
    "                    \n",
    "    # We usually prefer to group fossil and nuclear non renewable energy into one category called non-renewable energy:    \n",
    "    if 'CEDF' in results.keys():\n",
    "        #print(results.keys())\n",
    "        results['CED']=results['CEDF']\n",
    "        del results['CEDF']\n",
    "    \n",
    "    for cat in ['CEDF', 'CEDB','CEDG','CEDN','CEDFr','CEDS','CEDH','CEDW']:\n",
    "        if cat in results.keys():  \n",
    "            for key in results[cat].keys():\n",
    "                if 'CED' not in results.keys(): results['CED'] = {}\n",
    "                \n",
    "                try: results['CED'][key]+=results[cat][key]\n",
    "                except KeyError: results['CED'][key] = results[cat][key]\n",
    "            del results[cat]\n",
    "                   \n",
    "    return pd.DataFrame(results)"
   ]
  },
  {
   "cell_type": "code",
   "execution_count": 11,
   "metadata": {
    "collapsed": true
   },
   "outputs": [],
   "source": [
    "def group_into_other(df, lim=0.01):\n",
    "    #Group all processes that contribute less than a specified amount to the results for each LCIA method into 'other'. \n",
    "    norm=df.divide(df.sum(axis=1,level=0), axis=1, level=0).fillna(0)\n",
    "    other_list=[]\n",
    "    for col in norm.columns:\n",
    "        if norm[col].max() < lim : other_list.append(col)\n",
    "    other=df[other_list].sum(axis=1,level=0)\n",
    "    other.columns = pd.MultiIndex.from_product([other.columns, ['other']])\n",
    "    return pd.concat([df.drop(other_list,axis=1),other], axis=1).sort_index(axis=1)"
   ]
  },
  {
   "cell_type": "code",
   "execution_count": 12,
   "metadata": {
    "collapsed": true
   },
   "outputs": [],
   "source": [
    "def cm2in(*tupl):\n",
    "    inch = 2.54\n",
    "    if isinstance(tupl[0], tuple):\n",
    "        return tuple(i/inch for i in tupl[0])\n",
    "    else:\n",
    "        return tuple(i/inch for i in tupl)"
   ]
  }
 ],
 "metadata": {
  "kernelspec": {
   "display_name": "Python 3",
   "language": "python",
   "name": "python3"
  },
  "language_info": {
   "codemirror_mode": {
    "name": "ipython",
    "version": 3
   },
   "file_extension": ".py",
   "mimetype": "text/x-python",
   "name": "python",
   "nbconvert_exporter": "python",
   "pygments_lexer": "ipython3",
   "version": "3.6.8"
  },
  "toc": {
   "colors": {
    "hover_highlight": "#DAA520",
    "running_highlight": "#FF0000",
    "selected_highlight": "#FFD700"
   },
   "moveMenuLeft": true,
   "nav_menu": {
    "height": "31px",
    "width": "252px"
   },
   "navigate_menu": true,
   "number_sections": true,
   "sideBar": true,
   "threshold": 4,
   "toc_cell": false,
   "toc_section_display": "block",
   "toc_window_display": false,
   "widenNotebook": false
  }
 },
 "nbformat": 4,
 "nbformat_minor": 1
}
