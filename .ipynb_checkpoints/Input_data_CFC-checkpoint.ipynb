{
 "cells": [
  {
   "cell_type": "markdown",
   "metadata": {},
   "source": [
    "# Input data Cash-for-Clunker program\n",
    "This script reads in distribution of old and new cars, years remaining and mileage data. "
   ]
  },
  {
   "cell_type": "code",
   "execution_count": 302,
   "metadata": {},
   "outputs": [
    {
     "data": {
      "text/html": [
       "<style>.container { width:100% !important; }</style>"
      ],
      "text/plain": [
       "<IPython.core.display.HTML object>"
      ]
     },
     "execution_count": 302,
     "metadata": {},
     "output_type": "execute_result"
    }
   ],
   "source": [
    "from IPython.core.display import HTML\n",
    "HTML(\"<style>.container { width:100% !important; }</style>\")"
   ]
  },
  {
   "cell_type": "code",
   "execution_count": 303,
   "metadata": {},
   "outputs": [],
   "source": [
    "%run initialize_notebook.ipynb\n",
    "plt.style.use('seaborn')\n",
    "%matplotlib inline "
   ]
  },
  {
   "cell_type": "markdown",
   "metadata": {},
   "source": [
    "## Exchanged vehicles through program\n",
    "Import here the data on exchanged vehicles through the program and oranize this by size, emission concept and powertrain:"
   ]
  },
  {
   "cell_type": "code",
   "execution_count": 304,
   "metadata": {},
   "outputs": [],
   "source": [
    "filepath = \"./data/raw data/Cash for Clunker/exchanged_cars.xlsx\"\n",
    "\n",
    "#Datasets of new vehicles, near new and old vehicles exchanged\n",
    "db_new = pd.read_excel(filepath, sheet_name='new cars', header = 2)\n",
    "db_nearnew = pd.read_excel(filepath, sheet_name='near new cars', header = 2)\n",
    "db_old = pd.read_excel(filepath, sheet_name='old cars', header = 2)\n",
    "\n",
    "\n"
   ]
  },
  {
   "cell_type": "markdown",
   "metadata": {},
   "source": [
    "Total number of cars exchanged in the program: "
   ]
  },
  {
   "cell_type": "code",
   "execution_count": 305,
   "metadata": {},
   "outputs": [
    {
     "name": "stdout",
     "output_type": "stream",
     "text": [
      "1933090\n"
     ]
    }
   ],
   "source": [
    "is_total = db_old['model']=='INSGESAMT'\n",
    "tot = db_old[is_total].sum()['total']\n",
    "print(tot)"
   ]
  },
  {
   "cell_type": "markdown",
   "metadata": {},
   "source": [
    "Changing from KBA to PSI size classes: "
   ]
  },
  {
   "cell_type": "code",
   "execution_count": 306,
   "metadata": {},
   "outputs": [],
   "source": [
    "#This is the allocation of KBA size classes to PSI size classes\n",
    "size_dict = {'Gelaendewagen': 'SUV', 'Kleinwagen': 'Small', 'Kompaktklasse': 'Lower medium', 'Mini': 'Mini', 'Mittelklasse': 'Medium', 'Obere Mittelklasse': 'Large', 'Oberklasse': 'Large', 'Sonstige': 'Other',  'Sportwagen':'SUV', 'Utilities': 'Van', 'Wohnmobile': 'Van', 'Grossraum-Van': 'Van', 'Mini-Van': 'Van'}\n"
   ]
  },
  {
   "cell_type": "markdown",
   "metadata": {},
   "source": [
    "Old vehicles by size class, emission concept and powertrain:"
   ]
  },
  {
   "cell_type": "code",
   "execution_count": 307,
   "metadata": {},
   "outputs": [],
   "source": [
    "#Reading in age distribution of old cars to dissaggreagate by emission concept\n",
    "age_dist = pd.read_excel(filepath, sheet_name='age of old cars')\n",
    "\n"
   ]
  },
  {
   "cell_type": "code",
   "execution_count": 308,
   "metadata": {},
   "outputs": [],
   "source": [
    "#Size class \n",
    "db_old = db_old.groupby(['type']).sum()\n",
    "db_old.index = db_old.index.to_series().replace(size_dict)\n",
    "db_old = db_old.groupby(db_old.index, sort = False).sum()\n",
    "\n",
    "#Sonstige cars distributed over other size classes \n",
    "tot_wo = tot-db_old.loc['Other']\n",
    "others = db_old.loc['Other']\n",
    "df_agg_old =  (db_old*(others/tot_wo)+db_old).drop('Other')\n",
    "df_agg_old = df_agg_old.reindex(index = ['Mini', 'Small', 'Lower medium', 'Medium' , 'Large', 'Van', 'SUV'])\n",
    "\n",
    "#Reading in age distribution of old cars to dissaggreagate by emission concept\n",
    "age_dist = pd.read_excel(filepath, sheet_name='age of old cars')\n",
    "\n",
    "#Calculating share per emission concept \n",
    "age_dist = age_dist.set_index('Unnamed: 0')\n",
    "tot_cars = age_dist[' Anzahl'].sum()\n",
    "euro_shares = [age_dist.loc['pre euro 0'][' Anzahl'].sum()/tot_cars, age_dist.loc['euro 0'][' Anzahl'].sum()/tot_cars, age_dist.loc['euro 1'][' Anzahl'].sum()/tot_cars, age_dist.loc['euro 2'][' Anzahl'].sum()/tot_cars ]\n",
    "\n",
    "list_df = list()\n",
    "for i in [0,1,2,3]: \n",
    "    list_df.append(euro_shares[i]*df_agg_old)\n",
    "df_agg_old = pd.concat(list_df, axis = 1)\n",
    "df_agg_old.columns = ['pre euro 0', 'euro 0', 'euro 1', 'euro 2']\n",
    "\n",
    "\n",
    "#Disaggregating by powertrain\n",
    "diesel_shares_old = [0.17, 0.17, 0.06, 0.15]\n",
    "df_agg_old_diesel = (diesel_shares_old*df_agg_old)\n",
    "df_agg_old = pd.concat([df_agg_old_diesel, (df_agg_old-df_agg_old_diesel)], keys = ['diesel', 'gasoline'], axis = 1)\n"
   ]
  },
  {
   "cell_type": "markdown",
   "metadata": {},
   "source": [
    "New vehicles by size, emission concept and powertrain:"
   ]
  },
  {
   "cell_type": "code",
   "execution_count": 309,
   "metadata": {},
   "outputs": [],
   "source": [
    "#Combining the jahreswagen/near new and new cars into one df\n",
    "db_new = db_new.groupby(['type']).sum() + db_nearnew.groupby(['type']).sum()\n",
    "db_new.index = db_new.index.to_series().replace(size_dict)\n",
    "db_new = db_new.groupby(db_new.index, sort = False).sum()\n",
    "\n",
    "#Distribution sonstige over other size classes\n",
    "df_list = list()\n",
    "for i in ['euro 4', 'euro 5', 'euro 6']:\n",
    "    tot_wo = db_new[i].sum()-db_new[i].loc['Other']\n",
    "    others = db_new[i].loc['Other']\n",
    "    df_list.append((db_new[i]*(others/tot_wo) + db_new[i]))\n",
    "df_agg_new = pd.concat(df_list, axis = 1).drop('Other')\n",
    "\n",
    "df_agg_new = df_agg_new.reindex(index = ['Mini', 'Small', 'Lower medium', 'Medium' , 'Large', 'Van', 'SUV'])\n",
    "\n",
    "#Disaggregating by powertrain\n",
    "diesel_shares_new = [0.0661, 0.1155, 0.2599]\n",
    "df_agg_new_diesel = (diesel_shares_new*df_agg_new)\n",
    "\n",
    "df_agg_new = pd.concat([df_agg_new_diesel, (df_agg_new-df_agg_new_diesel)], keys = ['diesel', 'gasoline'], axis = 1)"
   ]
  },
  {
   "cell_type": "code",
   "execution_count": 310,
   "metadata": {},
   "outputs": [],
   "source": [
    "df_dist_old_g = df_agg_old['gasoline']\n",
    "df_dist_old_d = df_agg_old['diesel']\n",
    "df_dist_new_g = df_agg_new['gasoline']\n",
    "df_dist_new_d = df_agg_new['diesel']"
   ]
  },
  {
   "cell_type": "markdown",
   "metadata": {},
   "source": [
    "#### Plotting exchanged vehicles through the program"
   ]
  },
  {
   "cell_type": "code",
   "execution_count": 311,
   "metadata": {},
   "outputs": [
    {
     "data": {
      "image/png": "[encoded data removed]",
      "text/plain": [
       "<Figure size 180x180 with 1 Axes>"
      ]
     },
     "metadata": {
      "needs_background": "light"
     },
     "output_type": "display_data"
    },
    {
     "data": {
      "image/png": "[encoded data removed]",
      "text/plain": [
       "<Figure size 360x216 with 2 Axes>"
      ]
     },
     "metadata": {
      "needs_background": "light"
     },
     "output_type": "display_data"
    },
    {
     "data": {
      "image/png": "[encoded data removed]",
      "text/plain": [
       "<Figure size 360x216 with 2 Axes>"
      ]
     },
     "metadata": {
      "needs_background": "light"
     },
     "output_type": "display_data"
    }
   ],
   "source": [
    "#Plotting total number of vehicles\n",
    "ax = pd.concat([(df_dist_old_d+df_dist_old_g).sum(axis = 1), (df_dist_new_g+df_dist_new_d).sum(axis = 1)], keys = ['clunkers', 'new']).unstack().plot(kind = 'bar', stacked = True, rot = 0, figsize = [2.5,2.5], fontsize = 8)\n",
    "pd.concat([df_dist_new_g, df_dist_new_d], keys = ['ICEV-p', 'ICEV-d'])\n",
    "ax.set_ylabel('number of vehicles', fontsize = 8)\n",
    "ax.legend(bbox_to_anchor=(1.05, 1), loc=2, borderaxespad=0., fontsize = 7)\n",
    "#plt.savefig('size and distribution of cars.svg', dpi = 1200, bbox_inches = 'tight')\n",
    "\n",
    "#Plotting distribution by euro class\n",
    "fig1 = plt.figure(figsize = [5,3])\n",
    "ax3 = fig1.add_subplot(1,2,1)\n",
    "ax3.set_ylabel('number of vehicles', fontsize = 8)\n",
    "df_dist_old_g.T.plot(kind = 'bar', stacked = True, legend = None, ax = ax3, fontsize = 8).set_title('ICEV-p', fontsize = 8)\n",
    "ax3 = fig1.add_subplot(1,2,2, sharey = ax3)\n",
    "df_dist_old_d.T.plot(kind = 'bar', stacked = True, legend = None, ax = ax3, fontsize = 8).set_title('ICEV-d', fontsize = 8)\n",
    "ax3.legend(bbox_to_anchor=(1.05, 1), loc=2, borderaxespad=0., fontsize = 7)\n",
    "\n",
    "fig1.tight_layout()\n",
    "#fig1.savefig('clunkers euro dist.svg')\n",
    "\n",
    "fig = plt.figure(figsize = [5,3])\n",
    "ax = fig.add_subplot(1,2,1)\n",
    "ax.set_ylabel('number of vehicles', fontsize = 8)\n",
    "df_dist_new_g.T.plot(kind = 'bar', stacked = True, title = 'ICEV-p', legend = None, ax = ax, fontsize = 8).set_title('ICEV-p', fontsize = 8)\n",
    "ax = fig.add_subplot(1,2,2, sharey = ax)\n",
    "df_dist_new_d.T.plot(kind = 'bar', stacked = True, title = 'ICEV-d', legend = None, ax = ax, fontsize = 8).set_title('ICEV-d', fontsize = 8)\n",
    "ax.legend(bbox_to_anchor=(1.05, 1), loc=2, borderaxespad=0., fontsize = 7)\n",
    "fig.tight_layout()\n",
    "#fig.savefig('new vehicles euro dist.svg')\n"
   ]
  },
  {
   "cell_type": "markdown",
   "metadata": {},
   "source": [
    "## Annual kilometers driven "
   ]
  },
  {
   "cell_type": "markdown",
   "metadata": {},
   "source": [
    "Different assumptions for annual kilometers driven: \n",
    "1) New vehicles drive more than old vehicles - according to German average statistics\n",
    "2) Old and new vehicles drive the same yearly distance - about 14 000 km (average of gasoline and diesel vehicles in Germany) \n",
    "3) Rebound effect, 15 % "
   ]
  },
  {
   "cell_type": "markdown",
   "metadata": {},
   "source": [
    "#### 1. Annual mileage from German statistics "
   ]
  },
  {
   "cell_type": "markdown",
   "metadata": {},
   "source": [
    "Data on VKT depending on age is obtained from: https://www.bast.de/BASt_2017/DE/Publikationen/Berichte/unterreihe-v/2018-2017/Daten/V290-Tabellenanhang.html\n",
    "Data is from Germany 2014 and refers to average of gasoline and diesel cars. \n",
    "\n",
    "Ploting the data. Observe an decreasing annual VKT for older cars compared to newer. "
   ]
  },
  {
   "cell_type": "code",
   "execution_count": 312,
   "metadata": {},
   "outputs": [
    {
     "data": {
      "text/plain": [
       "<matplotlib.axes._subplots.AxesSubplot at 0x2214afc35f8>"
      ]
     },
     "execution_count": 312,
     "metadata": {},
     "output_type": "execute_result"
    },
    {
     "data": {
      "image/png": "[encoded data removed]",
      "text/plain": [
       "<Figure size 432x288 with 1 Axes>"
      ]
     },
     "metadata": {
      "needs_background": "light"
     },
     "output_type": "display_data"
    }
   ],
   "source": [
    "filename = \"./data/raw data/Cash for Clunker/Annual mileage.xlsx\"\n",
    "df = pd.read_excel(filename, skiprows = 3, skipcols = 5)\n",
    "df = df[['Unnamed: 0', 'gasoline', 'diesel']][0:15].set_index('Unnamed: 0')\n",
    "df.plot(rot = 90)\n"
   ]
  },
  {
   "cell_type": "markdown",
   "metadata": {},
   "source": [
    "Estimating average annual VKT for each euro class (using the age): \n",
    "-  pre euro 0: > 18 years \n",
    "-  euro 0: 17-18 years \n",
    "- euro 1: 13-16 years\n",
    "- euro 2: 9-12 years "
   ]
  },
  {
   "cell_type": "code",
   "execution_count": 313,
   "metadata": {},
   "outputs": [],
   "source": [
    "df_age = pd.concat([df.agg(df.index[13:15].tolist()).mean(), df.agg(df.index[13:14].tolist()).mean(),df.agg(df.index[12:13].tolist()).mean(), df.agg(df.index[9:12].tolist()).mean(), df.agg(df.index[0:2].tolist()).mean()],keys = ['pre euro 0', 'euro 0', 'euro 1', 'euro 2', 'new'])"
   ]
  },
  {
   "cell_type": "markdown",
   "metadata": {},
   "source": [
    "Do also have data on size, obtained from “Mobilität in Deutschland 2008. Ergebisbericht. Struktur - Aufkommen - Emissionen - Trends.,” 2010., tabel 4.6.: "
   ]
  },
  {
   "cell_type": "code",
   "execution_count": 314,
   "metadata": {},
   "outputs": [],
   "source": [
    "\n",
    "size = ['mini',\n",
    "'kleinwagen',\n",
    "'kompaktklasse',\n",
    "'mittelklasse',\n",
    "'obere mittelklasse',\n",
    "'gelandewagen',\n",
    "'mini-van',\n",
    "'grossraum-van',\n",
    "'utilities', \n",
    "'average'\n",
    "]\n",
    "\n",
    "vkt = [10949,\n",
    "11656,\n",
    "14023,\n",
    "16002,\n",
    "17272,\n",
    "14562,\n",
    "14741,\n",
    "19403,\n",
    "17509, \n",
    "14525\n",
    "]\n",
    "d = {'Size': size, 'VKT': vkt}\n",
    "\n",
    "df_size = pd.DataFrame(d, columns = ['Size','VKT']).set_index('Size')\n",
    "df_van = pd.DataFrame(df_size.agg(['mini-van', 'grossraum-van', 'utilities']).mean())\n",
    "df_van.columns = ['VKT']\n",
    "df_size = df_size.drop('mini-van').drop('grossraum-van').drop('utilities')\n",
    "\n",
    "\n",
    "df1 = pd.concat([df_van, df_size])\n",
    "df1.reset_index(drop = True)\n",
    "sizes = ['Van', 'Mini', 'Small', 'Lower medium', 'Medium', 'Large', 'SUV', 'Average']\n",
    "df1.index = sizes\n",
    "\n",
    "\n",
    "#Share of average driven by each size class\n",
    "df1_rel = df1/df1.loc['Average']\n",
    "\n",
    "\n",
    "#Creating dataframe of kilometers driven for the diesel cars \n",
    "df_list = list()\n",
    "\n",
    "for size in sizes: \n",
    "    temp = df_age.xs('diesel', level = 1)\n",
    "    temp*=df1_rel.loc[size, 'VKT']\n",
    "    df_list.append(temp)\n",
    "df_diesel = pd.concat(df_list, axis = 1).T\n",
    "df_diesel_statistics = pd.concat(df_list, axis = 1).T\n",
    "df_diesel.index = sizes\n",
    "df_diesel_statistics.index = sizes\n",
    "\n",
    "\n",
    "#Creating dataframe of kilometers driven for the gasoline cars\n",
    "df_list = list()\n",
    "\n",
    "for size in sizes: \n",
    "    temp = df_age.xs('gasoline', level = 1)\n",
    "    temp*=df1_rel.loc[size, 'VKT']\n",
    "    df_list.append(temp)\n",
    "df_gasoline = pd.concat(df_list, axis = 1).T\n",
    "df_gasoline.index = sizes\n",
    "df_gasoline_statistics = pd.concat(df_list, axis = 1).T\n",
    "df_gasoline_statistics.index = sizes\n",
    "\n"
   ]
  },
  {
   "cell_type": "markdown",
   "metadata": {},
   "source": [
    "#### 2. Old and new vehicles driven the same yearly distance "
   ]
  },
  {
   "cell_type": "code",
   "execution_count": 315,
   "metadata": {},
   "outputs": [],
   "source": [
    "df_gasoline*=0\n",
    "df_gasoline_average = df_gasoline.replace(0,14000)\n",
    "df_diesel*=0\n",
    "df_diesel_average = df_diesel.replace(0,14000)"
   ]
  },
  {
   "cell_type": "markdown",
   "metadata": {},
   "source": [
    "#### 3. Rebound effect of 15 %"
   ]
  },
  {
   "cell_type": "markdown",
   "metadata": {},
   "source": [
    "Small petrol cars of euro standars \"pre euro 0\" to \"euro 2\" had a fuel consumption of 52,65 g/km on average. Small new petrol cars of euro 4 have a fuel consumption of 47,2 g/km. \n",
    "This yields an about 12 % improvement in fuel economy (have not accounted for distribution of emission concepts and size here for the fuel economy improvement..) \n",
    "\n",
    "Will have about 1,8 % increase in mileage due to the improved fuel economy. "
   ]
  },
  {
   "cell_type": "code",
   "execution_count": 316,
   "metadata": {},
   "outputs": [
    {
     "data": {
      "text/html": [
       "<div>\n",
       "<style scoped>\n",
       "    .dataframe tbody tr th:only-of-type {\n",
       "        vertical-align: middle;\n",
       "    }\n",
       "\n",
       "    .dataframe tbody tr th {\n",
       "        vertical-align: top;\n",
       "    }\n",
       "\n",
       "    .dataframe thead th {\n",
       "        text-align: right;\n",
       "    }\n",
       "</style>\n",
       "<table border=\"1\" class=\"dataframe\">\n",
       "  <thead>\n",
       "    <tr style=\"text-align: right;\">\n",
       "      <th></th>\n",
       "      <th>pre euro 0</th>\n",
       "      <th>euro 0</th>\n",
       "      <th>euro 1</th>\n",
       "      <th>euro 2</th>\n",
       "      <th>new</th>\n",
       "    </tr>\n",
       "  </thead>\n",
       "  <tbody>\n",
       "    <tr>\n",
       "      <th>Van</th>\n",
       "      <td>14000.0</td>\n",
       "      <td>14000.0</td>\n",
       "      <td>14000.0</td>\n",
       "      <td>14000.0</td>\n",
       "      <td>14252.0</td>\n",
       "    </tr>\n",
       "    <tr>\n",
       "      <th>Mini</th>\n",
       "      <td>14000.0</td>\n",
       "      <td>14000.0</td>\n",
       "      <td>14000.0</td>\n",
       "      <td>14000.0</td>\n",
       "      <td>14252.0</td>\n",
       "    </tr>\n",
       "    <tr>\n",
       "      <th>Small</th>\n",
       "      <td>14000.0</td>\n",
       "      <td>14000.0</td>\n",
       "      <td>14000.0</td>\n",
       "      <td>14000.0</td>\n",
       "      <td>14252.0</td>\n",
       "    </tr>\n",
       "    <tr>\n",
       "      <th>Lower medium</th>\n",
       "      <td>14000.0</td>\n",
       "      <td>14000.0</td>\n",
       "      <td>14000.0</td>\n",
       "      <td>14000.0</td>\n",
       "      <td>14252.0</td>\n",
       "    </tr>\n",
       "    <tr>\n",
       "      <th>Medium</th>\n",
       "      <td>14000.0</td>\n",
       "      <td>14000.0</td>\n",
       "      <td>14000.0</td>\n",
       "      <td>14000.0</td>\n",
       "      <td>14252.0</td>\n",
       "    </tr>\n",
       "    <tr>\n",
       "      <th>Large</th>\n",
       "      <td>14000.0</td>\n",
       "      <td>14000.0</td>\n",
       "      <td>14000.0</td>\n",
       "      <td>14000.0</td>\n",
       "      <td>14252.0</td>\n",
       "    </tr>\n",
       "    <tr>\n",
       "      <th>SUV</th>\n",
       "      <td>14000.0</td>\n",
       "      <td>14000.0</td>\n",
       "      <td>14000.0</td>\n",
       "      <td>14000.0</td>\n",
       "      <td>14252.0</td>\n",
       "    </tr>\n",
       "    <tr>\n",
       "      <th>Average</th>\n",
       "      <td>14000.0</td>\n",
       "      <td>14000.0</td>\n",
       "      <td>14000.0</td>\n",
       "      <td>14000.0</td>\n",
       "      <td>14252.0</td>\n",
       "    </tr>\n",
       "  </tbody>\n",
       "</table>\n",
       "</div>"
      ],
      "text/plain": [
       "              pre euro 0   euro 0   euro 1   euro 2      new\n",
       "Van              14000.0  14000.0  14000.0  14000.0  14252.0\n",
       "Mini             14000.0  14000.0  14000.0  14000.0  14252.0\n",
       "Small            14000.0  14000.0  14000.0  14000.0  14252.0\n",
       "Lower medium     14000.0  14000.0  14000.0  14000.0  14252.0\n",
       "Medium           14000.0  14000.0  14000.0  14000.0  14252.0\n",
       "Large            14000.0  14000.0  14000.0  14000.0  14252.0\n",
       "SUV              14000.0  14000.0  14000.0  14000.0  14252.0\n",
       "Average          14000.0  14000.0  14000.0  14000.0  14252.0"
      ]
     },
     "execution_count": 316,
     "metadata": {},
     "output_type": "execute_result"
    }
   ],
   "source": [
    "df_gasoline_rebound = df_gasoline_average\n",
    "df_gasoline_rebound['new'] = df_gasoline_rebound['new']*0.018+df_gasoline_rebound['new']\n",
    "\n",
    "df_diesel_rebound = df_diesel_average\n",
    "df_diesel_rebound['new'] = df_diesel_rebound['new']*0.018+df_diesel_rebound['new']\n",
    "df_diesel_rebound"
   ]
  },
  {
   "cell_type": "markdown",
   "metadata": {},
   "source": [
    "### Plotting mileage "
   ]
  },
  {
   "cell_type": "code",
   "execution_count": 317,
   "metadata": {},
   "outputs": [
    {
     "data": {
      "image/png": "[encoded data removed]",
      "text/plain": [
       "<Figure size 432x288 with 1 Axes>"
      ]
     },
     "metadata": {
      "needs_background": "light"
     },
     "output_type": "display_data"
    }
   ],
   "source": [
    "ax = pd.concat([df_diesel_statistics.T[['Small', 'Medium', 'Large']], df_gasoline_statistics.T[['Small', 'Medium', 'Large']]], axis=1, keys = ['diesel', 'petrol'] ).plot()\n",
    "legend = ax.legend()\n",
    "legend.texts[0].set_text(\"Powertrain, size\")"
   ]
  }
 ],
 "metadata": {
  "kernelspec": {
   "display_name": "Python 3",
   "language": "python",
   "name": "python3"
  },
  "language_info": {
   "codemirror_mode": {
    "name": "ipython",
    "version": 3
   },
   "file_extension": ".py",
   "mimetype": "text/x-python",
   "name": "python",
   "nbconvert_exporter": "python",
   "pygments_lexer": "ipython3",
   "version": "3.6.8"
  }
 },
 "nbformat": 4,
 "nbformat_minor": 2
}
