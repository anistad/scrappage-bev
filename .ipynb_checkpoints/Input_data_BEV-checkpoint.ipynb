{
 "cells": [
  {
   "cell_type": "markdown",
   "metadata": {},
   "source": [
    "# Input data for BEV program\n",
    "This script prepares the input data from the calculation of the LCA of the Replace and Retire program. "
   ]
  },
  {
   "cell_type": "code",
   "execution_count": 1,
   "metadata": {},
   "outputs": [],
   "source": [
    "%run initialize_notebook.ipynb"
   ]
  },
  {
   "cell_type": "markdown",
   "metadata": {},
   "source": [
    "### Data for size and number of cars on county level for the cities affected by driving bans "
   ]
  },
  {
   "cell_type": "markdown",
   "metadata": {},
   "source": [
    "Import the data from KBA (fz1) on county level from https://www.kba.de/DE/Statistik/Fahrzeuge/Bestand/ZulassungsbezirkeGemeinden/zulassungsbezirke_node.html\n",
    "\n",
    "Use this data and calculate the number of diesel (and potential petrol cars) affected by a driving ban limited to euro 5 or euro 4. Calculate the size distribution in each of these cities afterwards. \n",
    "\n",
    "\n",
    "The list of cities with excedance of the NO2-limits is available from: https://www.umweltbundesamt.de/sites/default/files/medien/2546/dokumente/no2-ueberschreitungen_staedte_stand_18.01.2019.pdf "
   ]
  },
  {
   "cell_type": "markdown",
   "metadata": {},
   "source": [
    "Importing the KBA data and create dataframes: "
   ]
  },
  {
   "cell_type": "code",
   "execution_count": 12,
   "metadata": {},
   "outputs": [],
   "source": [
    "path = \"./data/raw data/Replace and Retire/fz1_2019.xlsx\"\n",
    "\n",
    "#Number of cars by powertrain\n",
    "df = pd.read_excel(path, sheet_name = 'Pkw', skiprows = 6, header = 2)\n",
    "#Number of cars by motor size \n",
    "df_size = pd.read_excel(path, sheet_name = 'Kfz_u_Kfz_Anh', skiprows = 8)\n",
    "df_size = df_size[['Statistische Kennziffer und Zulassungsbezirk', 'Hubraum\\nbis \\n1.399 cm³', '1.400\\nbis\\n1.999 cm³', '2.000\\nund\\nmehr cm³','unbe-\\nkannt '    ]].iloc[0:444,:]\n",
    "\n",
    "\n",
    "#List of cities with potential driving bans/exceeding NO2 limits\n",
    "df_cities = pd.read_excel(\"./data/raw data/Replace and Retire/Cities_driving_bans.xlsx\", sheet_name = 'Modified list')"
   ]
  },
  {
   "cell_type": "code",
   "execution_count": 33,
   "metadata": {},
   "outputs": [],
   "source": [
    "#Dataframe with total number of cars by powertrain in each county\n",
    "df_tot = df[['Statistische Kennziffer und Zulassungsbezirk', 'Insgesamt', 'Benzin',\n",
    "       'Diesel', 'Hybrid \\ninsgesamt',\n",
    "       'darunter Hybrid mit \\nPlug-in', 'Elektro', 'sonstige']].iloc[0:444,:]\n",
    "\n",
    "#Dataframe with total number of petrol cars in each county \n",
    "df_petrol = df[['Statistische Kennziffer und Zulassungsbezirk','Euro 1',\n",
    "       'Euro 2', 'Euro 3', 'Euro 4', 'Euro 5', 'Euro 6', 'darunter\\nEuro 6d',\n",
    "       'darunter\\nEuro 6d-temp', 'sonstige.1',\n",
    "       'schadstoff-\\nreduzierte \\ninsgesamt']].iloc[0:444,:]\n",
    "#df_petrol.set_index('Statistische Kennziffer und Zulassungsbezirk', inplace = True)\n",
    "\n",
    "#Dataframe with total number of diesel cars in each county \n",
    "df_diesel = df[['Statistische Kennziffer und Zulassungsbezirk','Euro 1.1', 'Euro 2.1',\n",
    "       'Euro 3.1', 'Euro 4.1', 'Euro 5.1', 'Euro 6.1', 'darunter\\nEuro 6d.1',\n",
    "       'darunter\\nEuro 6d-temp.1', 'sonstige.2',\n",
    "       'schadstoffred.\\nmit Diesel-\\nantrieb insgesamt' ]].iloc[0:444,:]\n",
    "#set_index here?"
   ]
  },
  {
   "cell_type": "markdown",
   "metadata": {},
   "source": [
    "Some code to be able to match the list of cities (with NO2 exceedances) in with the cities of the KBA data: "
   ]
  },
  {
   "cell_type": "code",
   "execution_count": 17,
   "metadata": {},
   "outputs": [],
   "source": [
    "cities = df_cities.iloc[:,0].to_list()"
   ]
  },
  {
   "cell_type": "code",
   "execution_count": 18,
   "metadata": {},
   "outputs": [],
   "source": [
    "i = 0\n",
    "store_list = list()\n",
    "modified_list = list()\n",
    "for row, index in df_tot.iterrows(): \n",
    "    for city in cities:\n",
    "         if city.upper() in str(index[0]):\n",
    "                modified_list.append(str(index[0]))\n",
    "                store_list.append(city)\n",
    "        \n",
    "           "
   ]
  },
  {
   "cell_type": "code",
   "execution_count": 19,
   "metadata": {},
   "outputs": [],
   "source": [
    "#These cities are not found, need to check for consistency \n",
    "missing = (list(set(cities)-set(store_list)))"
   ]
  },
  {
   "cell_type": "code",
   "execution_count": 20,
   "metadata": {},
   "outputs": [],
   "source": [
    "for row, index in df_tot.iterrows(): \n",
    "    for city in missing: \n",
    "        if (city.split()[0]) in str(index[0]): \n",
    "            modified_list.append(str(index[0]))\n",
    "            store_list.append(city)"
   ]
  },
  {
   "cell_type": "markdown",
   "metadata": {},
   "source": [
    "These cities are not found in the data from KBA fz1 (so do not consider them for now): "
   ]
  },
  {
   "cell_type": "code",
   "execution_count": 21,
   "metadata": {},
   "outputs": [
    {
     "data": {
      "text/plain": [
       "['Leinfelden-Echterdingen', 'Pleidelsheim', 'Walzbachtal', 'Leonberg']"
      ]
     },
     "execution_count": 21,
     "metadata": {},
     "output_type": "execute_result"
    }
   ],
   "source": [
    "(list(set(cities)-set(store_list)))"
   ]
  },
  {
   "cell_type": "code",
   "execution_count": 22,
   "metadata": {},
   "outputs": [],
   "source": [
    "#Some of the citites are removed from the dataframe as they both are cities and regions\n",
    "modified_list.remove('08125  HEILBRONN                   ')\n",
    "modified_list.remove('09772  AUGSBURG                    ')\n",
    "modified_list.remove('06531  GIESSEN                     ')\n",
    "modified_list.remove('07339  MAINZ-BINGEN                ')\n",
    "modified_list.remove('14729  LEIPZIG                     ')\n",
    "modified_list.remove('07137  MAYEN-KOBLENZ               ')\n",
    "\n",
    " \n"
   ]
  },
  {
   "cell_type": "markdown",
   "metadata": {},
   "source": [
    "List of the 59 citites with driving bans found in fz1:\n",
    "-  from the 2019 updated list there are 67 cities \n",
    "-  remove the 4 that is green (NO2 values under limit) so far \n",
    "-  4 cities not found in fz1"
   ]
  },
  {
   "cell_type": "code",
   "execution_count": 24,
   "metadata": {},
   "outputs": [
    {
     "data": {
      "text/plain": [
       "['08111  STUTTGART,STADT             ',\n",
       " '08116  ESSLINGEN                   ',\n",
       " '08118  LUDWIGSBURG                 ',\n",
       " '08121  HEILBRONN,STADT             ',\n",
       " '08222  MANNHEIM,STADT              ',\n",
       " '08415  REUTLINGEN                  ',\n",
       " '09761  AUGSBURG,STADT              ',\n",
       " '11000  BERLIN                    ',\n",
       " '02000  HAMBURG                     ',\n",
       " '06411  DARMSTADT,STADT             ',\n",
       " '06412  FRANKFURT AM MAIN,STADT     ',\n",
       " '06413  OFFENBACH AM MAIN,STADT     ',\n",
       " '06414  WIESBADEN,STADT             ',\n",
       " '06531  GIESSEN                     ',\n",
       " '03241  HANNOVER                    ',\n",
       " '03254  HILDESHEIM                  ',\n",
       " '03458  OLDENBURG(OLDENBURG)        ',\n",
       " '03459  OSNABRUECK                  ',\n",
       " '05111  DUESSELDORF, STADT          ',\n",
       " '05112  DUISBURG,STADT              ',\n",
       " '05113  ESSEN,STADT                 ',\n",
       " '05116  MOENCHENGLADBACH,STADT      ',\n",
       " '05117  MUELHEIM A.D.RUHR,STADT     ',\n",
       " '05119  OBERHAUSEN,STADT            ',\n",
       " '05124  WUPPERTAL,STADT             ',\n",
       " '05162  NEUSS                       ',\n",
       " '05314  BONN,STADT                  ',\n",
       " '05315  KOELN,STADT                 ',\n",
       " '05316  LEVERKUSEN,STADT            ',\n",
       " '05334  AACHEN, STAEDTEREGION       ',\n",
       " '05362  RHEIN-ERFT-KREIS            ',\n",
       " '05513  GELSENKIRCHEN,STADT         ',\n",
       " '05562  RECKLINGHAUSEN              ',\n",
       " '05711  BIELEFELD,STADT             ',\n",
       " '05774  PADERBORN                   ',\n",
       " '05911  BOCHUM,STADT                ',\n",
       " '05913  DORTMUND,STADT              ',\n",
       " '05914  HAGEN,STADT                 ',\n",
       " '05916  HERNE,STADT                 ',\n",
       " '05970  SIEGEN-WITTGENSTEIN         ',\n",
       " '07111  KOBLENZ,STADT               ',\n",
       " '07315  MAINZ,STADT                 ',\n",
       " '14713  LEIPZIG, STADT              ',\n",
       " '15091  WITTENBERG                  ',\n",
       " '01002  KIEL,STADT                  ',\n",
       " '08115  BOEBLINGEN                  ',\n",
       " '08119  REMS-MURR-KREIS             ',\n",
       " '08135  HEIDENHEIM                  ',\n",
       " '08236  ENZKREIS                    ',\n",
       " '08311  FREIBURG I.BREISG.STADT     ',\n",
       " '08416  TUEBINGEN                   ',\n",
       " '09162  MUENCHEN,STADT              ',\n",
       " '09564  NUERNBERG,STADT             ',\n",
       " '06431  BERGSTRASSE                 ',\n",
       " '06533  LIMBURG-WEILBURG            ',\n",
       " '05170  WESEL                       ',\n",
       " '05358  DUEREN                      ',\n",
       " '05378  RHEIN.-BERGISCHER KREIS     ',\n",
       " '05978  UNNA                        ']"
      ]
     },
     "execution_count": 24,
     "metadata": {},
     "output_type": "execute_result"
    }
   ],
   "source": [
    "modified_list"
   ]
  },
  {
   "cell_type": "markdown",
   "metadata": {},
   "source": [
    "Filter out only the cities affected by diesel bans from the dataframes of total cars and calculate the number of cars <= euro 5:"
   ]
  },
  {
   "cell_type": "code",
   "execution_count": 44,
   "metadata": {},
   "outputs": [],
   "source": [
    "#Create dataframes only containing the relevant counties \n",
    "filter1 = df_diesel['Statistische Kennziffer und Zulassungsbezirk'].isin(modified_list)\n",
    "diesel_ban = df_diesel[filter1]\n",
    "petrol_ban = df_petrol[filter1]\n",
    "size_ban = df_size[filter1]\n",
    "\n",
    "#Setting index\n",
    "size_ban.set_index('Statistische Kennziffer und Zulassungsbezirk', inplace = True)\n",
    "diesel_ban.set_index('Statistische Kennziffer und Zulassungsbezirk', inplace = True)\n",
    "petrol_ban.set_index('Statistische Kennziffer und Zulassungsbezirk', inplace = True)"
   ]
  },
  {
   "cell_type": "markdown",
   "metadata": {},
   "source": [
    "The number of diesel cars <= euro 5 and <= euro 4 is: "
   ]
  },
  {
   "cell_type": "code",
   "execution_count": 47,
   "metadata": {
    "scrolled": true
   },
   "outputs": [
    {
     "name": "stdout",
     "output_type": "stream",
     "text": [
      "2575158.0\n",
      "1237060.0\n"
     ]
    }
   ],
   "source": [
    "print(sum(diesel_ban.iloc[:,0:5].sum(axis =1)))\n",
    "print(sum(diesel_ban.iloc[:,0:4].sum(axis =1)))\n",
    "\n"
   ]
  },
  {
   "cell_type": "code",
   "execution_count": 48,
   "metadata": {},
   "outputs": [
    {
     "data": {
      "text/plain": [
       "<matplotlib.axes._subplots.AxesSubplot at 0x1ce4c85c320>"
      ]
     },
     "execution_count": 48,
     "metadata": {},
     "output_type": "execute_result"
    },
    {
     "data": {
      "image/png": "[encoded data removed]",
      "text/plain": [
       "<Figure size 432x288 with 1 Axes>"
      ]
     },
     "metadata": {
      "needs_background": "light"
     },
     "output_type": "display_data"
    }
   ],
   "source": [
    "diesel_ban.iloc[:,0:5].sum(axis = 0).plot.barh(stacked = True)"
   ]
  },
  {
   "cell_type": "markdown",
   "metadata": {},
   "source": [
    "In some of the cities also petrol cars less than euro 2 or/and euro 1 is considered. \n",
    "Calculate the number of these cars and the share of them compared to diesel cars older or equal to euro 5: "
   ]
  },
  {
   "cell_type": "code",
   "execution_count": 52,
   "metadata": {},
   "outputs": [
    {
     "name": "stdout",
     "output_type": "stream",
     "text": [
      "1122444.0\n",
      "0.4358738376441368\n"
     ]
    }
   ],
   "source": [
    "print(sum(petrol_ban.iloc[:,0:2].sum(axis =1)))\n",
    "\n",
    "print(sum(petrol_ban.iloc[:,0:2].sum(axis =1))/sum(diesel_ban.iloc[:,0:5].sum(axis =1)))"
   ]
  },
  {
   "cell_type": "markdown",
   "metadata": {},
   "source": [
    "Need the size distribution in each of the cities with potential driving bans. \n",
    "The differences in size distribution are quite large among the counties: \n",
    "-  lowest share of small vehicles in München (26 %) and highest in Bochum (43 %) \n",
    "- lowest share of medium vehicles in Oberhausn (44 %) and highest in Bonn (53 %)\n",
    "- lowest share of large vehicles in Wittenberg (10 %) and highest in Stuttgart (23%)"
   ]
  },
  {
   "cell_type": "code",
   "execution_count": 53,
   "metadata": {},
   "outputs": [],
   "source": [
    "size_dist = list()\n",
    "for row, index in size_ban.iterrows(): \n",
    "    size_dist.append(index[0:3]/sum(index[0:3]))\n",
    "size_dist = pd.concat(size_dist, axis = 1).T    \n",
    "    #size_ban.set_index('Statistische Kennziffer und Zulassungsbezirk').iloc[:,1:4].sum(axis =1)"
   ]
  },
  {
   "cell_type": "code",
   "execution_count": null,
   "metadata": {},
   "outputs": [],
   "source": []
  },
  {
   "cell_type": "code",
   "execution_count": null,
   "metadata": {},
   "outputs": [],
   "source": [
    "print(list(zip(size_dist.idxmin(), size_dist.min())))\n",
    "print(list(zip(size_dist.idxmax(), size_dist.max())))"
   ]
  },
  {
   "cell_type": "markdown",
   "metadata": {},
   "source": [
    "Creating a dataframe with the euro class and size distribution of the old cars (this is only diesel cars). Have to assume the same size distribution across all emission concepts. "
   ]
  },
  {
   "cell_type": "code",
   "execution_count": null,
   "metadata": {},
   "outputs": [],
   "source": [
    "idx = 0\n",
    "keys_size = list(size_dist.iloc[1,:].index)\n",
    "df_list = list()\n",
    "for row, index in diesel_ban.iloc[:,0:5].iterrows(): \n",
    "    temp = [index*size_dist.iloc[idx,:].values[i] for i in [0,1,2]]\n",
    "    idx+=1\n",
    "    df = pd.concat(temp, axis = 1, keys = keys_size)\n",
    "    df_list.append(df)\n",
    "df_old = pd.concat(df_list, keys = diesel_ban.index)\n",
    "df_old.head(10)\n"
   ]
  },
  {
   "cell_type": "code",
   "execution_count": null,
   "metadata": {},
   "outputs": [],
   "source": [
    "index_list = list(df_old.groupby('Statistische Kennziffer und Zulassungsbezirk').sum().index)\n",
    "\n",
    "size_dist = pd.DataFrame([df_old.loc[index_list[i]].sum(axis = 0)/sum(df_old.loc[index_list[i]].sum(axis = 0)) for i in np.arange(len(index_list))])\n",
    "size_dist.index = index_list\n",
    "size_dist\n",
    "\n"
   ]
  },
  {
   "cell_type": "markdown",
   "metadata": {},
   "source": [
    "Want to compare to the national average, taken from Deutschland Igensamt from fz1:"
   ]
  },
  {
   "cell_type": "code",
   "execution_count": null,
   "metadata": {},
   "outputs": [],
   "source": [
    "df = pd.DataFrame(['Hubraum bis 1.399 cm³', '1.400 bis 1.999 cm³', '2.000 und mehr cm³'], [17081723, 23037827, 6885550]).reset_index().set_index(0)\n",
    "df = (df/df.sum(axis = 0)).T\n",
    "df.index = ['average']\n",
    "df.columns = size_dist.columns"
   ]
  },
  {
   "cell_type": "markdown",
   "metadata": {},
   "source": [
    "Want to see how the size distribution in each county compare to the national average in order to adjust the size distribution of the EV: "
   ]
  },
  {
   "cell_type": "code",
   "execution_count": null,
   "metadata": {},
   "outputs": [],
   "source": [
    "EV_adjust_size_dist = size_dist/df.values"
   ]
  },
  {
   "cell_type": "code",
   "execution_count": null,
   "metadata": {},
   "outputs": [],
   "source": [
    "a = [17081723, 23037827, 6885550]\n",
    "[a[i]/sum(a) for i in range(3)]"
   ]
  },
  {
   "cell_type": "markdown",
   "metadata": {},
   "source": [
    "The producm should be limited to less cars than 2 million (ref. program from 2009). Assume that all euro 4 cars will be involved and that the rest of the budget will be dedicated to some euro 5 cars: "
   ]
  },
  {
   "cell_type": "code",
   "execution_count": null,
   "metadata": {},
   "outputs": [],
   "source": [
    "#program limited to euro 4 and including some euro 5 for the rest of the budget\n",
    "share_euro5 = (2000000-sum(diesel_ban.iloc[:,0:4].sum(axis =1)))/(sum(diesel_ban.iloc[:,0:5].sum(axis =1))-sum(diesel_ban.iloc[:,0:4].sum(axis =1)))\n",
    "for row, index in df_old.iterrows(): \n",
    "    if 'Euro 5.1' in row: \n",
    "        df_old.loc[row] = df_old.loc[row]*share_euro5\n",
    "#    if 'Euro 4.1' in row: \n",
    "#        df_old.loc[row] = df_old.loc[row]*0\n",
    "        \n",
    "df_old"
   ]
  },
  {
   "cell_type": "code",
   "execution_count": 4,
   "metadata": {},
   "outputs": [
    {
     "ename": "NameError",
     "evalue": "name 'df_old' is not defined",
     "output_type": "error",
     "traceback": [
      "\u001b[1;31m---------------------------------------------------------------------------\u001b[0m",
      "\u001b[1;31mNameError\u001b[0m                                 Traceback (most recent call last)",
      "\u001b[1;32m<ipython-input-4-0dd65f55175e>\u001b[0m in \u001b[0;36m<module>\u001b[1;34m\u001b[0m\n\u001b[1;32m----> 1\u001b[1;33m \u001b[0mdf_old\u001b[0m\u001b[1;33m.\u001b[0m\u001b[0mgroupby\u001b[0m\u001b[1;33m(\u001b[0m\u001b[1;34m'Statistische Kennziffer und Zulassungsbezirk'\u001b[0m\u001b[1;33m)\u001b[0m\u001b[1;33m.\u001b[0m\u001b[0msum\u001b[0m\u001b[1;33m(\u001b[0m\u001b[1;33m)\u001b[0m\u001b[1;33m\u001b[0m\u001b[1;33m\u001b[0m\u001b[0m\n\u001b[0m",
      "\u001b[1;31mNameError\u001b[0m: name 'df_old' is not defined"
     ]
    }
   ],
   "source": [
    "df_old.groupby('Statistische Kennziffer und Zulassungsbezirk').sum()"
   ]
  },
  {
   "cell_type": "code",
   "execution_count": null,
   "metadata": {},
   "outputs": [],
   "source": [
    "sum(df_old.sum())"
   ]
  },
  {
   "cell_type": "markdown",
   "metadata": {},
   "source": [
    "If I want to limit the program to only euro 4 cars or euro 3 I can use this code: "
   ]
  },
  {
   "cell_type": "code",
   "execution_count": null,
   "metadata": {},
   "outputs": [],
   "source": [
    "#for row, index in df_old.iterrows(): \n",
    "#    if 'Euro 5.1' in row: \n",
    "#        df_old.loc[row] = df_old.loc[row]*0\n",
    "#    if 'Euro 4.1' in row: \n",
    "#        df_old.loc[row] = df_old.loc[row]*0\n",
    "        \n",
    "df_old"
   ]
  },
  {
   "cell_type": "markdown",
   "metadata": {},
   "source": [
    "Checking that the total number of cars from the dataframe diesel_ban equals the sum over all size classes "
   ]
  },
  {
   "cell_type": "code",
   "execution_count": null,
   "metadata": {},
   "outputs": [],
   "source": [
    "\n",
    "for i in np.arange(0,len(diesel_ban)): \n",
    "    if (sum(df_old.xs(diesel_ban.index[i], level = 0).sum(axis = 1)) == diesel_ban.iloc[:,0:5].sum(axis =1)[i]):\n",
    "        print(sum(df_old.xs(diesel_ban.index[i], level = 0).sum(axis = 1)) == diesel_ban.iloc[:,0:5].sum(axis =1)[i])\n",
    "    else: \n",
    "        print(diesel_ban.index[i])"
   ]
  },
  {
   "cell_type": "code",
   "execution_count": null,
   "metadata": {},
   "outputs": [],
   "source": [
    "#Can plot distribution of emission concepts and size for each county like this \n",
    "df_old.xs('08111  STUTTGART,STADT             ', level = 0).plot(kind = 'bar', stacked = True)"
   ]
  },
  {
   "cell_type": "code",
   "execution_count": null,
   "metadata": {},
   "outputs": [],
   "source": [
    "#plotting the number of vehicles \n",
    "ax = df_old.sum(axis = 0, level = 0).plot.barh(stacked = True, figsize = [10,20])\n",
    "ax.set(xlabel = 'number of vehicles', ylabel = '')"
   ]
  },
  {
   "cell_type": "code",
   "execution_count": null,
   "metadata": {},
   "outputs": [],
   "source": [
    "ax = df_old.sum(axis = 1).unstack().plot.barh(stacked = True, figsize = [10,20])\n",
    "ax.set(xlabel = 'number of vehicles', ylabel = '')"
   ]
  },
  {
   "cell_type": "markdown",
   "metadata": {},
   "source": [
    "## Analysing the size distribution of newly bought EV  "
   ]
  },
  {
   "cell_type": "markdown",
   "metadata": {},
   "source": [
    "To determine the size distribution of the new EVs in the program, data from a report of EVs bought under the current subsidy program is used (available from: https://www.bafa.de/SharedDocs/Downloads/DE/Energie/emob_zwischenbilanz.pdf?__blob=publicationFile&v=43).\n",
    "\n",
    "In addition the larger Teslas are accounted for (model X) (https://www.kba.de/DE/Statistik/Fahrzeuge/Neuzulassungen/MonatlicheNeuzulassungen/2018/2018_node.html, FZ10). \n",
    "The size classes are taken from the auto-umweltliste. \n",
    "\n",
    "As this data is available only for the Germany and not on county level it is assumed that the size distribution of the new EV cars are the same independent of the county (have seen from the data on the current stock that this may vary). \n"
   ]
  },
  {
   "cell_type": "code",
   "execution_count": null,
   "metadata": {},
   "outputs": [],
   "source": [
    "path = \"C:/Users/Andrea/OneDrive - NTNU/Attachments/PSI/jupyter/BEV program/emob_zwischenbilanz.xlsx\"\n",
    "\n",
    "df_size_dist = pd.read_excel(path, sheet_name = 'Only EV')"
   ]
  },
  {
   "cell_type": "code",
   "execution_count": null,
   "metadata": {},
   "outputs": [],
   "source": [
    "#Translating the EV vehicle sizes from auto-umweltliste etc. \n",
    "size_dict = {1: 'Mini', 2: 'Kleinwagen', 3: 'Untere Mittelklasse', 4: 'Mittelklasse', 5: 'Obere Mittelklasse', 6: 'Luxusklasse', 7: 'Sportswagen',  8: 'Cabriolet', 9: 'SUV', 10: 'Van', 11: 'Van' }"
   ]
  },
  {
   "cell_type": "code",
   "execution_count": null,
   "metadata": {},
   "outputs": [],
   "source": [
    "df_size_dist.replace({'Size class':size_dict}, inplace = True)"
   ]
  },
  {
   "cell_type": "code",
   "execution_count": null,
   "metadata": {},
   "outputs": [],
   "source": [
    "df_size_dist = df_size_dist[['Size class','Anzahl']].groupby('Size class').sum()"
   ]
  },
  {
   "cell_type": "code",
   "execution_count": 5,
   "metadata": {},
   "outputs": [
    {
     "ename": "NameError",
     "evalue": "name 'df_size_dist' is not defined",
     "output_type": "error",
     "traceback": [
      "\u001b[1;31m---------------------------------------------------------------------------\u001b[0m",
      "\u001b[1;31mNameError\u001b[0m                                 Traceback (most recent call last)",
      "\u001b[1;32m<ipython-input-5-d8bb9a882142>\u001b[0m in \u001b[0;36m<module>\u001b[1;34m\u001b[0m\n\u001b[1;32m----> 1\u001b[1;33m \u001b[0mdf_size_dist\u001b[0m\u001b[1;33m\u001b[0m\u001b[1;33m\u001b[0m\u001b[0m\n\u001b[0m",
      "\u001b[1;31mNameError\u001b[0m: name 'df_size_dist' is not defined"
     ]
    }
   ],
   "source": [
    "df_size_dist"
   ]
  },
  {
   "cell_type": "code",
   "execution_count": null,
   "metadata": {},
   "outputs": [],
   "source": [
    "df_size_dist = df_size_dist.append(df_size_dist.loc[['Lieferwagen', 'Kastenwagen', 'Pritschenwagen', 'Van']].sum(), \n",
    "                    ignore_index = True).drop([1,3,7,10])\n",
    "df_size_dist.index = ['Cabriolet', 'Kleinwagen', 'Luxusklasse', 'Medium', 'Mini', 'SUV', 'Untere Mittelklasse', 'Van']\n"
   ]
  },
  {
   "cell_type": "code",
   "execution_count": null,
   "metadata": {},
   "outputs": [],
   "source": [
    "df_size_dist = df_size_dist.append(df_size_dist.loc[['Cabriolet', 'SUV']].sum(), \n",
    "                    ignore_index = True).drop([0,5])\n",
    "df_size_dist.index = ['Kleinwagen', 'Luxusklasse', 'Medium', 'Mini', 'Untere Mittelklasse', 'Van', 'SUV']"
   ]
  },
  {
   "cell_type": "code",
   "execution_count": null,
   "metadata": {},
   "outputs": [],
   "source": [
    "#PSI size classes \n",
    "df_size_dist.index = ['Small', 'Large', 'Medium', 'Mini', 'Lower medium', 'Van', 'SUV']\n",
    "df_size_dist.plot.barh(stacked = True) \n",
    "df_size_dist/df_size_dist.sum()\n",
    "df_size_dist.sum()\n",
    "df_size_dist"
   ]
  },
  {
   "cell_type": "markdown",
   "metadata": {},
   "source": [
    "As the data on county level is available only for the rough motor division, I aggregate the 7 \"PSI\" size classes into the motor size vehicles classes as used in HBEFA. The link between motor size and vehicle size is done based on some example cars (can be found in an excel file somewhere...): "
   ]
  },
  {
   "cell_type": "code",
   "execution_count": null,
   "metadata": {},
   "outputs": [],
   "source": [
    "df_size_dist = df_size_dist.append(df_size_dist.loc[['Small', 'Mini']].sum(), \n",
    "                    ignore_index = True).drop([0,3])\n",
    "df_size_dist.index = ['Large', 'Medium', 'Lower medium', 'Van', 'SUV', 'Small']\n",
    "#df_size_dist = df_size_dist.append(df_size_dist.loc[[]])"
   ]
  },
  {
   "cell_type": "code",
   "execution_count": null,
   "metadata": {},
   "outputs": [],
   "source": [
    "df_size_dist = df_size_dist.append(df_size_dist.loc[['Lower medium','Van', 'Medium']].sum(), ignore_index = True).drop([1,2,3])\n",
    "df_size_dist.index = ['Large', 'SUV', 'Small', 'Medium']"
   ]
  },
  {
   "cell_type": "code",
   "execution_count": null,
   "metadata": {},
   "outputs": [],
   "source": [
    "df_size_dist = df_size_dist.append(df_size_dist.loc[['Large', 'SUV']].sum(), ignore_index = True).drop([0,1])\n",
    "df_size_dist.index = ['Small', 'Medium', 'Large']\n",
    "df_size_dist"
   ]
  },
  {
   "cell_type": "code",
   "execution_count": null,
   "metadata": {},
   "outputs": [],
   "source": [
    "size_share_EV = df_size_dist/df_size_dist.sum()\n",
    "size_share_EV['Anzahl']\n"
   ]
  },
  {
   "cell_type": "markdown",
   "metadata": {},
   "source": [
    "As I only have data on the aggregated national level I need to adjust the size share of EVs in each county, as I know from the stock data that this will differ depending on the county. Compare the size distribution in each county to the average and adjust the EV share accordingly, this is done in size_share_EV. Then I multiply the shares with the total number of cars traded in in each county. "
   ]
  },
  {
   "cell_type": "code",
   "execution_count": null,
   "metadata": {},
   "outputs": [],
   "source": [
    "df = pd.concat([size_share_EV.T]*59, ignore_index = True)\n",
    "df.index = index_list\n",
    "df.columns = EV_adjust_size_dist.columns\n",
    "size_share_EV = df*EV_adjust_size_dist\n",
    "#size_share_EV = df\n",
    "size_share_EV.columns = ['Small', 'Medium', 'Large']\n",
    "\n",
    "#Need to normalize so the percentages sum to 1\n",
    "size_share_EV = (size_share_EV/[size_share_EV.sum(axis = 1),size_share_EV.sum(axis = 1),size_share_EV.sum(axis = 1)])"
   ]
  },
  {
   "cell_type": "code",
   "execution_count": null,
   "metadata": {},
   "outputs": [],
   "source": [
    "df_new = pd.concat([size_share_EV.loc[county]*sum(df_old.loc[county].sum()) for county in index_list], axis = 1).T"
   ]
  },
  {
   "cell_type": "markdown",
   "metadata": {},
   "source": [
    "Seeing that when we adjust for the different size classes the change in size distribution/the effect of downsizing will be the same in all counties, and not larger in the counties where they originally drive big cars. "
   ]
  },
  {
   "cell_type": "code",
   "execution_count": null,
   "metadata": {},
   "outputs": [],
   "source": [
    "\n",
    "tst = size_share_EV/size_dist\n",
    "tst.iloc[0]/tst.iloc[2]"
   ]
  },
  {
   "cell_type": "code",
   "execution_count": 6,
   "metadata": {},
   "outputs": [
    {
     "ename": "NameError",
     "evalue": "name 'size_dist' is not defined",
     "output_type": "error",
     "traceback": [
      "\u001b[1;31m---------------------------------------------------------------------------\u001b[0m",
      "\u001b[1;31mNameError\u001b[0m                                 Traceback (most recent call last)",
      "\u001b[1;32m<ipython-input-6-7ed70dcc0ac7>\u001b[0m in \u001b[0;36m<module>\u001b[1;34m\u001b[0m\n\u001b[1;32m----> 1\u001b[1;33m \u001b[0msize_dist\u001b[0m\u001b[1;33m.\u001b[0m\u001b[0mcolumns\u001b[0m \u001b[1;33m=\u001b[0m \u001b[1;33m[\u001b[0m\u001b[1;34m'Small'\u001b[0m\u001b[1;33m,\u001b[0m \u001b[1;34m'Medium'\u001b[0m\u001b[1;33m,\u001b[0m \u001b[1;34m'Large'\u001b[0m\u001b[1;33m]\u001b[0m\u001b[1;33m\u001b[0m\u001b[1;33m\u001b[0m\u001b[0m\n\u001b[0m\u001b[0;32m      2\u001b[0m \u001b[0mpd\u001b[0m\u001b[1;33m.\u001b[0m\u001b[0mconcat\u001b[0m\u001b[1;33m(\u001b[0m\u001b[1;33m[\u001b[0m\u001b[0msize_share_EV\u001b[0m\u001b[1;33m,\u001b[0m \u001b[0msize_dist\u001b[0m\u001b[1;33m]\u001b[0m\u001b[1;33m,\u001b[0m \u001b[0mkeys\u001b[0m \u001b[1;33m=\u001b[0m \u001b[1;33m[\u001b[0m\u001b[1;34m'new'\u001b[0m\u001b[1;33m,\u001b[0m \u001b[1;34m'old'\u001b[0m\u001b[1;33m]\u001b[0m\u001b[1;33m)\u001b[0m\u001b[1;33m.\u001b[0m\u001b[0mreset_index\u001b[0m\u001b[1;33m(\u001b[0m\u001b[1;33m)\u001b[0m\u001b[1;33m.\u001b[0m\u001b[0mset_index\u001b[0m\u001b[1;33m(\u001b[0m\u001b[1;33m[\u001b[0m\u001b[1;34m'level_1'\u001b[0m\u001b[1;33m,\u001b[0m \u001b[1;34m'level_0'\u001b[0m\u001b[1;33m]\u001b[0m\u001b[1;33m)\u001b[0m\u001b[1;33m.\u001b[0m\u001b[0mto_excel\u001b[0m\u001b[1;33m(\u001b[0m\u001b[1;34m'output.xlsx'\u001b[0m\u001b[1;33m)\u001b[0m\u001b[1;33m\u001b[0m\u001b[1;33m\u001b[0m\u001b[0m\n",
      "\u001b[1;31mNameError\u001b[0m: name 'size_dist' is not defined"
     ]
    }
   ],
   "source": [
    "size_dist.columns = ['Small', 'Medium', 'Large']\n",
    "pd.concat([size_share_EV, size_dist], keys = ['new', 'old']).reset_index().set_index(['level_1', 'level_0']).to_excel('output.xlsx')"
   ]
  },
  {
   "cell_type": "code",
   "execution_count": null,
   "metadata": {},
   "outputs": [],
   "source": [
    "EV_adjust_size_dist"
   ]
  },
  {
   "cell_type": "code",
   "execution_count": null,
   "metadata": {},
   "outputs": [],
   "source": [
    "#Checking that the total number of new cars equals the total number of old cars in each county \n",
    "for i in np.arange(len(diesel_ban)): \n",
    "    #check if sum of old cars is not equal to sum of new cars\n",
    "    if (df_old.iloc[:,0:5].sum(axis =1).values[i]) != (df_new.sum(axis =1).values[i]): \n",
    "        #print the values and see that rounding error cause the differences \n",
    "        print(df_old.iloc[:,0:5].sum(axis =1).values[i])\n",
    "        print((df_old.sum(axis =1).values[i]))\n",
    "        \n",
    "       "
   ]
  },
  {
   "cell_type": "code",
   "execution_count": null,
   "metadata": {},
   "outputs": [],
   "source": [
    "\n",
    "df_plot = pd.concat([size_dist.loc['11000  BERLIN                    '],size_dist.loc['09162  MUENCHEN,STADT              '],size_dist.loc['05916  HERNE,STADT                 ']], axis = 1, keys = ['Berlin', 'Munich', 'Herne'])*100\n",
    "df_plot.index = ['Small', 'Medium', 'Large']\n",
    "ax = df_plot.T.plot.barh(stacked = True, figsize = [6,4] )\n",
    "ax.legend(bbox_to_anchor=(1.05, 1), loc=2, borderaxespad=0., fontsize = 10)\n",
    "ax.set_xlabel('Percentage', fontsize = 10)\n",
    "plt.tight_layout()\n",
    "plt.savefig('size distribution.svg', bbox_nches = 'tight')"
   ]
  },
  {
   "cell_type": "code",
   "execution_count": null,
   "metadata": {},
   "outputs": [],
   "source": [
    "\n",
    "tst = pd.DataFrame([df_old.loc[index_list[i]].sum(axis = 1)/sum(df_old.loc[index_list[i]].sum(axis = 1)) for i in np.arange(len(index_list))])\n",
    "tst.index = index_list\n",
    "tst.columns = ['Euro 1', 'Euro 2', 'Euro 3', 'Euro 4', 'Euro 5']\n",
    "df_plot=pd.concat([tst.loc['11000  BERLIN                    '],tst.loc['09162  MUENCHEN,STADT              '],tst.loc['05916  HERNE,STADT                 ']], axis = 1, keys = ['Berlin', 'Munich', 'Herne'])*100\n",
    "ax =df_plot.T.plot.barh(stacked = True, figsize = [5,3])\n",
    "ax.set_xlabel('Percentage')\n",
    "plt.tight_layout()\n",
    "ax.legend(bbox_to_anchor=(1.05, 1), loc=2, borderaxespad=0., fontsize = 10)\n",
    "plt.savefig('euro distribution.svg', bbox_inches = 'tight')"
   ]
  },
  {
   "cell_type": "markdown",
   "metadata": {},
   "source": [
    "## Annual VKT of old and new vehicles "
   ]
  },
  {
   "cell_type": "code",
   "execution_count": null,
   "metadata": {},
   "outputs": [],
   "source": [
    "euro_years = pd.DataFrame(['Euro 1.1', 'Euro 2.1', 'Euro 3.1', 'Euro 4.1', 'Euro 5.1'], [25.5, 22, 17, 12.5, 8]).reset_index().set_index(0)\n",
    "euro_years.columns = ['a']"
   ]
  },
  {
   "cell_type": "markdown",
   "metadata": {},
   "source": [
    "df_old.sum(axis =1)"
   ]
  },
  {
   "cell_type": "code",
   "execution_count": null,
   "metadata": {},
   "outputs": [],
   "source": [
    "tst = df_old.sum(axis=1).reset_index().set_index('level_1').groupby('level_1').sum()\n",
    "tst.columns = ['a']"
   ]
  },
  {
   "cell_type": "code",
   "execution_count": null,
   "metadata": {},
   "outputs": [],
   "source": [
    "(tst*euro_years).sum()/tst.sum()"
   ]
  },
  {
   "cell_type": "markdown",
   "metadata": {},
   "source": [
    "##### [act for act in bw.database('ecoinvent 3.5_cutoff') if 'aerobic digestion' in x['name']]"
   ]
  },
  {
   "cell_type": "code",
   "execution_count": null,
   "metadata": {},
   "outputs": [],
   "source": [
    "future = {'Euro 1': 0,'Euro 2': 1111,'Euro 3': 14239,'Euro 4': 81465,'Euro 5': 378548,'Euro 6': 3600070}\n",
    "future_df = pd.DataFrame(future.items())\n",
    "\n",
    "future_df.set_index(0, inplace = True)\n",
    "future_df.columns = ['2030']\n",
    "future_df.index.name = 'Emission concept'\n",
    "current = {'Euro 1': 15966,'Euro 2': 130734,'Euro 3': 380118,'Euro 4': 710242,'Euro 5': 1338098,'Euro 6': 1500274}\n",
    "current_df = pd.DataFrame(current.items())\n",
    "\n",
    "current_df.set_index(0, inplace = True)\n",
    "current_df.columns = ['2020']\n",
    "current_df.index.name = 'Emission concept'"
   ]
  },
  {
   "cell_type": "code",
   "execution_count": null,
   "metadata": {},
   "outputs": [],
   "source": [
    "tot = sum(future_df.sum())\n",
    "ax = pd.concat([current_df/tot*100, future_df/tot*100], axis = 1).T.plot.barh(stacked = True, figsize = [4,2])\n",
    "ax.legend(bbox_to_anchor=(1.05, 1), loc=2, borderaxespad=0., fontsize = 8)\n",
    "ax.set_xlabel('Percentage', fontsize = 9)\n",
    "plt.tight_layout()\n",
    "plt.savefig('euro stock scenarios.svg')"
   ]
  },
  {
   "cell_type": "code",
   "execution_count": null,
   "metadata": {},
   "outputs": [],
   "source": [
    "sum(future_df.sum())"
   ]
  },
  {
   "cell_type": "code",
   "execution_count": null,
   "metadata": {},
   "outputs": [],
   "source": [
    "sns.set_context(\"talk\")\n",
    "plt.figure(figsize=(1,1))\n",
    "df_old_plot = df_old.groupby('Statistische Kennziffer und Zulassungsbezirk').sum(axis = 1).sum()\n",
    "df_old_plot.index = ['Small', 'Medium', 'Large']\n",
    "ax = pd.concat([df_old_plot/1000000, df_new.sum()/1000000], keys= ['old', 'new']).unstack().plot.bar(stacked = True,rot = 0)\n",
    "ax.legend(bbox_to_anchor=(1.05, 1), loc=2, borderaxespad=0)\n",
    "ax.set_ylabel('Million cars')\n",
    "#plt.tight_layout()\n",
    "from matplotlib.ticker import FormatStrFormatter\n",
    "\n",
    "\n",
    "ax.yaxis.set_major_formatter(FormatStrFormatter('%.1f'))\n",
    "plt.savefig('vehicles exchanged BEV.svg', bbox_inches = 'tight')"
   ]
  },
  {
   "cell_type": "code",
   "execution_count": 7,
   "metadata": {},
   "outputs": [
    {
     "ename": "NameError",
     "evalue": "name 'df_old' is not defined",
     "output_type": "error",
     "traceback": [
      "\u001b[1;31m---------------------------------------------------------------------------\u001b[0m",
      "\u001b[1;31mNameError\u001b[0m                                 Traceback (most recent call last)",
      "\u001b[1;32m<ipython-input-7-d295cf87a9d2>\u001b[0m in \u001b[0;36m<module>\u001b[1;34m\u001b[0m\n\u001b[1;32m----> 1\u001b[1;33m \u001b[0mdf_eurodist_plot\u001b[0m \u001b[1;33m=\u001b[0m \u001b[0mdf_old\u001b[0m\u001b[1;33m.\u001b[0m\u001b[0msum\u001b[0m\u001b[1;33m(\u001b[0m\u001b[0maxis\u001b[0m \u001b[1;33m=\u001b[0m \u001b[1;36m1\u001b[0m\u001b[1;33m)\u001b[0m\u001b[1;33m.\u001b[0m\u001b[0mreset_index\u001b[0m\u001b[1;33m(\u001b[0m\u001b[1;33m)\u001b[0m\u001b[1;33m.\u001b[0m\u001b[0mgroupby\u001b[0m\u001b[1;33m(\u001b[0m\u001b[1;34m'level_1'\u001b[0m\u001b[1;33m)\u001b[0m\u001b[1;33m.\u001b[0m\u001b[0msum\u001b[0m\u001b[1;33m(\u001b[0m\u001b[1;33m)\u001b[0m\u001b[1;33m\u001b[0m\u001b[1;33m\u001b[0m\u001b[0m\n\u001b[0m\u001b[0;32m      2\u001b[0m \u001b[0mdf_eurodist_plot\u001b[0m\u001b[1;33m.\u001b[0m\u001b[0mindex\u001b[0m \u001b[1;33m=\u001b[0m \u001b[1;33m[\u001b[0m\u001b[1;34m'Euro 1'\u001b[0m\u001b[1;33m,\u001b[0m \u001b[1;34m'Euro 2'\u001b[0m\u001b[1;33m,\u001b[0m \u001b[1;34m'Euro 3'\u001b[0m\u001b[1;33m,\u001b[0m \u001b[1;34m'Euro 4'\u001b[0m\u001b[1;33m,\u001b[0m \u001b[1;34m'Euro 5'\u001b[0m\u001b[1;33m]\u001b[0m\u001b[1;33m\u001b[0m\u001b[1;33m\u001b[0m\u001b[0m\n\u001b[0;32m      3\u001b[0m \u001b[0mdf_eurodist_plot\u001b[0m\u001b[1;33m.\u001b[0m\u001b[0mcolumns\u001b[0m \u001b[1;33m=\u001b[0m \u001b[1;33m[\u001b[0m\u001b[1;34m''\u001b[0m\u001b[1;33m]\u001b[0m\u001b[1;33m\u001b[0m\u001b[1;33m\u001b[0m\u001b[0m\n\u001b[0;32m      4\u001b[0m \u001b[0mdf_eurodist_plot\u001b[0m\u001b[1;33m.\u001b[0m\u001b[0mplot\u001b[0m\u001b[1;33m.\u001b[0m\u001b[0mpie\u001b[0m\u001b[1;33m(\u001b[0m\u001b[0msubplots\u001b[0m \u001b[1;33m=\u001b[0m \u001b[1;32mTrue\u001b[0m\u001b[1;33m,\u001b[0m \u001b[0mlegend\u001b[0m \u001b[1;33m=\u001b[0m \u001b[1;32mNone\u001b[0m\u001b[1;33m,\u001b[0m \u001b[0mfigsize\u001b[0m \u001b[1;33m=\u001b[0m \u001b[1;33m[\u001b[0m\u001b[1;36m4\u001b[0m\u001b[1;33m,\u001b[0m\u001b[1;36m4\u001b[0m\u001b[1;33m]\u001b[0m\u001b[1;33m,\u001b[0m \u001b[0mfontsize\u001b[0m \u001b[1;33m=\u001b[0m \u001b[1;36m10\u001b[0m\u001b[1;33m)\u001b[0m\u001b[1;33m\u001b[0m\u001b[1;33m\u001b[0m\u001b[0m\n\u001b[0;32m      5\u001b[0m \u001b[0mplt\u001b[0m\u001b[1;33m.\u001b[0m\u001b[0mtight_layout\u001b[0m\u001b[1;33m(\u001b[0m\u001b[1;33m)\u001b[0m\u001b[1;33m\u001b[0m\u001b[1;33m\u001b[0m\u001b[0m\n",
      "\u001b[1;31mNameError\u001b[0m: name 'df_old' is not defined"
     ]
    }
   ],
   "source": [
    "df_eurodist_plot = df_old.sum(axis = 1).reset_index().groupby('level_1').sum()\n",
    "df_eurodist_plot.index = ['Euro 1', 'Euro 2', 'Euro 3', 'Euro 4', 'Euro 5']\n",
    "df_eurodist_plot.columns = ['']\n",
    "df_eurodist_plot.plot.pie(subplots = True, legend = None, figsize = [4,4], fontsize = 10)\n",
    "plt.tight_layout()\n",
    "plt.savefig('euro dist BEV program.svg')"
   ]
  },
  {
   "cell_type": "code",
   "execution_count": null,
   "metadata": {},
   "outputs": [],
   "source": [
    "df_old.sum(axis = 1).loc[]"
   ]
  },
  {
   "cell_type": "code",
   "execution_count": null,
   "metadata": {},
   "outputs": [],
   "source": [
    "path = \"C:/Users/Andrea/OneDrive - NTNU/Attachments/PSI/jupyter/BEV program/survival_results_BEV.xlsx\"\n",
    "df = pd.read_excel(path, sheet_name = 'Ark1', header = 1)"
   ]
  },
  {
   "cell_type": "code",
   "execution_count": null,
   "metadata": {},
   "outputs": [],
   "source": [
    "\n",
    "plt.figure(figsize=(1,1))\n",
    "ax = df.T.plot.line()\n",
    "ax.grid (False)\n",
    "#ax.legend(markerscale=0)\n",
    "#ax.legend(['alpha = 1\\n beta = 2.1'], markerscale = 0)\n",
    "legend = plt.legend(['alpha=14.1\\nbeta=2.1'], handletextpad=-2.0, handlelength=0, fontsize = 14)\n",
    "ax.set_xlim(0,33)#\n",
    "plt.savefig('survival curve.svg', bbox_inches = 'tight')"
   ]
  },
  {
   "cell_type": "code",
   "execution_count": null,
   "metadata": {},
   "outputs": [],
   "source": [
    "databases"
   ]
  },
  {
   "cell_type": "code",
   "execution_count": null,
   "metadata": {},
   "outputs": [],
   "source": []
  }
 ],
 "metadata": {
  "kernelspec": {
   "display_name": "Python 3",
   "language": "python",
   "name": "python3"
  },
  "language_info": {
   "codemirror_mode": {
    "name": "ipython",
    "version": 3
   },
   "file_extension": ".py",
   "mimetype": "text/x-python",
   "name": "python",
   "nbconvert_exporter": "python",
   "pygments_lexer": "ipython3",
   "version": "3.6.8"
  }
 },
 "nbformat": 4,
 "nbformat_minor": 2
}
