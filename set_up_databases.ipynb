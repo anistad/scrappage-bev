{
 "cells": [
  {
   "cell_type": "markdown",
   "metadata": {},
   "source": [
    "# Reading in databases and LCI \n",
    "\n",
    "This notebook set up the project and import and create the necessary databases. "
   ]
  },
  {
   "cell_type": "code",
   "execution_count": 1,
   "metadata": {},
   "outputs": [
    {
     "data": {
      "text/html": [
       "<style>.container { width:100% !important; }</style>"
      ],
      "text/plain": [
       "<IPython.core.display.HTML object>"
      ]
     },
     "execution_count": 1,
     "metadata": {},
     "output_type": "execute_result"
    }
   ],
   "source": [
    "from IPython.core.display import HTML\n",
    "HTML(\"<style>.container { width:100% !important; }</style>\")"
   ]
  },
  {
   "cell_type": "code",
   "execution_count": 1,
   "metadata": {},
   "outputs": [],
   "source": [
    "from matplotlib import pyplot as plt\n",
    "from brightway2 import * \n",
    "import numpy as np\n",
    "import seaborn as sns\n",
    "import pandas as pd\n",
    "\n",
    "projects.set_current(\"scrappage programs\")"
   ]
  },
  {
   "cell_type": "markdown",
   "metadata": {},
   "source": [
    "Importing the biosphere matrix and ecoinvent:"
   ]
  },
  {
   "cell_type": "code",
   "execution_count": 5,
   "metadata": {},
   "outputs": [
    {
     "name": "stdout",
     "output_type": "stream",
     "text": [
      "Creating default biosphere\n",
      "\n"
     ]
    },
    {
     "name": "stderr",
     "output_type": "stream",
     "text": [
      "Writing activities to SQLite3 database:\n"
     ]
    },
    {
     "name": "stdout",
     "output_type": "stream",
     "text": [
      "Applying strategy: normalize_units\n",
      "Applying strategy: drop_unspecified_subcategories\n",
      "Applied 2 strategies in 0.00 seconds\n"
     ]
    },
    {
     "name": "stderr",
     "output_type": "stream",
     "text": [
      "0% [##############################] 100% | ETA: 00:00:00\n",
      "Total time elapsed: 00:00:00\n"
     ]
    },
    {
     "name": "stdout",
     "output_type": "stream",
     "text": [
      "Title: Writing activities to SQLite3 database:\n",
      "  Started: 07/08/2019 16:54:00\n",
      "  Finished: 07/08/2019 16:54:00\n",
      "  Total time elapsed: 00:00:00\n",
      "  CPU %: 88.00\n",
      "  Memory %: 1.82\n",
      "Created database: biosphere3\n",
      "Creating default LCIA methods\n",
      "\n",
      "Applying strategy: normalize_units\n",
      "Applying strategy: set_biosphere_type\n",
      "Applying strategy: drop_unspecified_subcategories\n",
      "Applying strategy: link_iterable_by_fields\n",
      "Applied 4 strategies in 2.04 seconds\n",
      "Wrote 850 LCIA methods with 220699 characterization factors\n",
      "Creating core data migrations\n",
      "\n"
     ]
    }
   ],
   "source": [
    "bw2setup()"
   ]
  },
  {
   "cell_type": "code",
   "execution_count": 3,
   "metadata": {},
   "outputs": [
    {
     "name": "stdout",
     "output_type": "stream",
     "text": [
      "Database has already been imported\n"
     ]
    }
   ],
   "source": [
    "fpei33 = \"C:/Users/nistad_a/datasets\"\n",
    "\n",
    "if 'ecoinvent 3.5 cutoff' in databases:\n",
    "    print(\"Database has already been imported\")\n",
    "else:\n",
    "    ei33 = SingleOutputEcospold2Importer(fpei33, 'ecoinvent 3.5 cutoff')\n",
    "    ei33.apply_strategies()\n",
    "    ei33.statistics()"
   ]
  },
  {
   "cell_type": "code",
   "execution_count": 13,
   "metadata": {},
   "outputs": [
    {
     "name": "stderr",
     "output_type": "stream",
     "text": [
      "Writing activities to SQLite3 database:\n",
      "0% [##############################] 100% | ETA: 00:00:00\n",
      "Total time elapsed: 00:02:18\n"
     ]
    },
    {
     "name": "stdout",
     "output_type": "stream",
     "text": [
      "Title: Writing activities to SQLite3 database:\n",
      "  Started: 07/08/2019 17:10:30\n",
      "  Finished: 07/08/2019 17:12:48\n",
      "  Total time elapsed: 00:02:18\n",
      "  CPU %: 74.40\n",
      "  Memory %: 18.11\n",
      "Created database: ecoinvent 3.5 cutoff\n"
     ]
    },
    {
     "data": {
      "text/plain": [
       "Brightway2 SQLiteBackend: ecoinvent 3.5 cutoff"
      ]
     },
     "execution_count": 13,
     "metadata": {},
     "output_type": "execute_result"
    }
   ],
   "source": [
    "ei33.write_database()"
   ]
  },
  {
   "cell_type": "code",
   "execution_count": 2,
   "metadata": {},
   "outputs": [
    {
     "data": {
      "text/plain": [
       "Databases dictionary with 12 object(s):\n",
       "\tAdditional datasets\n",
       "\tCurrent cars\n",
       "\tbiosphere3\n",
       "\tecoinvent 3.5 cutoff\n",
       "\teuro 0\n",
       "\teuro 1\n",
       "\teuro 2\n",
       "\teuro 3\n",
       "\teuro 4\n",
       "\teuro 5\n",
       "\teuro 6\n",
       "\tpre euro 0"
      ]
     },
     "execution_count": 2,
     "metadata": {},
     "output_type": "execute_result"
    }
   ],
   "source": [
    "databases"
   ]
  },
  {
   "cell_type": "markdown",
   "metadata": {
    "collapsed": true
   },
   "source": [
    "Read in inventory and create databases for all cars: "
   ]
  },
  {
   "cell_type": "code",
   "execution_count": 3,
   "metadata": {},
   "outputs": [
    {
     "name": "stdout",
     "output_type": "stream",
     "text": [
      "Extracted 2 worksheets in 0.17 seconds\n",
      "Applying strategy: csv_restore_tuples\n",
      "Applying strategy: csv_restore_booleans\n",
      "Applying strategy: csv_numerize\n",
      "Applying strategy: csv_drop_unknown\n",
      "Applying strategy: csv_add_missing_exchanges_section\n",
      "Applying strategy: normalize_units\n",
      "Applying strategy: normalize_biosphere_categories\n",
      "Applying strategy: normalize_biosphere_names\n",
      "Applying strategy: strip_biosphere_exc_locations\n",
      "Applying strategy: set_code_by_activity_hash\n",
      "Applying strategy: link_iterable_by_fields\n",
      "Applying strategy: assign_only_product_as_production\n",
      "Applying strategy: link_technosphere_by_activity_hash\n",
      "Applying strategy: drop_falsey_uncertainty_fields_but_keep_zeros\n",
      "Applying strategy: convert_uncertainty_types_to_integers\n",
      "Applying strategy: convert_activity_parameters_to_list\n",
      "Applied 16 strategies in 0.53 seconds\n"
     ]
    }
   ],
   "source": [
    "filepath = \"./data/inventory\"\n",
    "filepath+=\"/lci-battery-glider\"\n",
    "filepath+=\".xlsx\"\n",
    "\n",
    "imp = ExcelImporter(filepath)\n",
    "imp.apply_strategies()\n",
    "imp.match_database(fields=('name', 'unit', 'location'))\n",
    "\n",
    "imp.match_database(\"ecoinvent 3.5 cutoff\", fields=('name', 'unit', 'location'))\n",
    "imp.statistics()\n",
    "imp.write_database()"
   ]
  },
  {
   "cell_type": "code",
   "execution_count": 4,
   "metadata": {},
   "outputs": [],
   "source": [
    "def lci_euro_to_db(euro_class):\n",
    "    filepath = \"./data/inventory/lci-\"\n",
    "    filepath+=euro_class\n",
    "    filepath+=\".xlsx\"\n",
    "    print(filepath)\n",
    "\n",
    "    imp = ExcelImporter(filepath)\n",
    "    imp.apply_strategies()\n",
    "    imp.match_database(fields=('name', 'unit', 'location'))\n",
    "\n",
    "    imp.match_database(\"Additional datasets\", fields=('name', 'unit', 'location'))\n",
    "    #imp.match_database(\"Additional datasets region\", fields=('name', 'unit', 'location'))\n",
    "    imp.match_database(\"ecoinvent 3.5 cutoff\", fields=('name', 'unit', 'location'))\n",
    "    imp.statistics()\n",
    "\n",
    "    if imp.statistics()[-1] == 0: \n",
    "        imp.write_database()"
   ]
  },
  {
   "cell_type": "code",
   "execution_count": 5,
   "metadata": {},
   "outputs": [
    {
     "name": "stdout",
     "output_type": "stream",
     "text": [
      "./data/inventory/lci-euro0.xlsx\n",
      "Extracted 1 worksheets in 0.08 seconds\n",
      "Applying strategy: csv_restore_tuples\n",
      "Applying strategy: csv_restore_booleans\n",
      "Applying strategy: csv_numerize\n",
      "Applying strategy: csv_drop_unknown\n",
      "Applying strategy: csv_add_missing_exchanges_section\n",
      "Applying strategy: normalize_units\n",
      "Applying strategy: normalize_biosphere_categories\n",
      "Applying strategy: normalize_biosphere_names\n",
      "Applying strategy: strip_biosphere_exc_locations\n",
      "Applying strategy: set_code_by_activity_hash\n",
      "Applying strategy: link_iterable_by_fields\n",
      "Applying strategy: assign_only_product_as_production\n",
      "Applying strategy: link_technosphere_by_activity_hash\n",
      "Applying strategy: drop_falsey_uncertainty_fields_but_keep_zeros\n",
      "Applying strategy: convert_uncertainty_types_to_integers\n",
      "Applying strategy: convert_activity_parameters_to_list\n",
      "Applied 16 strategies in 0.40 seconds\n",
      "Applying strategy: link_iterable_by_fields\n",
      "Applying strategy: link_iterable_by_fields\n",
      "Applying strategy: link_iterable_by_fields\n",
      "14 datasets\n",
      "336 exchanges\n",
      "0 unlinked exchanges\n",
      "  \n",
      "14 datasets\n",
      "336 exchanges\n",
      "0 unlinked exchanges\n",
      "  \n"
     ]
    },
    {
     "name": "stderr",
     "output_type": "stream",
     "text": [
      "Writing activities to SQLite3 database:\n",
      "0% [##############] 100% | ETA: 00:00:00\n",
      "Total time elapsed: 00:00:00\n"
     ]
    },
    {
     "name": "stdout",
     "output_type": "stream",
     "text": [
      "Title: Writing activities to SQLite3 database:\n",
      "  Started: 07/09/2019 09:29:29\n",
      "  Finished: 07/09/2019 09:29:29\n",
      "  Total time elapsed: 00:00:00\n",
      "  CPU %: 81.80\n",
      "  Memory %: 2.12\n",
      "Created database: euro 0\n"
     ]
    }
   ],
   "source": [
    "euro_classes_to_db = [\"preeuro0\", \"euro0\", \"euro1\", \"euro2\", \"euro3\", \"euro4\", \"euro5\", \"euro6\", \"currentcars\"]\n",
    "for euro_class in euro_classes_to_db: \n",
    "    lci_euro_to_db(euro_class)"
   ]
  },
  {
   "cell_type": "code",
   "execution_count": 6,
   "metadata": {},
   "outputs": [
    {
     "data": {
      "text/plain": [
       "Databases dictionary with 12 object(s):\n",
       "\tAdditional datasets\n",
       "\tCurrent cars\n",
       "\tbiosphere3\n",
       "\tecoinvent 3.5 cutoff\n",
       "\teuro 0\n",
       "\teuro 1\n",
       "\teuro 2\n",
       "\teuro 3\n",
       "\teuro 4\n",
       "\teuro 5\n",
       "\teuro 6\n",
       "\tpre euro 0"
      ]
     },
     "execution_count": 6,
     "metadata": {},
     "output_type": "execute_result"
    }
   ],
   "source": [
    "databases"
   ]
  },
  {
   "cell_type": "markdown",
   "metadata": {},
   "source": [
    "Know that something is wrong with the biogas in electricity production in the current version of ecoinvent - so change this: "
   ]
  },
  {
   "cell_type": "code",
   "execution_count": 11,
   "metadata": {},
   "outputs": [],
   "source": [
    "act = [x for x in Database(\"ecoinvent 3.5 cutoff\") if \"anaerobic digestion of manure\" in x['name']]"
   ]
  },
  {
   "cell_type": "code",
   "execution_count": 24,
   "metadata": {},
   "outputs": [
    {
     "name": "stdout",
     "output_type": "stream",
     "text": [
      "0.0009\n"
     ]
    }
   ],
   "source": [
    "ammonia = [exc for exc in act[1].biosphere() if 'Ammonia' in exc['name']][0]\n",
    "print(ammonia['amount'])\n",
    "ammonia['amount'] = 0.0009 \n",
    "ammonia.save()\n"
   ]
  }
 ],
 "metadata": {
  "kernelspec": {
   "display_name": "Python 3",
   "language": "python",
   "name": "python3"
  },
  "language_info": {
   "codemirror_mode": {
    "name": "ipython",
    "version": 3
   },
   "file_extension": ".py",
   "mimetype": "text/x-python",
   "name": "python",
   "nbconvert_exporter": "python",
   "pygments_lexer": "ipython3",
   "version": "3.6.8"
  },
  "toc": {
   "colors": {
    "hover_highlight": "#DAA520",
    "running_highlight": "#FF0000",
    "selected_highlight": "#FFD700"
   },
   "moveMenuLeft": true,
   "nav_menu": {
    "height": "31px",
    "width": "252px"
   },
   "navigate_menu": true,
   "number_sections": true,
   "sideBar": true,
   "threshold": 4,
   "toc_cell": false,
   "toc_section_display": "block",
   "toc_window_display": false,
   "widenNotebook": false
  }
 },
 "nbformat": 4,
 "nbformat_minor": 1
}
